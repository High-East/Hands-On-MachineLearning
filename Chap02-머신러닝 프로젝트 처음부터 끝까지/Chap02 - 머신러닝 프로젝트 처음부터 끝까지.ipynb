{
 "cells": [
  {
   "cell_type": "markdown",
   "metadata": {},
   "source": [
    "<img src=\"http://image.yes24.com/momo/TopCate1829/MidCate004/182839873.JPG\" width=50%>\n",
    "\n",
    "> 작성자 : BOAZ 12기 분석 [성민석(Minsuk Sung)](https://github.com/mssung94)  \n",
    "> 연락처 : mssung94@gmail.com  \n",
    "> GitHub : https://github.com/mssung94/Hands-On-MachineLearning\n",
    "\n",
    "> 본 내용은 **대학생 빅데이터 동아리 `BOAZ`의 핸즈온 머신러닝 스터디 (머신러닝 파트) 자료**입니다. **상업적인 목적으로 사용하는 것은 절대로 금합니다.**\n",
    "\n",
    "> 모든 내용은 `핸즈온 머신러닝(Hands-On Machine Learning with Scikit-Learn & Tensorflow),한빛미디어`을 참고하여 만들어졌으며, 책의 내용에 대한 모든 저작권은 `한빛미디어`에게 있음을 미리 밝힙니다. 또한 여기에 사용된 코드는 [한빛미디어에서 제공해준 GitHub](https://github.com/rickiepark/handson-ml)과 [ExcelsiorCJH님의 GitHub](https://github.com/ExcelsiorCJH/Hands-On-ML)을 바탕으로 재구성하였습니다.\n",
    "\n",
    "한빛미디어 홈페이지 : http://www.hanbit.co.kr/store/books/look.php?p_code=B9267655530  \n",
    "핸즈온 머신러닝 GitHub : https://github.com/rickiepark/handson-ml"
   ]
  },
  {
   "cell_type": "code",
   "execution_count": 1,
   "metadata": {
    "ExecuteTime": {
     "end_time": "2020-01-26T00:44:34.865740Z",
     "start_time": "2020-01-26T00:44:32.957863Z"
    }
   },
   "outputs": [],
   "source": [
    "import os\n",
    "import matplotlib\n",
    "import matplotlib.pyplot as plt\n",
    "import numpy as np\n",
    "import pandas as pd\n",
    "import seaborn as sns\n",
    "\n",
    "# 일관된 출력을 위해 유사난수 초기화\n",
    "np.random.seed(42)\n",
    "\n",
    "sns.set()\n",
    "plt.rcParams['axes.labelsize'] = 14\n",
    "plt.rcParams['xtick.labelsize'] = 12\n",
    "plt.rcParams['ytick.labelsize'] = 12\n",
    "\n",
    "%matplotlib inline\n",
    "\n",
    "# 한글출력\n",
    "matplotlib.rc('font', family='AppleGothic')\n",
    "plt.rcParams['axes.unicode_minus'] = False"
   ]
  },
  {
   "cell_type": "markdown",
   "metadata": {},
   "source": [
    "# 머신러닝 프로젝트 처음부터 끝까지"
   ]
  },
  {
   "cell_type": "markdown",
   "metadata": {
    "toc": true
   },
   "source": [
    "<h1>강의 내용<span class=\"tocSkip\"></span></h1>\n",
    "<div class=\"toc\"><ul class=\"toc-item\"><li><span><a href=\"#머신러닝-프로젝트-처음부터-끝까지\" data-toc-modified-id=\"머신러닝-프로젝트-처음부터-끝까지-2\"><span class=\"toc-item-num\">2&nbsp;&nbsp;</span>머신러닝 프로젝트 처음부터 끝까지</a></span><ul class=\"toc-item\"><li><span><a href=\"#실제-데이터로-작업하기\" data-toc-modified-id=\"실제-데이터로-작업하기-2.1\"><span class=\"toc-item-num\">2.1&nbsp;&nbsp;</span>실제 데이터로 작업하기</a></span></li><li><span><a href=\"#큰-그림-보기\" data-toc-modified-id=\"큰-그림-보기-2.2\"><span class=\"toc-item-num\">2.2&nbsp;&nbsp;</span>큰 그림 보기</a></span><ul class=\"toc-item\"><li><span><a href=\"#문제-정의\" data-toc-modified-id=\"문제-정의-2.2.1\"><span class=\"toc-item-num\">2.2.1&nbsp;&nbsp;</span>문제 정의</a></span></li><li><span><a href=\"#성능-측정-지표-선택\" data-toc-modified-id=\"성능-측정-지표-선택-2.2.2\"><span class=\"toc-item-num\">2.2.2&nbsp;&nbsp;</span>성능 측정 지표 선택</a></span></li><li><span><a href=\"#가정-검사\" data-toc-modified-id=\"가정-검사-2.2.3\"><span class=\"toc-item-num\">2.2.3&nbsp;&nbsp;</span>가정 검사</a></span></li></ul></li><li><span><a href=\"#데이터-가져오기\" data-toc-modified-id=\"데이터-가져오기-2.3\"><span class=\"toc-item-num\">2.3&nbsp;&nbsp;</span>데이터 가져오기</a></span><ul class=\"toc-item\"><li><span><a href=\"#작업환경-만들기\" data-toc-modified-id=\"작업환경-만들기-2.3.1\"><span class=\"toc-item-num\">2.3.1&nbsp;&nbsp;</span>작업환경 만들기</a></span></li><li><span><a href=\"#데이터-다운로드\" data-toc-modified-id=\"데이터-다운로드-2.3.2\"><span class=\"toc-item-num\">2.3.2&nbsp;&nbsp;</span>데이터 다운로드</a></span></li><li><span><a href=\"#데이터-구조-훑어보기\" data-toc-modified-id=\"데이터-구조-훑어보기-2.3.3\"><span class=\"toc-item-num\">2.3.3&nbsp;&nbsp;</span>데이터 구조 훑어보기</a></span></li><li><span><a href=\"#테스트-세트-만들기\" data-toc-modified-id=\"테스트-세트-만들기-2.3.4\"><span class=\"toc-item-num\">2.3.4&nbsp;&nbsp;</span>테스트 세트 만들기</a></span></li></ul></li><li><span><a href=\"#데이터-이해를-위한-탐색과-시각화\" data-toc-modified-id=\"데이터-이해를-위한-탐색과-시각화-2.4\"><span class=\"toc-item-num\">2.4&nbsp;&nbsp;</span>데이터 이해를 위한 탐색과 시각화</a></span><ul class=\"toc-item\"><li><span><a href=\"#지리적-데이터-시각화\" data-toc-modified-id=\"지리적-데이터-시각화-2.4.1\"><span class=\"toc-item-num\">2.4.1&nbsp;&nbsp;</span>지리적 데이터 시각화</a></span></li><li><span><a href=\"#상관관계-조사\" data-toc-modified-id=\"상관관계-조사-2.4.2\"><span class=\"toc-item-num\">2.4.2&nbsp;&nbsp;</span>상관관계 조사</a></span></li><li><span><a href=\"#특성-조합으로-실험\" data-toc-modified-id=\"특성-조합으로-실험-2.4.3\"><span class=\"toc-item-num\">2.4.3&nbsp;&nbsp;</span>특성 조합으로 실험</a></span></li></ul></li><li><span><a href=\"#머신러닝-알고리즘을-위한-데이터-준비\" data-toc-modified-id=\"머신러닝-알고리즘을-위한-데이터-준비-2.5\"><span class=\"toc-item-num\">2.5&nbsp;&nbsp;</span>머신러닝 알고리즘을 위한 데이터 준비</a></span><ul class=\"toc-item\"><li><span><a href=\"#데이터-정제\" data-toc-modified-id=\"데이터-정제-2.5.1\"><span class=\"toc-item-num\">2.5.1&nbsp;&nbsp;</span>데이터 정제</a></span></li><li><span><a href=\"#텍스트와-범주형-특성-다루기\" data-toc-modified-id=\"텍스트와-범주형-특성-다루기-2.5.2\"><span class=\"toc-item-num\">2.5.2&nbsp;&nbsp;</span>텍스트와 범주형 특성 다루기</a></span></li><li><span><a href=\"#나만의-변환기\" data-toc-modified-id=\"나만의-변환기-2.5.3\"><span class=\"toc-item-num\">2.5.3&nbsp;&nbsp;</span>나만의 변환기</a></span></li><li><span><a href=\"#특성-스케일링\" data-toc-modified-id=\"특성-스케일링-2.5.4\"><span class=\"toc-item-num\">2.5.4&nbsp;&nbsp;</span>특성 스케일링</a></span></li><li><span><a href=\"#변환-파이프라인\" data-toc-modified-id=\"변환-파이프라인-2.5.5\"><span class=\"toc-item-num\">2.5.5&nbsp;&nbsp;</span>변환 파이프라인</a></span></li></ul></li><li><span><a href=\"#모델-선택과-훈련\" data-toc-modified-id=\"모델-선택과-훈련-2.6\"><span class=\"toc-item-num\">2.6&nbsp;&nbsp;</span>모델 선택과 훈련</a></span><ul class=\"toc-item\"><li><span><a href=\"#훈련-세트에서-훈련하고-평가하기\" data-toc-modified-id=\"훈련-세트에서-훈련하고-평가하기-2.6.1\"><span class=\"toc-item-num\">2.6.1&nbsp;&nbsp;</span>훈련 세트에서 훈련하고 평가하기</a></span></li><li><span><a href=\"#교차-검증을-사용한-평가\" data-toc-modified-id=\"교차-검증을-사용한-평가-2.6.2\"><span class=\"toc-item-num\">2.6.2&nbsp;&nbsp;</span>교차 검증을 사용한 평가</a></span></li></ul></li><li><span><a href=\"#모델-세부-튜닝\" data-toc-modified-id=\"모델-세부-튜닝-2.7\"><span class=\"toc-item-num\">2.7&nbsp;&nbsp;</span>모델 세부 튜닝</a></span><ul class=\"toc-item\"><li><span><a href=\"#그리드-탐색\" data-toc-modified-id=\"그리드-탐색-2.7.1\"><span class=\"toc-item-num\">2.7.1&nbsp;&nbsp;</span>그리드 탐색</a></span></li><li><span><a href=\"#랜덤-탐색\" data-toc-modified-id=\"랜덤-탐색-2.7.2\"><span class=\"toc-item-num\">2.7.2&nbsp;&nbsp;</span>랜덤 탐색</a></span></li><li><span><a href=\"#앙상블-방법\" data-toc-modified-id=\"앙상블-방법-2.7.3\"><span class=\"toc-item-num\">2.7.3&nbsp;&nbsp;</span>앙상블 방법</a></span></li><li><span><a href=\"#최상의-모델과-오차-분석\" data-toc-modified-id=\"최상의-모델과-오차-분석-2.7.4\"><span class=\"toc-item-num\">2.7.4&nbsp;&nbsp;</span>최상의 모델과 오차 분석</a></span></li><li><span><a href=\"#테스트로-시스템-평가하기\" data-toc-modified-id=\"테스트로-시스템-평가하기-2.7.5\"><span class=\"toc-item-num\">2.7.5&nbsp;&nbsp;</span>테스트로 시스템 평가하기</a></span></li></ul></li><li><span><a href=\"#론칭,-모니터링,-그리고-시스템-유지-보수\" data-toc-modified-id=\"론칭,-모니터링,-그리고-시스템-유지-보수-2.8\"><span class=\"toc-item-num\">2.8&nbsp;&nbsp;</span>론칭, 모니터링, 그리고 시스템 유지 보수</a></span></li><li><span><a href=\"#참고\" data-toc-modified-id=\"참고-2.9\"><span class=\"toc-item-num\">2.9&nbsp;&nbsp;</span>참고</a></span></li></ul></li></ul></div>"
   ]
  },
  {
   "cell_type": "markdown",
   "metadata": {},
   "source": [
    "---\n",
    "\n",
    "## 실제 데이터로 작업하기"
   ]
  },
  {
   "cell_type": "markdown",
   "metadata": {},
   "source": [
    "이 장에서는 [StatLib 저장소에 있는 캘리포니아 주택 가격 데이터셋](https://www.dcc.fc.up.pt/~ltorgo/Regression/cal_housing.html)을 사용하여 진행하도록 함\n",
    "\n",
    "![](https://tensorflowkorea.files.wordpress.com/2018/05/e18489e185b3e1848fe185b3e18485e185b5e186abe18489e185a3e186ba-2018-05-30-e1848be185a9e18492e185ae-11-51-37.png?w=625)"
   ]
  },
  {
   "cell_type": "markdown",
   "metadata": {},
   "source": [
    "---\n",
    "\n",
    "## 큰 그림 보기\n",
    "\n",
    "> 머신러닝 프로젝트 체크리스트(p625)"
   ]
  },
  {
   "cell_type": "markdown",
   "metadata": {},
   "source": [
    "### 문제 정의"
   ]
  },
  {
   "cell_type": "markdown",
   "metadata": {},
   "source": [
    "> 비즈니스의 목적이 정확히 무엇인가요?"
   ]
  },
  {
   "cell_type": "markdown",
   "metadata": {},
   "source": [
    "### 성능 측정 지표 선택"
   ]
  },
  {
   "cell_type": "code",
   "execution_count": null,
   "metadata": {},
   "outputs": [],
   "source": []
  },
  {
   "cell_type": "markdown",
   "metadata": {},
   "source": [
    "### 가정 검사"
   ]
  },
  {
   "cell_type": "code",
   "execution_count": null,
   "metadata": {},
   "outputs": [],
   "source": []
  },
  {
   "cell_type": "markdown",
   "metadata": {},
   "source": [
    "---\n",
    "\n",
    "## 데이터 가져오기"
   ]
  },
  {
   "cell_type": "markdown",
   "metadata": {},
   "source": [
    "### 작업환경 만들기"
   ]
  },
  {
   "cell_type": "code",
   "execution_count": null,
   "metadata": {},
   "outputs": [],
   "source": []
  },
  {
   "cell_type": "markdown",
   "metadata": {},
   "source": [
    "### 데이터 다운로드"
   ]
  },
  {
   "cell_type": "code",
   "execution_count": null,
   "metadata": {},
   "outputs": [],
   "source": []
  },
  {
   "cell_type": "markdown",
   "metadata": {},
   "source": [
    "### 데이터 구조 훑어보기"
   ]
  },
  {
   "cell_type": "code",
   "execution_count": null,
   "metadata": {},
   "outputs": [],
   "source": []
  },
  {
   "cell_type": "markdown",
   "metadata": {},
   "source": [
    "### 테스트 세트 만들기"
   ]
  },
  {
   "cell_type": "code",
   "execution_count": null,
   "metadata": {},
   "outputs": [],
   "source": []
  },
  {
   "cell_type": "markdown",
   "metadata": {},
   "source": [
    "---\n",
    "\n",
    "## 데이터 이해를 위한 탐색과 시각화"
   ]
  },
  {
   "cell_type": "markdown",
   "metadata": {},
   "source": [
    "### 지리적 데이터 시각화"
   ]
  },
  {
   "cell_type": "code",
   "execution_count": null,
   "metadata": {},
   "outputs": [],
   "source": []
  },
  {
   "cell_type": "markdown",
   "metadata": {},
   "source": [
    "### 상관관계 조사"
   ]
  },
  {
   "cell_type": "code",
   "execution_count": null,
   "metadata": {},
   "outputs": [],
   "source": []
  },
  {
   "cell_type": "markdown",
   "metadata": {},
   "source": [
    "### 특성 조합으로 실험"
   ]
  },
  {
   "cell_type": "code",
   "execution_count": null,
   "metadata": {},
   "outputs": [],
   "source": []
  },
  {
   "cell_type": "markdown",
   "metadata": {},
   "source": [
    "---\n",
    "\n",
    "## 머신러닝 알고리즘을 위한 데이터 준비"
   ]
  },
  {
   "cell_type": "markdown",
   "metadata": {},
   "source": [
    "### 데이터 정제"
   ]
  },
  {
   "cell_type": "code",
   "execution_count": null,
   "metadata": {},
   "outputs": [],
   "source": []
  },
  {
   "cell_type": "markdown",
   "metadata": {},
   "source": [
    "### 텍스트와 범주형 특성 다루기"
   ]
  },
  {
   "cell_type": "code",
   "execution_count": null,
   "metadata": {},
   "outputs": [],
   "source": []
  },
  {
   "cell_type": "markdown",
   "metadata": {},
   "source": [
    "### 나만의 변환기"
   ]
  },
  {
   "cell_type": "code",
   "execution_count": null,
   "metadata": {},
   "outputs": [],
   "source": []
  },
  {
   "cell_type": "markdown",
   "metadata": {},
   "source": [
    "### 특성 스케일링"
   ]
  },
  {
   "cell_type": "code",
   "execution_count": null,
   "metadata": {},
   "outputs": [],
   "source": []
  },
  {
   "cell_type": "markdown",
   "metadata": {},
   "source": [
    "### 변환 파이프라인"
   ]
  },
  {
   "cell_type": "code",
   "execution_count": null,
   "metadata": {},
   "outputs": [],
   "source": []
  },
  {
   "cell_type": "markdown",
   "metadata": {},
   "source": [
    "---\n",
    "\n",
    "## 모델 선택과 훈련"
   ]
  },
  {
   "cell_type": "markdown",
   "metadata": {},
   "source": [
    "### 훈련 세트에서 훈련하고 평가하기"
   ]
  },
  {
   "cell_type": "code",
   "execution_count": null,
   "metadata": {},
   "outputs": [],
   "source": []
  },
  {
   "cell_type": "markdown",
   "metadata": {},
   "source": [
    "### 교차 검증을 사용한 평가"
   ]
  },
  {
   "cell_type": "code",
   "execution_count": null,
   "metadata": {},
   "outputs": [],
   "source": []
  },
  {
   "cell_type": "markdown",
   "metadata": {},
   "source": [
    "---\n",
    "\n",
    "## 모델 세부 튜닝"
   ]
  },
  {
   "cell_type": "markdown",
   "metadata": {},
   "source": [
    "### 그리드 탐색"
   ]
  },
  {
   "cell_type": "code",
   "execution_count": null,
   "metadata": {},
   "outputs": [],
   "source": []
  },
  {
   "cell_type": "markdown",
   "metadata": {},
   "source": [
    "### 랜덤 탐색"
   ]
  },
  {
   "cell_type": "code",
   "execution_count": null,
   "metadata": {},
   "outputs": [],
   "source": []
  },
  {
   "cell_type": "markdown",
   "metadata": {},
   "source": [
    "### 앙상블 방법"
   ]
  },
  {
   "cell_type": "code",
   "execution_count": null,
   "metadata": {},
   "outputs": [],
   "source": []
  },
  {
   "cell_type": "markdown",
   "metadata": {},
   "source": [
    "### 최상의 모델과 오차 분석"
   ]
  },
  {
   "cell_type": "code",
   "execution_count": null,
   "metadata": {},
   "outputs": [],
   "source": []
  },
  {
   "cell_type": "markdown",
   "metadata": {},
   "source": [
    "### 테스트로 시스템 평가하기"
   ]
  },
  {
   "cell_type": "code",
   "execution_count": null,
   "metadata": {},
   "outputs": [],
   "source": []
  },
  {
   "cell_type": "markdown",
   "metadata": {},
   "source": [
    "---\n",
    "\n",
    "## 론칭, 모니터링, 그리고 시스템 유지 보수"
   ]
  },
  {
   "cell_type": "code",
   "execution_count": null,
   "metadata": {},
   "outputs": [],
   "source": []
  },
  {
   "cell_type": "markdown",
   "metadata": {},
   "source": [
    "---\n",
    "\n",
    "## 참고"
   ]
  },
  {
   "cell_type": "markdown",
   "metadata": {},
   "source": [
    "- http://www.hanbit.co.kr/store/books/look.php?p_code=B9267655530\n",
    "- http://www.yes24.com/Product/Goods/59878826\n",
    "- https://github.com/rickiepark/handson-ml\n",
    "- https://github.com/ExcelsiorCJH/Hands-On-ML\n",
    "- https://github.com/ExcelsiorCJH/Hands-On-ML\n",
    "- https://www.slideshare.net/RickyPark3/1-103084847\n",
    "- https://tensorflow.blog/%ED%95%B8%EC%A6%88%EC%98%A8-%EB%A8%B8%EC%8B%A0%EB%9F%AC%EB%8B%9D-1%EC%9E%A5-2%EC%9E%A5/1-%ED%95%9C%EB%88%88%EC%97%90-%EB%B3%B4%EB%8A%94-%EB%A8%B8%EC%8B%A0%EB%9F%AC%EB%8B%9D/"
   ]
  }
 ],
 "metadata": {
  "kernelspec": {
   "display_name": "Python 3",
   "language": "python",
   "name": "python3"
  },
  "language_info": {
   "codemirror_mode": {
    "name": "ipython",
    "version": 3
   },
   "file_extension": ".py",
   "mimetype": "text/x-python",
   "name": "python",
   "nbconvert_exporter": "python",
   "pygments_lexer": "ipython3",
   "version": "3.6.8"
  },
  "toc": {
   "base_numbering": "2",
   "nav_menu": {},
   "number_sections": true,
   "sideBar": true,
   "skip_h1_title": false,
   "title_cell": "강의 내용",
   "title_sidebar": "강의 내용",
   "toc_cell": true,
   "toc_position": {
    "height": "calc(100% - 180px)",
    "left": "10px",
    "top": "150px",
    "width": "261.812px"
   },
   "toc_section_display": true,
   "toc_window_display": true
  }
 },
 "nbformat": 4,
 "nbformat_minor": 2
}
