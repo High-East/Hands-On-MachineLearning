{
 "cells": [
  {
   "cell_type": "markdown",
   "metadata": {},
   "source": [
    "<img src=\"http://image.yes24.com/momo/TopCate1829/MidCate004/182839873.JPG\" width=50%>\n",
    "\n",
    "> 작성자 : BOAZ 12기 분석 [성민석(Minsuk Sung)](https://github.com/mssung94)  \n",
    "> 연락처 : mssung94@gmail.com  \n",
    "> GitHub : https://github.com/mssung94/Hands-On-MachineLearning\n",
    "\n",
    "> 본 내용은 **대학생 빅데이터 동아리 `BOAZ`의 핸즈온 머신러닝 스터디 (머신러닝 파트) 자료**입니다. **상업적인 목적으로 사용하는 것은 절대로 금합니다.**\n",
    "\n",
    "> 모든 내용은 `핸즈온 머신러닝(Hands-On Machine Learning with Scikit-Learn & Tensorflow),한빛미디어`을 참고하여 만들어졌으며, 책의 내용에 대한 모든 저작권은 `한빛미디어`에게 있음을 미리 밝힙니다. 또한 여기에 사용된 코드는 [한빛미디어에서 제공해준 GitHub](https://github.com/rickiepark/handson-ml)과 [ExcelsiorCJH님의 GitHub](https://github.com/ExcelsiorCJH/Hands-On-ML)을 바탕으로 재구성하였습니다.\n",
    "\n",
    "한빛미디어 홈페이지 : http://www.hanbit.co.kr/store/books/look.php?p_code=B9267655530  \n",
    "핸즈온 머신러닝 GitHub : https://github.com/rickiepark/handson-ml"
   ]
  },
  {
   "cell_type": "markdown",
   "metadata": {},
   "source": [
    "# 한눈에 보는 머신러닝"
   ]
  },
  {
   "cell_type": "markdown",
   "metadata": {
    "toc": true
   },
   "source": [
    "<h1>강의 내용<span class=\"tocSkip\"></span></h1>\n",
    "<div class=\"toc\"><ul class=\"toc-item\"><li><span><a href=\"#한눈에-보는-머신러닝\" data-toc-modified-id=\"한눈에-보는-머신러닝-1\"><span class=\"toc-item-num\">1&nbsp;&nbsp;</span>한눈에 보는 머신러닝</a></span><ul class=\"toc-item\"><li><span><a href=\"#머신러닝이란?\" data-toc-modified-id=\"머신러닝이란?-1.1\"><span class=\"toc-item-num\">1.1&nbsp;&nbsp;</span>머신러닝이란?</a></span></li><li><span><a href=\"#왜-머신러닝을-사용하는가?\" data-toc-modified-id=\"왜-머신러닝을-사용하는가?-1.2\"><span class=\"toc-item-num\">1.2&nbsp;&nbsp;</span>왜 머신러닝을 사용하는가?</a></span><ul class=\"toc-item\"><li><span><a href=\"#전통적인-프로그래밍-기법을-사용해-스팸-필터\" data-toc-modified-id=\"전통적인-프로그래밍-기법을-사용해-스팸-필터-1.2.1\"><span class=\"toc-item-num\">1.2.1&nbsp;&nbsp;</span>전통적인 프로그래밍 기법을 사용해 스팸 필터</a></span></li><li><span><a href=\"#머신러닝-기법에-기반을-둔-스팸-필터\" data-toc-modified-id=\"머신러닝-기법에-기반을-둔-스팸-필터-1.2.2\"><span class=\"toc-item-num\">1.2.2&nbsp;&nbsp;</span>머신러닝 기법에 기반을 둔 스팸 필터</a></span></li></ul></li><li><span><a href=\"#머신러닝-시스템의-종류\" data-toc-modified-id=\"머신러닝-시스템의-종류-1.3\"><span class=\"toc-item-num\">1.3&nbsp;&nbsp;</span>머신러닝 시스템의 종류</a></span><ul class=\"toc-item\"><li><span><a href=\"#지도-학습과-비지도-학습\" data-toc-modified-id=\"지도-학습과-비지도-학습-1.3.1\"><span class=\"toc-item-num\">1.3.1&nbsp;&nbsp;</span>지도 학습과 비지도 학습</a></span><ul class=\"toc-item\"><li><span><a href=\"#지도-학습\" data-toc-modified-id=\"지도-학습-1.3.1.1\"><span class=\"toc-item-num\">1.3.1.1&nbsp;&nbsp;</span>지도 학습</a></span></li><li><span><a href=\"#비지도-학습\" data-toc-modified-id=\"비지도-학습-1.3.1.2\"><span class=\"toc-item-num\">1.3.1.2&nbsp;&nbsp;</span>비지도 학습</a></span></li><li><span><a href=\"#준지도-학습\" data-toc-modified-id=\"준지도-학습-1.3.1.3\"><span class=\"toc-item-num\">1.3.1.3&nbsp;&nbsp;</span>준지도 학습</a></span></li><li><span><a href=\"#강화-학습\" data-toc-modified-id=\"강화-학습-1.3.1.4\"><span class=\"toc-item-num\">1.3.1.4&nbsp;&nbsp;</span>강화 학습</a></span></li></ul></li><li><span><a href=\"#배치-학습과-온라인-학습\" data-toc-modified-id=\"배치-학습과-온라인-학습-1.3.2\"><span class=\"toc-item-num\">1.3.2&nbsp;&nbsp;</span>배치 학습과 온라인 학습</a></span><ul class=\"toc-item\"><li><span><a href=\"#배치학습\" data-toc-modified-id=\"배치학습-1.3.2.1\"><span class=\"toc-item-num\">1.3.2.1&nbsp;&nbsp;</span>배치학습</a></span></li><li><span><a href=\"#온라인-학습\" data-toc-modified-id=\"온라인-학습-1.3.2.2\"><span class=\"toc-item-num\">1.3.2.2&nbsp;&nbsp;</span>온라인 학습</a></span></li></ul></li><li><span><a href=\"#사례-기반-학습과-모델-기반-학습\" data-toc-modified-id=\"사례-기반-학습과-모델-기반-학습-1.3.3\"><span class=\"toc-item-num\">1.3.3&nbsp;&nbsp;</span>사례 기반 학습과 모델 기반 학습</a></span><ul class=\"toc-item\"><li><span><a href=\"#사례-기반-학습\" data-toc-modified-id=\"사례-기반-학습-1.3.3.1\"><span class=\"toc-item-num\">1.3.3.1&nbsp;&nbsp;</span>사례 기반 학습</a></span></li><li><span><a href=\"#모델-기반-학습\" data-toc-modified-id=\"모델-기반-학습-1.3.3.2\"><span class=\"toc-item-num\">1.3.3.2&nbsp;&nbsp;</span>모델 기반 학습</a></span></li></ul></li><li><span><a href=\"#(예제)-사이킷런을-이용한-선형-모델의-훈련과-실행\" data-toc-modified-id=\"(예제)-사이킷런을-이용한-선형-모델의-훈련과-실행-1.3.4\"><span class=\"toc-item-num\">1.3.4&nbsp;&nbsp;</span>(예제) 사이킷런을 이용한 선형 모델의 훈련과 실행</a></span></li></ul></li><li><span><a href=\"#머신러닝의-주요-도전-과제\" data-toc-modified-id=\"머신러닝의-주요-도전-과제-1.4\"><span class=\"toc-item-num\">1.4&nbsp;&nbsp;</span>머신러닝의 주요 도전 과제</a></span><ul class=\"toc-item\"><li><span><a href=\"#충분하지-않은-양의-훈련-데이터\" data-toc-modified-id=\"충분하지-않은-양의-훈련-데이터-1.4.1\"><span class=\"toc-item-num\">1.4.1&nbsp;&nbsp;</span>충분하지 않은 양의 훈련 데이터</a></span></li><li><span><a href=\"#대표성-없는-훈련-데이터\" data-toc-modified-id=\"대표성-없는-훈련-데이터-1.4.2\"><span class=\"toc-item-num\">1.4.2&nbsp;&nbsp;</span>대표성 없는 훈련 데이터</a></span></li><li><span><a href=\"#낮은-품질의-데이터\" data-toc-modified-id=\"낮은-품질의-데이터-1.4.3\"><span class=\"toc-item-num\">1.4.3&nbsp;&nbsp;</span>낮은 품질의 데이터</a></span></li><li><span><a href=\"#관련-없는-특성\" data-toc-modified-id=\"관련-없는-특성-1.4.4\"><span class=\"toc-item-num\">1.4.4&nbsp;&nbsp;</span>관련 없는 특성</a></span></li><li><span><a href=\"#훈련-데이터-과대적합\" data-toc-modified-id=\"훈련-데이터-과대적합-1.4.5\"><span class=\"toc-item-num\">1.4.5&nbsp;&nbsp;</span>훈련 데이터 과대적합</a></span></li><li><span><a href=\"#훈련-데이터-과소적합\" data-toc-modified-id=\"훈련-데이터-과소적합-1.4.6\"><span class=\"toc-item-num\">1.4.6&nbsp;&nbsp;</span>훈련 데이터 과소적합</a></span></li></ul></li><li><span><a href=\"#테스트와-검증\" data-toc-modified-id=\"테스트와-검증-1.5\"><span class=\"toc-item-num\">1.5&nbsp;&nbsp;</span>테스트와 검증</a></span></li><li><span><a href=\"#연습문제\" data-toc-modified-id=\"연습문제-1.6\"><span class=\"toc-item-num\">1.6&nbsp;&nbsp;</span>연습문제</a></span></li><li><span><a href=\"#참고\" data-toc-modified-id=\"참고-1.7\"><span class=\"toc-item-num\">1.7&nbsp;&nbsp;</span>참고</a></span></li></ul></li></ul></div>"
   ]
  },
  {
   "cell_type": "code",
   "execution_count": 5,
   "metadata": {
    "ExecuteTime": {
     "end_time": "2020-01-25T04:42:06.811783Z",
     "start_time": "2020-01-25T04:42:06.789047Z"
    }
   },
   "outputs": [],
   "source": [
    "import os\n",
    "import matplotlib\n",
    "import matplotlib.pyplot as plt\n",
    "import numpy as np\n",
    "import pandas as pd\n",
    "import seaborn as sn\n",
    "\n",
    "# 일관된 출력을 위해 유사난수 초기화\n",
    "np.random.seed(42)\n",
    "\n",
    "sn.set()\n",
    "plt.rcParams['axes.labelsize'] = 14\n",
    "plt.rcParams['xtick.labelsize'] = 12\n",
    "plt.rcParams['ytick.labelsize'] = 12\n",
    "\n",
    "%matplotlib inline\n",
    "\n",
    "# 한글출력\n",
    "matplotlib.rc('font', family='AppleGothic')\n",
    "plt.rcParams['axes.unicode_minus'] = False"
   ]
  },
  {
   "cell_type": "markdown",
   "metadata": {},
   "source": [
    "---\n",
    "\n",
    "## 머신러닝이란?"
   ]
  },
  {
   "cell_type": "markdown",
   "metadata": {},
   "source": [
    "머신러닝은 데이터로부터 학습하도록 컴퓨터를 프로그래밍하는 과학이다. 아래는 머신러닝에 대한 조금 일반적인 정의이다.\n",
    "\n",
    "> 머신러닝(Machine Learning) : **명시적인 프로그래미 없이** 컴퓨터가 학습하는 능력을 갖추게 하는 연구 분야다. - 아서 사무엘,1959"
   ]
  },
  {
   "cell_type": "markdown",
   "metadata": {},
   "source": [
    "---\n",
    "\n",
    "## 왜 머신러닝을 사용하는가?"
   ]
  },
  {
   "cell_type": "markdown",
   "metadata": {},
   "source": [
    "### 전통적인 프로그래밍 기법을 사용해 스팸 필터\n",
    "\n",
    "1. 먼저 스팸에 어떤 단어들이 주로 나타나는지 살펴봄\n",
    "    - '4U','신용카드' 과 같은 단어나 구절잉 제목에 많이 나타나는 경향이 있다는 것을 알 수 있음\n",
    "    - 어쩌면 보낸이의 이름이나 메일 주소, 본문 등에서 다른 패턴을 감지할 수 도 있음\n",
    "2. 발겨한 각 패턴을 감지하는 알고리즘을 작성하여 프로그램이 이런 패턴을 발견했을 때 그 메일을 스팸으로 분류하게 함\n",
    "3. 프로그램을 테스트하고 충분한 성능이 나올 때까지 1,2단계를 반복\n",
    "\n",
    "![](./img/spam1.png)"
   ]
  },
  {
   "cell_type": "markdown",
   "metadata": {},
   "source": [
    "### 머신러닝 기법에 기반을 둔 스팸 필터\n",
    "\n",
    "- 일반 메일에 비해 스팸에 자주 나타나는 패턴을 감지\n",
    "- 어떤 단어와 구절이 스팸 메일을 판단하는 데 좋은 기준인지 자동으로 학습\n",
    "- 프로그램이 훨씬 짧아지고 유지 보수하기 쉬우며 대부분 정확도가 높음\n",
    "\n",
    "![](./img/spam2.png)"
   ]
  },
  {
   "cell_type": "markdown",
   "metadata": {},
   "source": [
    "전통적인 프로그래밍 방식의 스팸 필터는  \n",
    "'4U' 대신 'For U'라는 메일을 구분하기 위해서 수정이 필요한데, 이렇게 되면 영원히 새로운 규칙을 추가해줘야 함\n",
    "\n",
    "![](./img/spam3.png)\n",
    "\n",
    "요약하자면 머신러닝은 다음 분야에 뛰어남  \n",
    "- 기존 솔루션으로는 많은 수동 조정과 규칙이 필요한 문제 : 하나의 머신러닝 모델이 코드를 간단하고 더 잘 수행되도록 할 수 있음\n",
    "- 전통적인 방식으로는 전혀 해결 방법이 없는 복잡한 문제 : 가장 뛰어난 머신러닝 기법으로 해결 방법을 찾을 수 있음\n",
    "- 유동적인 환경 : 머신러닝 시스템은 새로운 데이터에 적응가능\n",
    "- 복잡한 문제와 대량의 데이터에서 통찰 얻기"
   ]
  },
  {
   "cell_type": "markdown",
   "metadata": {},
   "source": [
    "---\n",
    "\n",
    "## 머신러닝 시스템의 종류\n",
    "\n",
    "머신러닝 시스템의 종류는 굉장히 많지만 몇가지 기준으로 분류가능, 이 범주들은 서로 배타적이지 않으며 원하는 대로 연결가능함\n",
    "\n",
    "1. 사람의 감독 하에 훈련하는 것인지 그렇지 않은 것인지\n",
    "    - 지도 학습\n",
    "    - 비지도 학습\n",
    "    - 준지도 학습\n",
    "    - 강화 학습\n",
    "2. 실시간으로 점진적인 학습을 하는지 아닌지\n",
    "    - 온라인 학습\n",
    "    - 배치 학습\n",
    "3. 단순하게 알고 있는 데이터 포인트와 새 데이터 포인트를 비교하는 건인지 아니면 훈련 데이터셋에서 과학자들처럼 패턴을 발견하여 예측 모델을 발견하여 예측 모델을 만드는지\n",
    "    - 사례 기반 학습\n",
    "    - 모델 기반 학습\n"
   ]
  },
  {
   "cell_type": "markdown",
   "metadata": {},
   "source": [
    "### 지도 학습과 비지도 학습"
   ]
  },
  {
   "cell_type": "markdown",
   "metadata": {},
   "source": [
    "#### 지도 학습\n",
    "- 훈련 데이터에 레이블(label)이라는 원하는 답이 포함\n",
    "- 전형적인 지도 학습 작업\n",
    "    - 분류(classification)\n",
    "    - 회귀(regression)\n",
    "- 대표적인 지도 학습 알고리즘\n",
    "    - k-최근접 이웃(k-Nearest Neighbors)\n",
    "    - 선형 회귀(Linear Regression)\n",
    "    - 로지스틱 회귀(Logistic Regression)\n",
    "    - 서포트 벡터 머신(Support Vector Machine)\n",
    "    - 결정 트리(Decision Tree)과 랜덤 포레스트(Random Forest)\n",
    "    - 신경망(Neural Network)"
   ]
  },
  {
   "cell_type": "markdown",
   "metadata": {},
   "source": [
    "#### 비지도 학습\n",
    "- 훈련 데이터에 레이블이 없음\n",
    "- 대표적인 비지도 학습 알고리즘\n",
    "    - 군집(Clustering)\n",
    "        - k-평균(K-means)\n",
    "        - 계층 군집 분석(Hierachical Cluster Analysis, HCA)\n",
    "        - 기댓값 최대화(Expectation Maximization)\n",
    "    - 시각화(Visualization)와 차원축소(Dimension reduction)\n",
    "        - 주성분 분석(Principal Component Analysis, PCA)\n",
    "        - 커널 PCA\n",
    "        - 지역적 선형 임베딩(Locally-Linear Embedding, LLE)\n",
    "        - t-SNE(t-distributed Stochastic Neighbor Embedding)\n",
    "    - 연관 규칙 학습(Association rule learning)\n",
    "        - 어프라이어리(Apriori)\n",
    "        - 이클렛(Eclat)"
   ]
  },
  {
   "cell_type": "markdown",
   "metadata": {},
   "source": [
    "#### 준지도 학습\n",
    "- 레이블이 일부만 있는 데이터\n",
    "- 대부분의 준지도 학습 알고리즘은 지도 학습과 비지도 학습의 조합으로 이루어짐\n",
    "- 심층 신뢰 신경망(Deep Belief Network, DBN)은 여러 겹으로 쌓은 제한된 볼츠만 머신(Restricted Boltzmann Machine, RBM)\n",
    "    - RBM이 비지도 학습 방식으로 순차적으로 훈련된 다음 전체 시스템이 지도 학습 방식으로 세밀하게 조정"
   ]
  },
  {
   "cell_type": "markdown",
   "metadata": {},
   "source": [
    "#### 강화 학습\n",
    "- 학습하는 시스템을 에이전트(Agent)라고 부르며, 환경(Environment)을 관찰해서 행동(Action)을 실행하고 그 결과로 보상(Reward)을 받음\n",
    "- 시간이 지나면서 가장 큰 보상을 얻기 위해 정책(Policy)이라고 부르는 최상의 전략을 스스로 학습"
   ]
  },
  {
   "cell_type": "markdown",
   "metadata": {},
   "source": [
    "### 배치 학습과 온라인 학습"
   ]
  },
  {
   "cell_type": "markdown",
   "metadata": {},
   "source": [
    "#### 배치학습\n",
    "- 시스템이 점진적으로 학습할 수 없음\n",
    "- 가용한 데이터를 모두 사용해 훈련시켜야 함\n",
    "- 일반적으로 시간과 자원을 많이 소모함\n",
    "- 먼저 시스템을 훈련시키고 그런 다음에 제품 시스템에 적용하면 더 이상의 학습없이 수행됨, 즉 학습한 것을 단지 적용함\n",
    "- 오프라인 학습(Offline learning)\n",
    "\n",
    "#### 온라인 학습\n",
    "- 데이터를 순차적으로 한 개씩 또는 미니배치라 부르는 작은 묶음 단위로 주입하여 시스템을 훈련시킴\n",
    "- 매 학습 단계가 빠르고 비용이 적게 듬\n",
    "- 연속적으로 데이터를 받고 빠른 변화에 스스로 적응해야하는 시스템에 적합\n",
    "- 시스템에 나쁜 데이터가 주입되었을 때 시스템 성능이 점진적으로 감소한다는 점\n",
    "- 점진적 학습(Incremental learning)"
   ]
  },
  {
   "cell_type": "markdown",
   "metadata": {},
   "source": [
    "### 사례 기반 학습과 모델 기반 학습"
   ]
  },
  {
   "cell_type": "markdown",
   "metadata": {},
   "source": [
    "#### 사례 기반 학습\n",
    "- 시스템이 사례를 기억함으로써 학습\n",
    "\n",
    "#### 모델 기반 학습\n",
    "- 모델을 만들어 예측에 사용하는 것"
   ]
  },
  {
   "cell_type": "markdown",
   "metadata": {},
   "source": [
    "### (예제) 사이킷런을 이용한 선형 모델의 훈련과 실행"
   ]
  },
  {
   "cell_type": "code",
   "execution_count": 18,
   "metadata": {
    "ExecuteTime": {
     "end_time": "2020-01-25T04:46:05.668898Z",
     "start_time": "2020-01-25T04:46:05.662424Z"
    }
   },
   "outputs": [],
   "source": [
    "'''\n",
    "이 함수는 OECD의 삶의 만족도(life satisfaction) 데이터와 IMF의 1인당 GDP(GDP per capita) 데이터를 합칩니다.\n",
    "이는 번거로운 작업이고 머신러닝과는 관계가 없기 때문에 책 안에 포함시키지 않았습니다.\n",
    "'''\n",
    "\n",
    "def prepare_country_stats(oecd_bli, gdp_per_capita):\n",
    "    oecd_bli = oecd_bli[oecd_bli[\"INEQUALITY\"]==\"TOT\"]\n",
    "    oecd_bli = oecd_bli.pivot(index=\"Country\", columns=\"Indicator\", values=\"Value\")\n",
    "    gdp_per_capita.rename(columns={\"2015\": \"GDP per capita\"}, inplace=True)\n",
    "    gdp_per_capita.set_index(\"Country\", inplace=True)\n",
    "    full_country_stats = pd.merge(left=oecd_bli, right=gdp_per_capita,\n",
    "                                  left_index=True, right_index=True)\n",
    "    full_country_stats.sort_values(by=\"GDP per capita\", inplace=True)\n",
    "    remove_indices = [0, 1, 6, 8, 33, 34, 35]\n",
    "    keep_indices = list(set(range(36)) - set(remove_indices))\n",
    "    return full_country_stats[[\"GDP per capita\", 'Life satisfaction']].iloc[keep_indices]"
   ]
  },
  {
   "cell_type": "code",
   "execution_count": 19,
   "metadata": {
    "ExecuteTime": {
     "end_time": "2020-01-25T04:46:06.074246Z",
     "start_time": "2020-01-25T04:46:06.071199Z"
    }
   },
   "outputs": [],
   "source": [
    "datapath = os.path.join(\"../datasets\", \"lifesat\", \"\")"
   ]
  },
  {
   "cell_type": "code",
   "execution_count": 20,
   "metadata": {
    "ExecuteTime": {
     "end_time": "2020-01-25T04:46:06.258935Z",
     "start_time": "2020-01-25T04:46:06.234896Z"
    }
   },
   "outputs": [],
   "source": [
    "# Data load\n",
    "oecd_bli = pd.read_csv(datapath + 'oecd_bli_2015.csv', thousands=',')\n",
    "\n",
    "gdp_per_capita = pd.read_csv(datapath + 'gdp_per_capita.csv',\n",
    "                             thousands=',',\n",
    "                             delimiter='\\t',\n",
    "                             encoding='latin1',\n",
    "                             na_values='n/a')"
   ]
  },
  {
   "cell_type": "code",
   "execution_count": 21,
   "metadata": {
    "ExecuteTime": {
     "end_time": "2020-01-25T04:46:06.430066Z",
     "start_time": "2020-01-25T04:46:06.410619Z"
    }
   },
   "outputs": [
    {
     "data": {
      "text/html": [
       "<div>\n",
       "<style scoped>\n",
       "    .dataframe tbody tr th:only-of-type {\n",
       "        vertical-align: middle;\n",
       "    }\n",
       "\n",
       "    .dataframe tbody tr th {\n",
       "        vertical-align: top;\n",
       "    }\n",
       "\n",
       "    .dataframe thead th {\n",
       "        text-align: right;\n",
       "    }\n",
       "</style>\n",
       "<table border=\"1\" class=\"dataframe\">\n",
       "  <thead>\n",
       "    <tr style=\"text-align: right;\">\n",
       "      <th></th>\n",
       "      <th>LOCATION</th>\n",
       "      <th>Country</th>\n",
       "      <th>INDICATOR</th>\n",
       "      <th>Indicator</th>\n",
       "      <th>MEASURE</th>\n",
       "      <th>Measure</th>\n",
       "      <th>INEQUALITY</th>\n",
       "      <th>Inequality</th>\n",
       "      <th>Unit Code</th>\n",
       "      <th>Unit</th>\n",
       "      <th>PowerCode Code</th>\n",
       "      <th>PowerCode</th>\n",
       "      <th>Reference Period Code</th>\n",
       "      <th>Reference Period</th>\n",
       "      <th>Value</th>\n",
       "      <th>Flag Codes</th>\n",
       "      <th>Flags</th>\n",
       "    </tr>\n",
       "  </thead>\n",
       "  <tbody>\n",
       "    <tr>\n",
       "      <th>0</th>\n",
       "      <td>AUS</td>\n",
       "      <td>Australia</td>\n",
       "      <td>HO_BASE</td>\n",
       "      <td>Dwellings without basic facilities</td>\n",
       "      <td>L</td>\n",
       "      <td>Value</td>\n",
       "      <td>TOT</td>\n",
       "      <td>Total</td>\n",
       "      <td>PC</td>\n",
       "      <td>Percentage</td>\n",
       "      <td>0</td>\n",
       "      <td>units</td>\n",
       "      <td>NaN</td>\n",
       "      <td>NaN</td>\n",
       "      <td>1.1</td>\n",
       "      <td>E</td>\n",
       "      <td>Estimated value</td>\n",
       "    </tr>\n",
       "    <tr>\n",
       "      <th>1</th>\n",
       "      <td>AUT</td>\n",
       "      <td>Austria</td>\n",
       "      <td>HO_BASE</td>\n",
       "      <td>Dwellings without basic facilities</td>\n",
       "      <td>L</td>\n",
       "      <td>Value</td>\n",
       "      <td>TOT</td>\n",
       "      <td>Total</td>\n",
       "      <td>PC</td>\n",
       "      <td>Percentage</td>\n",
       "      <td>0</td>\n",
       "      <td>units</td>\n",
       "      <td>NaN</td>\n",
       "      <td>NaN</td>\n",
       "      <td>1.0</td>\n",
       "      <td>NaN</td>\n",
       "      <td>NaN</td>\n",
       "    </tr>\n",
       "    <tr>\n",
       "      <th>2</th>\n",
       "      <td>BEL</td>\n",
       "      <td>Belgium</td>\n",
       "      <td>HO_BASE</td>\n",
       "      <td>Dwellings without basic facilities</td>\n",
       "      <td>L</td>\n",
       "      <td>Value</td>\n",
       "      <td>TOT</td>\n",
       "      <td>Total</td>\n",
       "      <td>PC</td>\n",
       "      <td>Percentage</td>\n",
       "      <td>0</td>\n",
       "      <td>units</td>\n",
       "      <td>NaN</td>\n",
       "      <td>NaN</td>\n",
       "      <td>2.0</td>\n",
       "      <td>NaN</td>\n",
       "      <td>NaN</td>\n",
       "    </tr>\n",
       "    <tr>\n",
       "      <th>3</th>\n",
       "      <td>CAN</td>\n",
       "      <td>Canada</td>\n",
       "      <td>HO_BASE</td>\n",
       "      <td>Dwellings without basic facilities</td>\n",
       "      <td>L</td>\n",
       "      <td>Value</td>\n",
       "      <td>TOT</td>\n",
       "      <td>Total</td>\n",
       "      <td>PC</td>\n",
       "      <td>Percentage</td>\n",
       "      <td>0</td>\n",
       "      <td>units</td>\n",
       "      <td>NaN</td>\n",
       "      <td>NaN</td>\n",
       "      <td>0.2</td>\n",
       "      <td>NaN</td>\n",
       "      <td>NaN</td>\n",
       "    </tr>\n",
       "    <tr>\n",
       "      <th>4</th>\n",
       "      <td>CZE</td>\n",
       "      <td>Czech Republic</td>\n",
       "      <td>HO_BASE</td>\n",
       "      <td>Dwellings without basic facilities</td>\n",
       "      <td>L</td>\n",
       "      <td>Value</td>\n",
       "      <td>TOT</td>\n",
       "      <td>Total</td>\n",
       "      <td>PC</td>\n",
       "      <td>Percentage</td>\n",
       "      <td>0</td>\n",
       "      <td>units</td>\n",
       "      <td>NaN</td>\n",
       "      <td>NaN</td>\n",
       "      <td>0.9</td>\n",
       "      <td>NaN</td>\n",
       "      <td>NaN</td>\n",
       "    </tr>\n",
       "  </tbody>\n",
       "</table>\n",
       "</div>"
      ],
      "text/plain": [
       "  LOCATION         Country INDICATOR                           Indicator  \\\n",
       "0      AUS       Australia   HO_BASE  Dwellings without basic facilities   \n",
       "1      AUT         Austria   HO_BASE  Dwellings without basic facilities   \n",
       "2      BEL         Belgium   HO_BASE  Dwellings without basic facilities   \n",
       "3      CAN          Canada   HO_BASE  Dwellings without basic facilities   \n",
       "4      CZE  Czech Republic   HO_BASE  Dwellings without basic facilities   \n",
       "\n",
       "  MEASURE Measure INEQUALITY Inequality Unit Code        Unit  PowerCode Code  \\\n",
       "0       L   Value        TOT      Total        PC  Percentage               0   \n",
       "1       L   Value        TOT      Total        PC  Percentage               0   \n",
       "2       L   Value        TOT      Total        PC  Percentage               0   \n",
       "3       L   Value        TOT      Total        PC  Percentage               0   \n",
       "4       L   Value        TOT      Total        PC  Percentage               0   \n",
       "\n",
       "  PowerCode  Reference Period Code  Reference Period  Value Flag Codes  \\\n",
       "0     units                    NaN               NaN    1.1          E   \n",
       "1     units                    NaN               NaN    1.0        NaN   \n",
       "2     units                    NaN               NaN    2.0        NaN   \n",
       "3     units                    NaN               NaN    0.2        NaN   \n",
       "4     units                    NaN               NaN    0.9        NaN   \n",
       "\n",
       "             Flags  \n",
       "0  Estimated value  \n",
       "1              NaN  \n",
       "2              NaN  \n",
       "3              NaN  \n",
       "4              NaN  "
      ]
     },
     "execution_count": 21,
     "metadata": {},
     "output_type": "execute_result"
    }
   ],
   "source": [
    "oecd_bli.head()"
   ]
  },
  {
   "cell_type": "code",
   "execution_count": 22,
   "metadata": {
    "ExecuteTime": {
     "end_time": "2020-01-25T04:46:06.585137Z",
     "start_time": "2020-01-25T04:46:06.571933Z"
    }
   },
   "outputs": [
    {
     "data": {
      "text/html": [
       "<div>\n",
       "<style scoped>\n",
       "    .dataframe tbody tr th:only-of-type {\n",
       "        vertical-align: middle;\n",
       "    }\n",
       "\n",
       "    .dataframe tbody tr th {\n",
       "        vertical-align: top;\n",
       "    }\n",
       "\n",
       "    .dataframe thead th {\n",
       "        text-align: right;\n",
       "    }\n",
       "</style>\n",
       "<table border=\"1\" class=\"dataframe\">\n",
       "  <thead>\n",
       "    <tr style=\"text-align: right;\">\n",
       "      <th></th>\n",
       "      <th>Country</th>\n",
       "      <th>Subject Descriptor</th>\n",
       "      <th>Units</th>\n",
       "      <th>Scale</th>\n",
       "      <th>Country/Series-specific Notes</th>\n",
       "      <th>2015</th>\n",
       "      <th>Estimates Start After</th>\n",
       "    </tr>\n",
       "  </thead>\n",
       "  <tbody>\n",
       "    <tr>\n",
       "      <th>0</th>\n",
       "      <td>Afghanistan</td>\n",
       "      <td>Gross domestic product per capita, current prices</td>\n",
       "      <td>U.S. dollars</td>\n",
       "      <td>Units</td>\n",
       "      <td>See notes for:  Gross domestic product, curren...</td>\n",
       "      <td>599.994</td>\n",
       "      <td>2013.0</td>\n",
       "    </tr>\n",
       "    <tr>\n",
       "      <th>1</th>\n",
       "      <td>Albania</td>\n",
       "      <td>Gross domestic product per capita, current prices</td>\n",
       "      <td>U.S. dollars</td>\n",
       "      <td>Units</td>\n",
       "      <td>See notes for:  Gross domestic product, curren...</td>\n",
       "      <td>3995.383</td>\n",
       "      <td>2010.0</td>\n",
       "    </tr>\n",
       "    <tr>\n",
       "      <th>2</th>\n",
       "      <td>Algeria</td>\n",
       "      <td>Gross domestic product per capita, current prices</td>\n",
       "      <td>U.S. dollars</td>\n",
       "      <td>Units</td>\n",
       "      <td>See notes for:  Gross domestic product, curren...</td>\n",
       "      <td>4318.135</td>\n",
       "      <td>2014.0</td>\n",
       "    </tr>\n",
       "    <tr>\n",
       "      <th>3</th>\n",
       "      <td>Angola</td>\n",
       "      <td>Gross domestic product per capita, current prices</td>\n",
       "      <td>U.S. dollars</td>\n",
       "      <td>Units</td>\n",
       "      <td>See notes for:  Gross domestic product, curren...</td>\n",
       "      <td>4100.315</td>\n",
       "      <td>2014.0</td>\n",
       "    </tr>\n",
       "    <tr>\n",
       "      <th>4</th>\n",
       "      <td>Antigua and Barbuda</td>\n",
       "      <td>Gross domestic product per capita, current prices</td>\n",
       "      <td>U.S. dollars</td>\n",
       "      <td>Units</td>\n",
       "      <td>See notes for:  Gross domestic product, curren...</td>\n",
       "      <td>14414.302</td>\n",
       "      <td>2011.0</td>\n",
       "    </tr>\n",
       "  </tbody>\n",
       "</table>\n",
       "</div>"
      ],
      "text/plain": [
       "               Country                                 Subject Descriptor  \\\n",
       "0          Afghanistan  Gross domestic product per capita, current prices   \n",
       "1              Albania  Gross domestic product per capita, current prices   \n",
       "2              Algeria  Gross domestic product per capita, current prices   \n",
       "3               Angola  Gross domestic product per capita, current prices   \n",
       "4  Antigua and Barbuda  Gross domestic product per capita, current prices   \n",
       "\n",
       "          Units  Scale                      Country/Series-specific Notes  \\\n",
       "0  U.S. dollars  Units  See notes for:  Gross domestic product, curren...   \n",
       "1  U.S. dollars  Units  See notes for:  Gross domestic product, curren...   \n",
       "2  U.S. dollars  Units  See notes for:  Gross domestic product, curren...   \n",
       "3  U.S. dollars  Units  See notes for:  Gross domestic product, curren...   \n",
       "4  U.S. dollars  Units  See notes for:  Gross domestic product, curren...   \n",
       "\n",
       "        2015  Estimates Start After  \n",
       "0    599.994                 2013.0  \n",
       "1   3995.383                 2010.0  \n",
       "2   4318.135                 2014.0  \n",
       "3   4100.315                 2014.0  \n",
       "4  14414.302                 2011.0  "
      ]
     },
     "execution_count": 22,
     "metadata": {},
     "output_type": "execute_result"
    }
   ],
   "source": [
    "gdp_per_capita.head()"
   ]
  },
  {
   "cell_type": "code",
   "execution_count": 23,
   "metadata": {
    "ExecuteTime": {
     "end_time": "2020-01-25T04:46:06.783017Z",
     "start_time": "2020-01-25T04:46:06.763028Z"
    }
   },
   "outputs": [
    {
     "data": {
      "text/html": [
       "<div>\n",
       "<style scoped>\n",
       "    .dataframe tbody tr th:only-of-type {\n",
       "        vertical-align: middle;\n",
       "    }\n",
       "\n",
       "    .dataframe tbody tr th {\n",
       "        vertical-align: top;\n",
       "    }\n",
       "\n",
       "    .dataframe thead th {\n",
       "        text-align: right;\n",
       "    }\n",
       "</style>\n",
       "<table border=\"1\" class=\"dataframe\">\n",
       "  <thead>\n",
       "    <tr style=\"text-align: right;\">\n",
       "      <th></th>\n",
       "      <th>GDP per capita</th>\n",
       "      <th>Life satisfaction</th>\n",
       "    </tr>\n",
       "    <tr>\n",
       "      <th>Country</th>\n",
       "      <th></th>\n",
       "      <th></th>\n",
       "    </tr>\n",
       "  </thead>\n",
       "  <tbody>\n",
       "    <tr>\n",
       "      <th>Russia</th>\n",
       "      <td>9054.914</td>\n",
       "      <td>6.0</td>\n",
       "    </tr>\n",
       "    <tr>\n",
       "      <th>Turkey</th>\n",
       "      <td>9437.372</td>\n",
       "      <td>5.6</td>\n",
       "    </tr>\n",
       "    <tr>\n",
       "      <th>Hungary</th>\n",
       "      <td>12239.894</td>\n",
       "      <td>4.9</td>\n",
       "    </tr>\n",
       "    <tr>\n",
       "      <th>Poland</th>\n",
       "      <td>12495.334</td>\n",
       "      <td>5.8</td>\n",
       "    </tr>\n",
       "    <tr>\n",
       "      <th>Slovak Republic</th>\n",
       "      <td>15991.736</td>\n",
       "      <td>6.1</td>\n",
       "    </tr>\n",
       "  </tbody>\n",
       "</table>\n",
       "</div>"
      ],
      "text/plain": [
       "                 GDP per capita  Life satisfaction\n",
       "Country                                           \n",
       "Russia                 9054.914                6.0\n",
       "Turkey                 9437.372                5.6\n",
       "Hungary               12239.894                4.9\n",
       "Poland                12495.334                5.8\n",
       "Slovak Republic       15991.736                6.1"
      ]
     },
     "execution_count": 23,
     "metadata": {},
     "output_type": "execute_result"
    }
   ],
   "source": [
    "# Data prepare\n",
    "country_stats = prepare_country_stats(oecd_bli, gdp_per_capita)\n",
    "country_stats.head()"
   ]
  },
  {
   "cell_type": "code",
   "execution_count": 24,
   "metadata": {
    "ExecuteTime": {
     "end_time": "2020-01-25T04:46:07.238452Z",
     "start_time": "2020-01-25T04:46:07.234984Z"
    }
   },
   "outputs": [],
   "source": [
    "X = np.c_[country_stats['GDP per capita']]\n",
    "y = np.c_[country_stats['Life satisfaction']]"
   ]
  },
  {
   "cell_type": "code",
   "execution_count": 25,
   "metadata": {
    "ExecuteTime": {
     "end_time": "2020-01-25T04:46:24.405304Z",
     "start_time": "2020-01-25T04:46:24.140063Z"
    }
   },
   "outputs": [
    {
     "name": "stderr",
     "output_type": "stream",
     "text": [
      "'c' argument looks like a single numeric RGB or RGBA sequence, which should be avoided as value-mapping will have precedence in case its length matches with 'x' & 'y'.  Please use a 2-D array with a single row if you really want to specify the same RGB or RGBA value for all points.\n"
     ]
    },
    {
     "data": {
      "image/png": "[encoded data removed]",
      "text/plain": [
       "<Figure size 432x288 with 1 Axes>"
      ]
     },
     "metadata": {
      "needs_background": "light"
     },
     "output_type": "display_data"
    }
   ],
   "source": [
    "# Data visualization\n",
    "ax = country_stats.plot(kind='scatter',\n",
    "                        x='GDP per capita',\n",
    "                        y='Life satisfaction')\n",
    "ax.set(xlabel='삶의 만족도', ylabel='1인당 GDP')\n",
    "plt.show()"
   ]
  },
  {
   "cell_type": "code",
   "execution_count": 26,
   "metadata": {
    "ExecuteTime": {
     "end_time": "2020-01-25T04:46:24.412320Z",
     "start_time": "2020-01-25T04:46:24.407352Z"
    }
   },
   "outputs": [
    {
     "name": "stdout",
     "output_type": "stream",
     "text": [
      "[[5.96242338]]\n"
     ]
    }
   ],
   "source": [
    "from sklearn.linear_model import LinearRegression\n",
    "\n",
    "# Linear Regression\n",
    "model = LinearRegression()\n",
    "\n",
    "# Model train\n",
    "model.fit(X, y)\n",
    "\n",
    "# 키프로스에 대한 예측\n",
    "X_new = [[22587]]  # 키프로스 1인당 GDP, 항상 2차원으로 넣어줘야한다는 것 잊지말자\n",
    "print(model.predict(X_new)) # 결과 [[ 5.96242338]]"
   ]
  },
  {
   "cell_type": "code",
   "execution_count": 27,
   "metadata": {
    "ExecuteTime": {
     "end_time": "2020-01-25T04:46:24.474546Z",
     "start_time": "2020-01-25T04:46:24.468815Z"
    }
   },
   "outputs": [
    {
     "name": "stdout",
     "output_type": "stream",
     "text": [
      "[[5.76666667]]\n"
     ]
    }
   ],
   "source": [
    "from sklearn.neighbors import KNeighborsRegressor\n",
    "\n",
    "# 선형 회귀 모델을 k-최근접 이웃 회귀 모델로 교체할 경우\n",
    "knn = KNeighborsRegressor(n_neighbors=3)\n",
    "\n",
    "# 모델 훈련\n",
    "knn.fit(X, y)\n",
    "\n",
    "# 키프로스에 대한 예측\n",
    "print(knn.predict(X_new)) # 결과 [[ 5.76666667]]"
   ]
  },
  {
   "cell_type": "markdown",
   "metadata": {},
   "source": [
    "지금까지의 작업 요약\n",
    "- 데이터 분석\n",
    "- 모델 선택\n",
    "- 훈련 데이터로 훈련 : 학습 알고리즘이 비용 함수를 최소화하는 모델 파라미터 선택\n",
    "- 새로운 데이터에 모델을 적용하여 예측"
   ]
  },
  {
   "cell_type": "markdown",
   "metadata": {},
   "source": [
    "---\n",
    "\n",
    "## 머신러닝의 주요 도전 과제\n",
    "- 머신러닝에서의 주요 작업은 학습 알고리즘을 선택해서 어떤 데이터에 훈련시키는 것\n",
    "- 여기서 가장 큰 문제가 될 수 있는 것은 2가지\n",
    "    - 나쁜 데이터(1~4번)\n",
    "    - 나쁜 알고리즘(5~6번)"
   ]
  },
  {
   "cell_type": "markdown",
   "metadata": {},
   "source": [
    "### 충분하지 않은 양의 훈련 데이터"
   ]
  },
  {
   "cell_type": "markdown",
   "metadata": {},
   "source": [
    "- 간단한 문제에서조차 수천 개의 데이터가 필요\n",
    "- 믿을 수 없는 데이터의 효과\n",
    "    - 충분한 데이터가 주어지면 복잡한 자연어 중의성 해소 문제를 거의 비슷하게 잘 처리\n",
    "    - 시간과 돈을 알고리즘 개발에 쓰는 것과 말뭉치 개발에 쓰는 것 사이의 트레이드오프에 대해 다시 생각해봐야 한다는 것\n",
    "    - 알고리즘보다 데이터가 훨씬 더 중요\n",
    "    - 하지만 데이터를 모으는 것이 항상 쉬운 일은 아니므로 알고리즘을 무시하지 말아야 한다는 것"
   ]
  },
  {
   "cell_type": "markdown",
   "metadata": {},
   "source": [
    "### 대표성 없는 훈련 데이터"
   ]
  },
  {
   "cell_type": "markdown",
   "metadata": {},
   "source": [
    "- 일반화가 잘 되려면 새로운 사례를 훈련 데이터가 잘 대표하는 것도 중요\n",
    "- 일반화하려는 사례들을 훈련 세트로 사용하는 것이 매우 중요\n",
    "- 하지만 샘플이 작으면 샘플링 잡음(Sampling noise)이 생김\n",
    "- 매우 큰 샘플도 표본 추출 방법이 잘못되면 대표성을 띠지 못할 수 있음, 이를 샘플링 편향(Sampling bias)이라 함\n",
    "    - 예시 : 랜던(Randon)과 루즈벨트(Roosevelt)의 대통령 선거 여론조사\n",
    "        1. 투표할 가능성이 높은 부유한 계층에 편중되게 여론조사\n",
    "        2. 정치에 관심 없는 사람을 제외시킴으로써 표본을 편중되게 여론조사"
   ]
  },
  {
   "cell_type": "markdown",
   "metadata": {},
   "source": [
    "### 낮은 품질의 데이터"
   ]
  },
  {
   "cell_type": "markdown",
   "metadata": {},
   "source": [
    "- 훈련 데이터각 에러,이상치,잡음으로 가득하다면 패턴을 찾기 어려워 잘 동작하지 않을 것\n",
    "- 훈련 데이터 정제에 시간을 투자할 만한 가치는 충분"
   ]
  },
  {
   "cell_type": "markdown",
   "metadata": {},
   "source": [
    "### 관련 없는 특성"
   ]
  },
  {
   "cell_type": "markdown",
   "metadata": {},
   "source": [
    "> Garbage in, Garbage out (GIGO) : 쓰레기를 넣으면 쓰레기가 나온다\n",
    "\n",
    "- 머신러닝의 핵심요소는 훈련에 사용할 좋은 특성들을 찾는 것이며 이를 **특성공학(Feature Engineering)**이라 함\n",
    "    - **특성 선택(Feature Selection)** : 가지고 있는 특성 중에서 훈련에 가장 유용한 특성을 선택\n",
    "    - **특성 추출(Feature Extraction)** : 특성을 결합하여 더 유용한 특성을 만듬\n",
    "    - 새로운 데이터를 수집해 새 특성을 만듬\n",
    "    \n",
    "![](http://hosting03.snu.ac.kr/~quercus1/zb41pl8/bbs/data/nature2/fig_2.jpg)"
   ]
  },
  {
   "cell_type": "markdown",
   "metadata": {},
   "source": [
    "### 훈련 데이터 과대적합"
   ]
  },
  {
   "cell_type": "markdown",
   "metadata": {},
   "source": [
    "- 해외여행에서 택시운전사가 본인의 물건을 훔쳤다고 해서, 그 나라의 모든 택시운전사를 도둑이라고 생각할 수 있나?\n",
    "- 과도하게 일반화를 하면 안됨\n",
    "- 과대적합(Overfitting) : 모델이 훈련 데이터에 너무 잘 맞지만, 일반성이 떨어질 때\n",
    "    - 훈련 데이터에 있는 잡음의 양에 비해 모델이 너무 복잡할 때\n",
    "    - 해결방법\n",
    "        1. 파라미터 수가 적은 모델을 선택, 훈련 데이터에 있는 특성을 줄임, 모델에 제약을 가하여 단순화\n",
    "        2. 훈련 데이터를 더 많이 모음\n",
    "        3. 훈련 데이터의 잡음을 줄임(오류 수정이나 이상치 제거)\n",
    "\n",
    "![](https://img1.daumcdn.net/thumb/R800x0/?scode=mtistory2&fname=https%3A%2F%2Ft1.daumcdn.net%2Fcfile%2Ftistory%2F997396365BA26D2C35)"
   ]
  },
  {
   "cell_type": "markdown",
   "metadata": {},
   "source": [
    "### 훈련 데이터 과소적합"
   ]
  },
  {
   "cell_type": "markdown",
   "metadata": {},
   "source": [
    "- 과소적합(Underfitting) : 모델이 너무 단순해서 데이터의 내재된 구조나 패턴을 학습하지 못할 때\n",
    "    - 해결방법\n",
    "        1. 파라미터가 많은 모델을 선택\n",
    "        2. 학습 알고리즘에 더 좋은 특성을 선택\n",
    "        3. 모델의 제약을 줄임\n",
    "![](https://t1.daumcdn.net/thumb/R720x0/?fname=http://t1.daumcdn.net/brunch/service/user/Jr9/image/SbI5NgVY5ZLzvG6QCT8hUcC00lA.jpg)\n",
    "        \n",
    "![](https://shryu8902.github.io/assets/images/overfit1.png)"
   ]
  },
  {
   "cell_type": "markdown",
   "metadata": {},
   "source": [
    "---\n",
    "\n",
    "## 테스트와 검증"
   ]
  },
  {
   "cell_type": "markdown",
   "metadata": {},
   "source": [
    "- 모델이 샘플에 얼마나 잘 일반화될지 아는 유일한 방법은 새로운 샘플에 실제로 적용해보는 것\n",
    "- 더 나은 방법은 훈련 데이터를 훈련 세트와 테스트 세트로 두개로 나누는 것\n",
    "    - 훈련 세트를 사용해 모델을 훈련시키고 테스트 세트를 사용해 모델을 테스트\n",
    "    - 보통 데이터의 80%를 훈련세트로 나머지를 테스트세트로 분리함\n",
    "- 테스트 세트를 통해서 모델을 튜닝하다가 보면 다시 테스트 세트에 최적화된 모델이 되기 때문에 일반적이지 않음\n",
    "- 이에 대한 해결방법으로 훈련세트를 사용해서 검증 세트를 만드는 것\n",
    "\n",
    "- 최종적으로 아래와 같이 진행됨\n",
    "    1. 훈련 세트 : 다양한 하이퍼 파라미터로 여러 모델을 훈련\n",
    "    2. 검증 세트 : 최상의 성능을 내는 모델과 하이퍼 파라미터를 선택\n",
    "    3. 테스트 세트 : 단 한번의 최종 테스트\n",
    "\n",
    "- 훈련 데이터에서 검증 세트로 너무 많은 양의 데이터를 뺏기지 않기 위해서 일반적으로 교차 검증(Cross Validation) 사용"
   ]
  },
  {
   "cell_type": "markdown",
   "metadata": {},
   "source": [
    "---\n",
    "\n",
    "## 연습문제"
   ]
  },
  {
   "cell_type": "markdown",
   "metadata": {},
   "source": [
    "- 핸즈온 머신러닝 p64 참고"
   ]
  },
  {
   "cell_type": "markdown",
   "metadata": {},
   "source": [
    "---\n",
    "\n",
    "## 참고"
   ]
  },
  {
   "cell_type": "markdown",
   "metadata": {},
   "source": [
    "- http://www.hanbit.co.kr/store/books/look.php?p_code=B9267655530\n",
    "- http://www.yes24.com/Product/Goods/59878826\n",
    "- https://github.com/rickiepark/handson-ml\n",
    "- https://github.com/ExcelsiorCJH/Hands-On-ML\n",
    "- https://github.com/ExcelsiorCJH/Hands-On-ML\n",
    "- https://www.slideshare.net/RickyPark3/1-103084847\n",
    "- https://tensorflow.blog/%ED%95%B8%EC%A6%88%EC%98%A8-%EB%A8%B8%EC%8B%A0%EB%9F%AC%EB%8B%9D-1%EC%9E%A5-2%EC%9E%A5/1-%ED%95%9C%EB%88%88%EC%97%90-%EB%B3%B4%EB%8A%94-%EB%A8%B8%EC%8B%A0%EB%9F%AC%EB%8B%9D/"
   ]
  }
 ],
 "metadata": {
  "kernelspec": {
   "display_name": "Python 3",
   "language": "python",
   "name": "python3"
  },
  "language_info": {
   "codemirror_mode": {
    "name": "ipython",
    "version": 3
   },
   "file_extension": ".py",
   "mimetype": "text/x-python",
   "name": "python",
   "nbconvert_exporter": "python",
   "pygments_lexer": "ipython3",
   "version": "3.6.8"
  },
  "toc": {
   "base_numbering": "1",
   "nav_menu": {},
   "number_sections": true,
   "sideBar": true,
   "skip_h1_title": false,
   "title_cell": "강의 내용",
   "title_sidebar": "강의 내용",
   "toc_cell": true,
   "toc_position": {
    "height": "calc(100% - 180px)",
    "left": "10px",
    "top": "150px",
    "width": "261.812px"
   },
   "toc_section_display": true,
   "toc_window_display": true
  }
 },
 "nbformat": 4,
 "nbformat_minor": 2
}
