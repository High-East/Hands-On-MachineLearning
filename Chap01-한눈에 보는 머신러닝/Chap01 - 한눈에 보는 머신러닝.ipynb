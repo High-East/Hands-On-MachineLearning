{
 "cells": [
  {
   "cell_type": "markdown",
   "metadata": {},
   "source": [
    "<img src=\"http://image.yes24.com/momo/TopCate1829/MidCate004/182839873.JPG\" width=50%>\n",
    "\n",
    "> 작성자 : BOAZ 12기 분석 [성민석(Minsuk Sung)](https://github.com/mssung94)  \n",
    "> 연락처 : mssung94@gmail.com  \n",
    "> GitHub : https://github.com/mssung94/handson-ml\n",
    "\n",
    "> 본 내용은 **대학생 빅데이터 동아리 `BOAZ`의 핸즈온 머신러닝 스터디 (머신러닝 파트) 자료**입니다. **상업적인 목적으로 사용하는 것은 절대로 금합니다.**\n",
    "\n",
    "> 모든 내용은 `핸즈온 머신러닝(Hands-On Machine Learning with Scikit-Learn & Tensorflow),한빛미디어`을 참고하여 만들어졌으며, 책의 내용에 대한 모든 저작권은 `한빛미디어`에게 있음을 미리 밝힙니다. 또한 여기에 사용된 코드는 [한빛미디어에서 제공해준 GitHub](https://github.com/rickiepark/handson-ml)과 [ExcelsiorCJH님의 GitHub](https://github.com/ExcelsiorCJH/Hands-On-ML)을 바탕으로 재구성하였습니다.\n",
    "\n",
    "한빛미디어 홈페이지 : http://www.hanbit.co.kr/store/books/look.php?p_code=B9267655530  \n",
    "핸즈온 머신러닝 GitHub : https://github.com/rickiepark/handson-ml"
   ]
  },
  {
   "cell_type": "markdown",
   "metadata": {
    "toc": true
   },
   "source": [
    "<h1>1장 - 한눈에 보는 머신러닝<span class=\"tocSkip\"></span></h1>\n",
    "<div class=\"toc\"><ul class=\"toc-item\"><li><span><a href=\"#머신러닝이란?\" data-toc-modified-id=\"머신러닝이란?-1\"><span class=\"toc-item-num\">1&nbsp;&nbsp;</span>머신러닝이란?</a></span></li><li><span><a href=\"#왜-머신러닝을-사용하는가?\" data-toc-modified-id=\"왜-머신러닝을-사용하는가?-2\"><span class=\"toc-item-num\">2&nbsp;&nbsp;</span>왜 머신러닝을 사용하는가?</a></span></li><li><span><a href=\"#머신러닝-시스템의-종류\" data-toc-modified-id=\"머신러닝-시스템의-종류-3\"><span class=\"toc-item-num\">3&nbsp;&nbsp;</span>머신러닝 시스템의 종류</a></span><ul class=\"toc-item\"><li><span><a href=\"#지도-학습과-비지도-학습\" data-toc-modified-id=\"지도-학습과-비지도-학습-3.1\"><span class=\"toc-item-num\">3.1&nbsp;&nbsp;</span>지도 학습과 비지도 학습</a></span></li><li><span><a href=\"#배치-학습과-온라인-학습\" data-toc-modified-id=\"배치-학습과-온라인-학습-3.2\"><span class=\"toc-item-num\">3.2&nbsp;&nbsp;</span>배치 학습과 온라인 학습</a></span></li><li><span><a href=\"#사례-기반-학습과-모델-기반-학습\" data-toc-modified-id=\"사례-기반-학습과-모델-기반-학습-3.3\"><span class=\"toc-item-num\">3.3&nbsp;&nbsp;</span>사례 기반 학습과 모델 기반 학습</a></span></li></ul></li><li><span><a href=\"#머신러닝의-주요-도전-과제\" data-toc-modified-id=\"머신러닝의-주요-도전-과제-4\"><span class=\"toc-item-num\">4&nbsp;&nbsp;</span>머신러닝의 주요 도전 과제</a></span><ul class=\"toc-item\"><li><span><a href=\"#충분하지-않은-양의-훈련-데이터\" data-toc-modified-id=\"충분하지-않은-양의-훈련-데이터-4.1\"><span class=\"toc-item-num\">4.1&nbsp;&nbsp;</span>충분하지 않은 양의 훈련 데이터</a></span></li><li><span><a href=\"#대표성-없는-훈련-데이터\" data-toc-modified-id=\"대표성-없는-훈련-데이터-4.2\"><span class=\"toc-item-num\">4.2&nbsp;&nbsp;</span>대표성 없는 훈련 데이터</a></span></li><li><span><a href=\"#낮은-품질의-데이터\" data-toc-modified-id=\"낮은-품질의-데이터-4.3\"><span class=\"toc-item-num\">4.3&nbsp;&nbsp;</span>낮은 품질의 데이터</a></span></li><li><span><a href=\"#관련-없는-특성\" data-toc-modified-id=\"관련-없는-특성-4.4\"><span class=\"toc-item-num\">4.4&nbsp;&nbsp;</span>관련 없는 특성</a></span></li><li><span><a href=\"#훈련-데이터-과대적합\" data-toc-modified-id=\"훈련-데이터-과대적합-4.5\"><span class=\"toc-item-num\">4.5&nbsp;&nbsp;</span>훈련 데이터 과대적합</a></span></li><li><span><a href=\"#훈련-데이터-과소적합\" data-toc-modified-id=\"훈련-데이터-과소적합-4.6\"><span class=\"toc-item-num\">4.6&nbsp;&nbsp;</span>훈련 데이터 과소적합</a></span></li><li><span><a href=\"#한걸음-물러서서\" data-toc-modified-id=\"한걸음-물러서서-4.7\"><span class=\"toc-item-num\">4.7&nbsp;&nbsp;</span>한걸음 물러서서</a></span></li></ul></li><li><span><a href=\"#테스트와-검증\" data-toc-modified-id=\"테스트와-검증-5\"><span class=\"toc-item-num\">5&nbsp;&nbsp;</span>테스트와 검증</a></span></li><li><span><a href=\"#연습문제\" data-toc-modified-id=\"연습문제-6\"><span class=\"toc-item-num\">6&nbsp;&nbsp;</span>연습문제</a></span></li><li><span><a href=\"#참고\" data-toc-modified-id=\"참고-7\"><span class=\"toc-item-num\">7&nbsp;&nbsp;</span>참고</a></span></li></ul></div>"
   ]
  },
  {
   "cell_type": "markdown",
   "metadata": {},
   "source": [
    "---\n",
    "\n",
    "## 머신러닝이란?"
   ]
  },
  {
   "cell_type": "code",
   "execution_count": null,
   "metadata": {},
   "outputs": [],
   "source": []
  },
  {
   "cell_type": "markdown",
   "metadata": {},
   "source": [
    "---\n",
    "\n",
    "## 왜 머신러닝을 사용하는가?"
   ]
  },
  {
   "cell_type": "code",
   "execution_count": null,
   "metadata": {},
   "outputs": [],
   "source": []
  },
  {
   "cell_type": "markdown",
   "metadata": {},
   "source": [
    "---\n",
    "\n",
    "## 머신러닝 시스템의 종류"
   ]
  },
  {
   "cell_type": "markdown",
   "metadata": {},
   "source": [
    "### 지도 학습과 비지도 학습"
   ]
  },
  {
   "cell_type": "code",
   "execution_count": null,
   "metadata": {},
   "outputs": [],
   "source": []
  },
  {
   "cell_type": "markdown",
   "metadata": {},
   "source": [
    "### 배치 학습과 온라인 학습"
   ]
  },
  {
   "cell_type": "markdown",
   "metadata": {},
   "source": [
    "### 사례 기반 학습과 모델 기반 학습"
   ]
  },
  {
   "cell_type": "markdown",
   "metadata": {},
   "source": [
    "> 예제 1-1. 사이킷런을 이용한 선형 모델의 훈련과 실행"
   ]
  },
  {
   "cell_type": "code",
   "execution_count": 1,
   "metadata": {
    "ExecuteTime": {
     "end_time": "2020-01-16T08:33:56.531282Z",
     "start_time": "2020-01-16T08:33:55.286217Z"
    }
   },
   "outputs": [],
   "source": [
    "%matplotlib inline\n",
    "import os\n",
    "import matplotlib\n",
    "import matplotlib.pyplot as plt\n",
    "import numpy as np\n",
    "import seaborn as sn\n",
    "\n",
    "# 일관된 출력을 위해 유사난수 초기화\n",
    "np.random.seed(42)\n",
    "\n",
    "sn.set()\n",
    "plt.rcParams['axes.labelsize'] = 14\n",
    "plt.rcParams['xtick.labelsize'] = 12\n",
    "plt.rcParams['ytick.labelsize'] = 12\n",
    "\n",
    "# 한글출력\n",
    "matplotlib.rc('font', family='AppleGothic')\n",
    "plt.rcParams['axes.unicode_minus'] = False"
   ]
  },
  {
   "cell_type": "code",
   "execution_count": 2,
   "metadata": {
    "ExecuteTime": {
     "end_time": "2020-01-16T08:33:56.538685Z",
     "start_time": "2020-01-16T08:33:56.533172Z"
    }
   },
   "outputs": [],
   "source": [
    "def prepare_country_stats(oecd_bli, gdp_per_capita):\n",
    "    oecd_bli = oecd_bli[oecd_bli[\"INEQUALITY\"]==\"TOT\"]\n",
    "    oecd_bli = oecd_bli.pivot(index=\"Country\", columns=\"Indicator\", values=\"Value\")\n",
    "    gdp_per_capita.rename(columns={\"2015\": \"GDP per capita\"}, inplace=True)\n",
    "    gdp_per_capita.set_index(\"Country\", inplace=True)\n",
    "    full_country_stats = pd.merge(left=oecd_bli, right=gdp_per_capita,\n",
    "                                  left_index=True, right_index=True)\n",
    "    full_country_stats.sort_values(by=\"GDP per capita\", inplace=True)\n",
    "    remove_indices = [0, 1, 6, 8, 33, 34, 35]\n",
    "    keep_indices = list(set(range(36)) - set(remove_indices))\n",
    "    return full_country_stats[[\"GDP per capita\", 'Life satisfaction']].iloc[keep_indices]"
   ]
  },
  {
   "cell_type": "code",
   "execution_count": 3,
   "metadata": {
    "ExecuteTime": {
     "end_time": "2020-01-16T08:33:56.544058Z",
     "start_time": "2020-01-16T08:33:56.540940Z"
    }
   },
   "outputs": [],
   "source": [
    "datapath = os.path.join(\"../datasets\", \"lifesat\", \"\")"
   ]
  },
  {
   "cell_type": "code",
   "execution_count": 4,
   "metadata": {
    "ExecuteTime": {
     "end_time": "2020-01-16T08:33:56.804299Z",
     "start_time": "2020-01-16T08:33:56.546311Z"
    }
   },
   "outputs": [
    {
     "name": "stderr",
     "output_type": "stream",
     "text": [
      "'c' argument looks like a single numeric RGB or RGBA sequence, which should be avoided as value-mapping will have precedence in case its length matches with 'x' & 'y'.  Please use a 2-D array with a single row if you really want to specify the same RGB or RGBA value for all points.\n"
     ]
    },
    {
     "data": {
      "image/png": "[encoded data removed]",
      "text/plain": [
       "<Figure size 432x288 with 1 Axes>"
      ]
     },
     "metadata": {
      "needs_background": "light"
     },
     "output_type": "display_data"
    }
   ],
   "source": [
    "import pandas as pd\n",
    "\n",
    "# Data load\n",
    "oecd_bli = pd.read_csv(datapath + 'oecd_bli_2015.csv', thousands=',')\n",
    "gdp_per_capita = pd.read_csv(datapath + 'gdp_per_capita.csv', thousands=',',\n",
    "                             delimiter='\\t', encoding='latin1', na_values='n/a')\n",
    "\n",
    "# Data prepare\n",
    "country_stats = prepare_country_stats(oecd_bli, gdp_per_capita)\n",
    "X = np.c_[country_stats['GDP per capita']]\n",
    "y = np.c_[country_stats['Life satisfaction']]\n",
    "\n",
    "# Data visualization\n",
    "ax = country_stats.plot(\n",
    "    kind='scatter', x='GDP per capita', y='Life satisfaction')\n",
    "ax.set(xlabel='삶의 만족도', ylabel='1인당 GDP')\n",
    "plt.show()"
   ]
  },
  {
   "cell_type": "code",
   "execution_count": 5,
   "metadata": {
    "ExecuteTime": {
     "end_time": "2020-01-16T08:33:57.047297Z",
     "start_time": "2020-01-16T08:33:56.805952Z"
    }
   },
   "outputs": [
    {
     "name": "stdout",
     "output_type": "stream",
     "text": [
      "[[5.96242338]]\n"
     ]
    }
   ],
   "source": [
    "from sklearn.linear_model import LinearRegression\n",
    "\n",
    "# Linear Regression\n",
    "model = LinearRegression()\n",
    "\n",
    "# Model train\n",
    "model.fit(X, y)\n",
    "\n",
    "# 키프로스에 대한 예측\n",
    "X_new = [[22587]]  # 키프로스 1인당 GDP\n",
    "print(model.predict(X_new)) # 결과 [[ 5.96242338]]"
   ]
  },
  {
   "cell_type": "code",
   "execution_count": 6,
   "metadata": {
    "ExecuteTime": {
     "end_time": "2020-01-16T08:33:57.080170Z",
     "start_time": "2020-01-16T08:33:57.049555Z"
    }
   },
   "outputs": [
    {
     "name": "stdout",
     "output_type": "stream",
     "text": [
      "[[5.76666667]]\n"
     ]
    }
   ],
   "source": [
    "from sklearn.neighbors import KNeighborsRegressor\n",
    "\n",
    "# 선형 회귀 모델을 k-최근접 이웃 회귀 모델로 교체할 경우\n",
    "knn = KNeighborsRegressor(n_neighbors=3)\n",
    "\n",
    "# 모델 훈련\n",
    "knn.fit(X, y)\n",
    "\n",
    "# 키프로스에 대한 예측\n",
    "print(knn.predict(X_new)) # 결과 [[ 5.76666667]]"
   ]
  },
  {
   "cell_type": "markdown",
   "metadata": {},
   "source": [
    "---\n",
    "\n",
    "## 머신러닝의 주요 도전 과제"
   ]
  },
  {
   "cell_type": "markdown",
   "metadata": {},
   "source": [
    "### 충분하지 않은 양의 훈련 데이터"
   ]
  },
  {
   "cell_type": "code",
   "execution_count": null,
   "metadata": {},
   "outputs": [],
   "source": []
  },
  {
   "cell_type": "markdown",
   "metadata": {},
   "source": [
    "### 대표성 없는 훈련 데이터"
   ]
  },
  {
   "cell_type": "code",
   "execution_count": null,
   "metadata": {},
   "outputs": [],
   "source": []
  },
  {
   "cell_type": "markdown",
   "metadata": {},
   "source": [
    "### 낮은 품질의 데이터"
   ]
  },
  {
   "cell_type": "code",
   "execution_count": null,
   "metadata": {},
   "outputs": [],
   "source": []
  },
  {
   "cell_type": "markdown",
   "metadata": {},
   "source": [
    "### 관련 없는 특성"
   ]
  },
  {
   "cell_type": "code",
   "execution_count": null,
   "metadata": {},
   "outputs": [],
   "source": []
  },
  {
   "cell_type": "markdown",
   "metadata": {},
   "source": [
    "### 훈련 데이터 과대적합"
   ]
  },
  {
   "cell_type": "code",
   "execution_count": null,
   "metadata": {},
   "outputs": [],
   "source": []
  },
  {
   "cell_type": "markdown",
   "metadata": {},
   "source": [
    "### 훈련 데이터 과소적합"
   ]
  },
  {
   "cell_type": "code",
   "execution_count": null,
   "metadata": {},
   "outputs": [],
   "source": []
  },
  {
   "cell_type": "markdown",
   "metadata": {},
   "source": [
    "### 한걸음 물러서서"
   ]
  },
  {
   "cell_type": "code",
   "execution_count": null,
   "metadata": {},
   "outputs": [],
   "source": []
  },
  {
   "cell_type": "markdown",
   "metadata": {},
   "source": [
    "---\n",
    "\n",
    "## 테스트와 검증"
   ]
  },
  {
   "cell_type": "code",
   "execution_count": null,
   "metadata": {},
   "outputs": [],
   "source": []
  },
  {
   "cell_type": "markdown",
   "metadata": {},
   "source": [
    "---\n",
    "\n",
    "## 연습문제"
   ]
  },
  {
   "cell_type": "code",
   "execution_count": null,
   "metadata": {},
   "outputs": [],
   "source": []
  },
  {
   "cell_type": "markdown",
   "metadata": {},
   "source": [
    "---\n",
    "\n",
    "## 참고"
   ]
  },
  {
   "cell_type": "markdown",
   "metadata": {},
   "source": [
    "- http://www.hanbit.co.kr/store/books/look.php?p_code=B9267655530\n",
    "- http://www.yes24.com/Product/Goods/59878826\n",
    "- https://github.com/rickiepark/handson-ml\n",
    "- https://github.com/ExcelsiorCJH/Hands-On-ML\n",
    "- https://github.com/ExcelsiorCJH/Hands-On-ML"
   ]
  }
 ],
 "metadata": {
  "kernelspec": {
   "display_name": "Python 3",
   "language": "python",
   "name": "python3"
  },
  "language_info": {
   "codemirror_mode": {
    "name": "ipython",
    "version": 3
   },
   "file_extension": ".py",
   "mimetype": "text/x-python",
   "name": "python",
   "nbconvert_exporter": "python",
   "pygments_lexer": "ipython3",
   "version": "3.6.8"
  },
  "toc": {
   "base_numbering": "1",
   "nav_menu": {},
   "number_sections": true,
   "sideBar": true,
   "skip_h1_title": true,
   "title_cell": "1장 - 한눈에 보는 머신러닝",
   "title_sidebar": "1장 - 한눈에 보는 머신러닝",
   "toc_cell": true,
   "toc_position": {
    "height": "calc(100% - 180px)",
    "left": "10px",
    "top": "150px",
    "width": "261.818px"
   },
   "toc_section_display": true,
   "toc_window_display": true
  }
 },
 "nbformat": 4,
 "nbformat_minor": 2
}
