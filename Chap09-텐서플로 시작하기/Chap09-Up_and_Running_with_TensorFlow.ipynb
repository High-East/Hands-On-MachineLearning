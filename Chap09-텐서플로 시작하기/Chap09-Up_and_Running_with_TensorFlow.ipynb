{
 "cells": [
  {
   "cell_type": "markdown",
   "metadata": {},
   "source": [
    "# Chap09 - 텐서플로 시작하기"
   ]
  },
  {
   "cell_type": "markdown",
   "metadata": {},
   "source": [
    "## SetUp"
   ]
  },
  {
   "cell_type": "code",
   "execution_count": 1,
   "metadata": {},
   "outputs": [
    {
     "name": "stderr",
     "output_type": "stream",
     "text": [
      "/Users/cjh/miniconda3/envs/tensorflow/lib/python3.6/importlib/_bootstrap.py:219: RuntimeWarning: compiletime version 3.5 of module 'tensorflow.python.framework.fast_tensor_util' does not match runtime version 3.6\n",
      "  return f(*args, **kwds)\n"
     ]
    }
   ],
   "source": [
    "import os\n",
    "import numpy as np\n",
    "import tensorflow as tf\n",
    "\n",
    "# 일관된 출력을 위해 유사난수 초기화\n",
    "def reset_graph(seed=42):\n",
    "    tf.reset_default_graph()\n",
    "    tf.set_random_seed(seed)\n",
    "    np.random.seed(seed)\n",
    "\n",
    "%matplotlib inline\n",
    "import matplotlib\n",
    "import matplotlib.pyplot as plt\n",
    "import seaborn as sn\n",
    "sn.set()\n",
    "plt.rcParams['axes.labelsize'] = 14\n",
    "plt.rcParams['xtick.labelsize'] = 12\n",
    "plt.rcParams['ytick.labelsize'] = 12\n",
    "\n",
    "# 한글출력\n",
    "matplotlib.rc('font', family='AppleGothic')  # MacOS\n",
    "# matplotlib.rc('font', family='Malgun Gothic')  # Windows\n",
    "plt.rcParams['axes.unicode_minus'] = False"
   ]
  },
  {
   "cell_type": "markdown",
   "metadata": {},
   "source": [
    "## 9.1 Install\n",
    "\n",
    "```bash\n",
    "# TensorFlow CPU \n",
    "$ pip install tensorflow\n",
    "\n",
    "# TensorFlow GPU\n",
    "$ pip install tensorflow-gpu\n",
    "```"
   ]
  },
  {
   "cell_type": "code",
   "execution_count": 2,
   "metadata": {},
   "outputs": [
    {
     "data": {
      "text/plain": [
       "'1.10.1'"
      ]
     },
     "execution_count": 2,
     "metadata": {},
     "output_type": "execute_result"
    }
   ],
   "source": [
    "import tensorflow as tf\n",
    "\n",
    "tf.__version__"
   ]
  },
  {
   "cell_type": "markdown",
   "metadata": {},
   "source": [
    " "
   ]
  },
  {
   "cell_type": "markdown",
   "metadata": {},
   "source": [
    "## 9.2 첫 번째 계산 그래프를 만들어 세션에서 실행하기"
   ]
  },
  {
   "cell_type": "code",
   "execution_count": 3,
   "metadata": {},
   "outputs": [],
   "source": [
    "import tensorflow as tf\n",
    "\n",
    "reset_graph()\n",
    "\n",
    "x = tf.Variable(3, name='x')\n",
    "y = tf.Variable(4, name='y')\n",
    "f = x*x*y + y + 2"
   ]
  },
  {
   "cell_type": "code",
   "execution_count": 4,
   "metadata": {},
   "outputs": [
    {
     "data": {
      "text/plain": [
       "<tf.Tensor 'add_1:0' shape=() dtype=int32>"
      ]
     },
     "execution_count": 4,
     "metadata": {},
     "output_type": "execute_result"
    }
   ],
   "source": [
    "f"
   ]
  },
  {
   "cell_type": "code",
   "execution_count": 5,
   "metadata": {},
   "outputs": [
    {
     "name": "stdout",
     "output_type": "stream",
     "text": [
      "42\n"
     ]
    }
   ],
   "source": [
    "sess = tf.Session()\n",
    "sess.run(x.initializer)\n",
    "sess.run(y.initializer)\n",
    "result = sess.run(f)\n",
    "print(result)"
   ]
  },
  {
   "cell_type": "code",
   "execution_count": 6,
   "metadata": {},
   "outputs": [],
   "source": [
    "# Session 닫기\n",
    "sess.close()"
   ]
  },
  {
   "cell_type": "markdown",
   "metadata": {},
   "source": [
    " "
   ]
  },
  {
   "cell_type": "markdown",
   "metadata": {},
   "source": [
    "위의 방법을 `with` 스코프를 이용해 간단하게 작성할 수 있다. `with` 스코프가 끝나면 `tf.Session`은 자동 종료 된다."
   ]
  },
  {
   "cell_type": "code",
   "execution_count": 7,
   "metadata": {},
   "outputs": [
    {
     "name": "stdout",
     "output_type": "stream",
     "text": [
      "42\n"
     ]
    }
   ],
   "source": [
    "with tf.Session() as sess:\n",
    "    x.initializer.run()  # tf.get_default_session().run(x.initializer)\n",
    "    y.initializer.run()\n",
    "    result = f.eval()  # tf.get_default_session().run(f)\n",
    "    \n",
    "print(result)"
   ]
  },
  {
   "cell_type": "markdown",
   "metadata": {},
   "source": [
    " "
   ]
  },
  {
   "cell_type": "markdown",
   "metadata": {},
   "source": [
    "각 변수를 일일이 초기화하는 대신 `global_variables_initializer()`함수를 사용할 수 있다."
   ]
  },
  {
   "cell_type": "code",
   "execution_count": 8,
   "metadata": {},
   "outputs": [
    {
     "name": "stdout",
     "output_type": "stream",
     "text": [
      "42\n"
     ]
    }
   ],
   "source": [
    "init = tf.global_variables_initializer()\n",
    "\n",
    "with tf.Session() as sess:\n",
    "    # 모든 변수 초기화\n",
    "    init.run()  # sess.run(init)\n",
    "    result = f.eval()\n",
    "\n",
    "print(result)"
   ]
  },
  {
   "cell_type": "markdown",
   "metadata": {},
   "source": [
    " "
   ]
  },
  {
   "cell_type": "markdown",
   "metadata": {},
   "source": [
    "## 9.3 계산 그래프 관리\n",
    "\n",
    "노드를 만들면 자동으로 기본 계산 그래프에 추가된다."
   ]
  },
  {
   "cell_type": "code",
   "execution_count": 9,
   "metadata": {},
   "outputs": [
    {
     "data": {
      "text/plain": [
       "True"
      ]
     },
     "execution_count": 9,
     "metadata": {},
     "output_type": "execute_result"
    }
   ],
   "source": [
    "reset_graph()\n",
    "\n",
    "x1 = tf.constant(1)\n",
    "x1.graph is tf.get_default_graph()"
   ]
  },
  {
   "cell_type": "markdown",
   "metadata": {},
   "source": [
    " "
   ]
  },
  {
   "cell_type": "markdown",
   "metadata": {},
   "source": [
    "`tf.Graph()`를 이용해 새로운 독립적인 계산 그래프를 만들 수 있으며, 이를 `.as_default()`를 통해 기본 계산 그래프로 사용할 수 있다."
   ]
  },
  {
   "cell_type": "code",
   "execution_count": 10,
   "metadata": {},
   "outputs": [
    {
     "name": "stdout",
     "output_type": "stream",
     "text": [
      "True\n",
      "False\n",
      "True\n"
     ]
    }
   ],
   "source": [
    "graph = tf.Graph()\n",
    "with graph.as_default():\n",
    "    x2 = tf.constant(2)\n",
    "    print(x2.graph is tf.get_default_graph())  # True\n",
    "    \n",
    "print(x2.graph is tf.get_default_graph())  # False\n",
    "print(x2.graph is graph)  # True"
   ]
  },
  {
   "cell_type": "markdown",
   "metadata": {},
   "source": [
    " "
   ]
  },
  {
   "cell_type": "markdown",
   "metadata": {},
   "source": [
    "## 9.4 노드 값의 생애주기"
   ]
  },
  {
   "cell_type": "markdown",
   "metadata": {},
   "source": [
    "> 노드는 연산, 엣지는 텐서 객체!!\n",
    "\n",
    "텐서플로는 그래프의 연결 상태를 기반으로 연산을 최적화한다. 각 그래프에는 노드 간에 의존관계(dependency)가 존재한다. 예를 들어, 아래의 그림 'A'에서 노드 `e`는 노드 `c`에 직접의존(direct dependeny)하고 있고, 노드 `a`에는 간접의존(indirect dependency) 한다.\n",
    "\n",
    "![](./images/graph02.png)\n",
    "\n",
    "위의 그림에서 노드`e`를 계산하기 위해서는 노드 `c, b, a`만 계산 해주면 된다. 따라서, 의존관계를 이용해 연산량이 최소화할 수 있다. 이처럼 그래프를 통해 각 노드의 모든 의존관계를 파악할 수 있다."
   ]
  },
  {
   "cell_type": "code",
   "execution_count": 11,
   "metadata": {},
   "outputs": [
    {
     "name": "stdout",
     "output_type": "stream",
     "text": [
      "10\n",
      "15\n"
     ]
    }
   ],
   "source": [
    "w = tf.constant(3)\n",
    "x = w + 2\n",
    "y = tf.add(x, 5)\n",
    "z = x * 3\n",
    "\n",
    "with tf.Session() as sess:\n",
    "    y_val, z_val = sess.run([y, z])\n",
    "    print(y_val)  # 10\n",
    "    print(z_val)  # 15"
   ]
  },
  {
   "cell_type": "markdown",
   "metadata": {},
   "source": [
    " "
   ]
  },
  {
   "cell_type": "markdown",
   "metadata": {},
   "source": [
    "## 9.5 텐서플로를 이용한 선형 회귀"
   ]
  },
  {
   "cell_type": "markdown",
   "metadata": {},
   "source": [
    "### 정규식을 이용한 선형 회귀 풀이\n",
    "\n",
    "$$\n",
    "\\hat{\\mathbf{W}} = \\left(\\mathbf{X}^{T} \\mathbf{X} \\right)^{-1} \\mathbf{X}^{T} \\mathbf{Y} \n",
    "$$"
   ]
  },
  {
   "cell_type": "code",
   "execution_count": 12,
   "metadata": {},
   "outputs": [
    {
     "name": "stdout",
     "output_type": "stream",
     "text": [
      "data shape : (20640, 8)\n",
      "data_plus_bias shape : (20640, 9)\n"
     ]
    }
   ],
   "source": [
    "import numpy as np\n",
    "from sklearn.datasets import fetch_california_housing\n",
    "\n",
    "reset_graph()\n",
    "\n",
    "housing = fetch_california_housing()\n",
    "m, n = housing.data.shape\n",
    "# bias 추가\n",
    "housing_data_plus_bias = np.c_[np.ones((m, 1)), housing.data]\n",
    "\n",
    "print('data shape :', housing.data.shape)\n",
    "print('data_plus_bias shape :', housing_data_plus_bias.shape)"
   ]
  },
  {
   "cell_type": "code",
   "execution_count": 13,
   "metadata": {},
   "outputs": [
    {
     "name": "stdout",
     "output_type": "stream",
     "text": [
      "[[-3.7185181e+01]\n",
      " [ 4.3633747e-01]\n",
      " [ 9.3952334e-03]\n",
      " [-1.0711310e-01]\n",
      " [ 6.4479220e-01]\n",
      " [-4.0338000e-06]\n",
      " [-3.7813708e-03]\n",
      " [-4.2348403e-01]\n",
      " [-4.3721911e-01]]\n"
     ]
    }
   ],
   "source": [
    "X = tf.constant(housing_data_plus_bias, dtype=tf.float32, name=\"X\")\n",
    "y = tf.constant(housing.target.reshape(-1, 1), dtype=tf.float32, name='y')  # (20640, 1)\n",
    "X_t = tf.transpose(X)\n",
    "weight = tf.matmul(tf.matmul(tf.matrix_inverse(tf.matmul(X_t, X)), X_t), y)\n",
    "\n",
    "with tf.Session() as sess:\n",
    "    weight_val = weight.eval()\n",
    "    \n",
    "print(weight_val)"
   ]
  },
  {
   "cell_type": "markdown",
   "metadata": {},
   "source": [
    " "
   ]
  },
  {
   "cell_type": "markdown",
   "metadata": {},
   "source": [
    "### Scikit-Learn과 비교"
   ]
  },
  {
   "cell_type": "code",
   "execution_count": 14,
   "metadata": {},
   "outputs": [
    {
     "name": "stdout",
     "output_type": "stream",
     "text": [
      "[[-3.69419202e+01]\n",
      " [ 4.36693293e-01]\n",
      " [ 9.43577803e-03]\n",
      " [-1.07322041e-01]\n",
      " [ 6.45065694e-01]\n",
      " [-3.97638942e-06]\n",
      " [-3.78654265e-03]\n",
      " [-4.21314378e-01]\n",
      " [-4.34513755e-01]]\n"
     ]
    },
    {
     "name": "stderr",
     "output_type": "stream",
     "text": [
      "/Users/cjh/miniconda3/envs/tensorflow/lib/python3.6/site-packages/sklearn/linear_model/base.py:509: RuntimeWarning: internal gelsd driver lwork query error, required iwork dimension not returned. This is likely the result of LAPACK bug 0038, fixed in LAPACK 3.2.2 (released July 21, 2010). Falling back to 'gelss' driver.\n",
      "  linalg.lstsq(X, y)\n"
     ]
    }
   ],
   "source": [
    "from sklearn.linear_model import LinearRegression\n",
    "\n",
    "lin_reg = LinearRegression()\n",
    "lin_reg.fit(housing.data, housing.target.reshape(-1, 1))\n",
    "\n",
    "print(np.r_[lin_reg.intercept_.reshape(-1, 1), lin_reg.coef_.T])"
   ]
  },
  {
   "cell_type": "markdown",
   "metadata": {},
   "source": [
    " "
   ]
  },
  {
   "cell_type": "markdown",
   "metadata": {},
   "source": [
    "## 9.6 경사 하강법 구현\n",
    "\n",
    "> 경사 하강법을 사용할 때는 입력 특성 벡터를 정규화(normalization)해주는 것이 중요하다. 그렇지 않으면 학습속도가 매우 느려진다. "
   ]
  },
  {
   "cell_type": "markdown",
   "metadata": {},
   "source": [
    "### StandardScaler를 이용한 정규화(normalization)"
   ]
  },
  {
   "cell_type": "code",
   "execution_count": 15,
   "metadata": {},
   "outputs": [],
   "source": [
    "from sklearn.preprocessing import StandardScaler\n",
    "\n",
    "scaler = StandardScaler()\n",
    "scaled_housing_data = scaler.fit_transform(housing.data)\n",
    "scaled_housing_data_plus_bias = np.c_[np.ones((m, 1)), scaled_housing_data]"
   ]
  },
  {
   "cell_type": "code",
   "execution_count": 16,
   "metadata": {},
   "outputs": [
    {
     "name": "stdout",
     "output_type": "stream",
     "text": [
      "[ 1.00000000e+00  6.60969987e-17  5.50808322e-18  6.60969987e-17\n",
      " -1.06030602e-16 -1.10161664e-17  3.44255201e-18 -1.07958431e-15\n",
      " -8.52651283e-15]\n",
      "[ 0.38915536  0.36424355  0.5116157  ... -0.06612179 -0.06360587\n",
      "  0.01359031]\n",
      "0.11111111111111005\n",
      "(20640, 9)\n"
     ]
    }
   ],
   "source": [
    "print(scaled_housing_data_plus_bias.mean(axis=0))\n",
    "print(scaled_housing_data_plus_bias.mean(axis=1))\n",
    "print(scaled_housing_data_plus_bias.mean())\n",
    "print(scaled_housing_data_plus_bias.shape)"
   ]
  },
  {
   "cell_type": "markdown",
   "metadata": {},
   "source": [
    " "
   ]
  },
  {
   "cell_type": "markdown",
   "metadata": {},
   "source": [
    "### 9.6.1 직접 그래디언트 계산"
   ]
  },
  {
   "cell_type": "code",
   "execution_count": 17,
   "metadata": {},
   "outputs": [
    {
     "name": "stdout",
     "output_type": "stream",
     "text": [
      "epoch: 000, MSE = 9.161543\n",
      "epoch: 100, MSE = 0.714501\n",
      "epoch: 200, MSE = 0.566705\n",
      "epoch: 300, MSE = 0.555572\n",
      "epoch: 400, MSE = 0.548811\n",
      "epoch: 500, MSE = 0.543636\n",
      "epoch: 600, MSE = 0.539629\n",
      "epoch: 700, MSE = 0.536509\n",
      "epoch: 800, MSE = 0.534068\n",
      "epoch: 900, MSE = 0.532147\n",
      "[[ 2.0685523 ]\n",
      " [ 0.8874027 ]\n",
      " [ 0.14401656]\n",
      " [-0.34770885]\n",
      " [ 0.36178368]\n",
      " [ 0.00393811]\n",
      " [-0.04269556]\n",
      " [-0.66145283]\n",
      " [-0.6375278 ]]\n"
     ]
    }
   ],
   "source": [
    "reset_graph()\n",
    "\n",
    "n_epochs = 1000\n",
    "learning_rate = 0.01\n",
    "\n",
    "X = tf.constant(scaled_housing_data_plus_bias, dtype=tf.float32, name=\"X\")\n",
    "y = tf.constant(housing.target.reshape(-1, 1), dtype=tf.float32, name='y')\n",
    "W = tf.Variable(tf.random_uniform([n + 1, 1], -1.0, 1.0, seed=42), name='W')\n",
    "\n",
    "y_pred = tf.matmul(X, W, name='predictions')  # y = wx + b\n",
    "error = y_pred - y\n",
    "mse = tf.reduce_mean(tf.square(error), name='mse')\n",
    "gradients = 2/m * tf.matmul(tf.transpose(X), error)\n",
    "training_op = tf.assign(W, W - learning_rate * gradients)\n",
    "\n",
    "init = tf.global_variables_initializer()\n",
    "\n",
    "with tf.Session() as sess:\n",
    "    sess.run(init)\n",
    "    \n",
    "    for epoch in range(n_epochs):\n",
    "        if epoch % 100 == 0:\n",
    "            print(\"epoch: {:03d}, MSE = {:.6f}\".format(epoch, mse.eval()))\n",
    "        sess.run(training_op)\n",
    "        \n",
    "    best_W = W.eval()  # sess.run(W)\n",
    "\n",
    "print(best_W)"
   ]
  },
  {
   "cell_type": "markdown",
   "metadata": {},
   "source": [
    " "
   ]
  },
  {
   "cell_type": "markdown",
   "metadata": {},
   "source": [
    "### 9.6.2 자동 미분 사용"
   ]
  },
  {
   "cell_type": "code",
   "execution_count": 18,
   "metadata": {},
   "outputs": [
    {
     "name": "stdout",
     "output_type": "stream",
     "text": [
      "epoch: 000, MSE = 9.161543\n",
      "epoch: 100, MSE = 0.714501\n",
      "epoch: 200, MSE = 0.566705\n",
      "epoch: 300, MSE = 0.555572\n",
      "epoch: 400, MSE = 0.548811\n",
      "epoch: 500, MSE = 0.543636\n",
      "epoch: 600, MSE = 0.539629\n",
      "epoch: 700, MSE = 0.536509\n",
      "epoch: 800, MSE = 0.534068\n",
      "epoch: 900, MSE = 0.532147\n",
      "[[ 2.0685525 ]\n",
      " [ 0.8874027 ]\n",
      " [ 0.14401658]\n",
      " [-0.34770882]\n",
      " [ 0.36178368]\n",
      " [ 0.00393811]\n",
      " [-0.04269556]\n",
      " [-0.6614528 ]\n",
      " [-0.6375277 ]]\n"
     ]
    }
   ],
   "source": [
    "reset_graph()\n",
    "\n",
    "n_epochs = 1000\n",
    "learning_rate = 0.01\n",
    "\n",
    "X = tf.constant(scaled_housing_data_plus_bias, dtype=tf.float32, name=\"X\")\n",
    "y = tf.constant(housing.target.reshape(-1, 1), dtype=tf.float32, name='y')\n",
    "W = tf.Variable(tf.random_uniform([n + 1, 1], -1.0, 1.0, seed=42), name='W')\n",
    "\n",
    "y_pred = tf.matmul(X, W, name='predictions')  # y = wx + b\n",
    "error = y_pred - y\n",
    "mse = tf.reduce_mean(tf.square(error), name='mse')\n",
    "\n",
    "# auto-gradients\n",
    "gradients = tf.gradients(mse, [W])[0]\n",
    "training_op = tf.assign(W, W - learning_rate * gradients)\n",
    "\n",
    "init = tf.global_variables_initializer()\n",
    "\n",
    "with tf.Session() as sess:\n",
    "    sess.run(init)\n",
    "    \n",
    "    for epoch in range(n_epochs):\n",
    "        if epoch % 100 == 0:\n",
    "            print(\"epoch: {:03d}, MSE = {:.6f}\".format(epoch, mse.eval()))\n",
    "        sess.run(training_op)\n",
    "        \n",
    "    best_W = W.eval()  # sess.run(W)\n",
    "\n",
    "print(best_W)"
   ]
  },
  {
   "cell_type": "markdown",
   "metadata": {},
   "source": [
    " "
   ]
  },
  {
   "cell_type": "markdown",
   "metadata": {},
   "source": [
    "### 9.6.3 Optimizer 사용하기"
   ]
  },
  {
   "cell_type": "code",
   "execution_count": 19,
   "metadata": {},
   "outputs": [
    {
     "name": "stdout",
     "output_type": "stream",
     "text": [
      "epoch: 000, MSE = 9.161543\n",
      "epoch: 100, MSE = 0.714501\n",
      "epoch: 200, MSE = 0.566705\n",
      "epoch: 300, MSE = 0.555572\n",
      "epoch: 400, MSE = 0.548811\n",
      "epoch: 500, MSE = 0.543636\n",
      "epoch: 600, MSE = 0.539629\n",
      "epoch: 700, MSE = 0.536509\n",
      "epoch: 800, MSE = 0.534068\n",
      "epoch: 900, MSE = 0.532147\n",
      "[[ 2.0685525 ]\n",
      " [ 0.8874027 ]\n",
      " [ 0.14401658]\n",
      " [-0.34770882]\n",
      " [ 0.36178368]\n",
      " [ 0.00393811]\n",
      " [-0.04269556]\n",
      " [-0.6614528 ]\n",
      " [-0.6375277 ]]\n"
     ]
    }
   ],
   "source": [
    "reset_graph()\n",
    "\n",
    "n_epochs = 1000\n",
    "learning_rate = 0.01\n",
    "\n",
    "X = tf.constant(scaled_housing_data_plus_bias, dtype=tf.float32, name=\"X\")\n",
    "y = tf.constant(housing.target.reshape(-1, 1), dtype=tf.float32, name='y')\n",
    "W = tf.Variable(tf.random_uniform([n + 1, 1], -1.0, 1.0, seed=42), name='W')\n",
    "\n",
    "y_pred = tf.matmul(X, W, name='predictions')  # y = wx + b\n",
    "error = y_pred - y\n",
    "mse = tf.reduce_mean(tf.square(error), name='mse')\n",
    "\n",
    "# optimizer\n",
    "optimizer = tf.train.GradientDescentOptimizer(learning_rate=learning_rate)\n",
    "training_op = optimizer.minimize(mse)\n",
    "\n",
    "init = tf.global_variables_initializer()\n",
    "\n",
    "with tf.Session() as sess:\n",
    "    sess.run(init)\n",
    "    \n",
    "    for epoch in range(n_epochs):\n",
    "        if epoch % 100 == 0:\n",
    "            print(\"epoch: {:03d}, MSE = {:.6f}\".format(epoch, mse.eval()))\n",
    "        sess.run(training_op)\n",
    "        \n",
    "    best_W = W.eval()  # sess.run(W)\n",
    "\n",
    "print(best_W)"
   ]
  },
  {
   "cell_type": "markdown",
   "metadata": {},
   "source": [
    " "
   ]
  },
  {
   "cell_type": "markdown",
   "metadata": {},
   "source": [
    "## 9.7 훈련 알고리즘에 데이터 주입"
   ]
  },
  {
   "cell_type": "markdown",
   "metadata": {},
   "source": [
    "### Placeholder\n",
    "\n",
    "딥러닝에서 데이터에 대한 학습이 이루어질 때 학습할 데이터들을 입력해줘야 한다. 텐서플로에서는 입력값을 넣어주기 위해 **플레이스홀더(placeholder)**라는 것이 있다. 플레이스홀더는 데이터를 입력받는 비어있는 변수라고 생각할 수 있다. 먼저 그래프를 구성하고, 그 그래프가 실행되는 시점에 입력 데이터를 넣어주는 데 사용한다.\n",
    "\n",
    "플레이스홀더는 shape 인수를 유동적으로 지정할 수 있다. 예를 들어, `None`으로 지정되면 이 플레이스홀더는 모든 크기의 데이터를 받을 수 있다. 주로 배치단위(`batch size`)의 샘플 데이터 개수에 해당 되는 부분(데이터의 행)은 `None`을 사용하고, 데이터 Feature의 길이(데이터의 열)는 고정된 값을 사용한다.\n",
    "\n",
    "플레이스홀더를 정의하면 반드시 그래프 실행 단계에서 입력값을 넣어줘야 하며, 그렇지 않을 경우 에러가 나타난다. 입력 데이터는 딕셔너리(dictionary)형태로 `session.run()`메소드를 통해 전달된다. 딕셔너리의 키(key)는 플레이스홀더 변수 이름에 해당하며 값(value)은 list 또는 NumPy 배열이다."
   ]
  },
  {
   "cell_type": "code",
   "execution_count": 20,
   "metadata": {},
   "outputs": [
    {
     "name": "stdout",
     "output_type": "stream",
     "text": [
      "B_val_1:\n",
      "[[6. 7. 8.]]\n",
      "B_val_2:\n",
      "[[ 9. 10. 11.]\n",
      " [12. 13. 14.]]\n"
     ]
    }
   ],
   "source": [
    "reset_graph()\n",
    "\n",
    "A = tf.placeholder(tf.float32, shape=(None, 3))\n",
    "B = A + 5\n",
    "with tf.Session() as sess:\n",
    "    B_val_1 = B.eval(feed_dict={A: [[1, 2, 3]]})\n",
    "    B_val_2 = B.eval(feed_dict={A: np.array([[4, 5, 6],\n",
    "                                             [7, 8, 9]])})\n",
    "    \n",
    "print('B_val_1:\\n{}'.format(B_val_1))\n",
    "print('B_val_2:\\n{}'.format(B_val_2))"
   ]
  },
  {
   "cell_type": "markdown",
   "metadata": {},
   "source": [
    " "
   ]
  },
  {
   "cell_type": "markdown",
   "metadata": {},
   "source": [
    "### Mini-batch Gradient Descent"
   ]
  },
  {
   "cell_type": "code",
   "execution_count": 21,
   "metadata": {},
   "outputs": [
    {
     "name": "stdout",
     "output_type": "stream",
     "text": [
      "[[ 2.0703337 ]\n",
      " [ 0.8637145 ]\n",
      " [ 0.12255151]\n",
      " [-0.31211874]\n",
      " [ 0.38510373]\n",
      " [ 0.00434168]\n",
      " [-0.01232954]\n",
      " [-0.83376896]\n",
      " [-0.8030471 ]]\n"
     ]
    }
   ],
   "source": [
    "reset_graph()\n",
    "\n",
    "# placeholder setting\n",
    "X = tf.placeholder(tf.float32, shape=(None, n + 1), name=\"X\")  # (None, 9)\n",
    "y = tf.placeholder(tf.float32, shape=(None, 1), name=\"y\")\n",
    "\n",
    "W = tf.Variable(tf.random_uniform([n + 1, 1], -1.0, 1.0, seed=42), name='W')\n",
    "\n",
    "y_pred = tf.matmul(X, W, name='predictions')  # y = wx + b\n",
    "error = y_pred - y\n",
    "mse = tf.reduce_mean(tf.square(error), name='mse')\n",
    "\n",
    "# optimizer\n",
    "optimizer = tf.train.GradientDescentOptimizer(learning_rate=learning_rate)\n",
    "training_op = optimizer.minimize(mse)\n",
    "\n",
    "################\n",
    "# hyper-params #\n",
    "################\n",
    "n_epochs = 10\n",
    "batch_size = 100\n",
    "n_batches = int(np.ceil(m / batch_size))  # (20640/100) 올림\n",
    "\n",
    "# mini-batch random sampling\n",
    "def fetch_batch(epoch, batch_index, batch_size):\n",
    "    \"\"\" epoch당 batch_size만큼 Random sampling 하는 메소드\n",
    "    \n",
    "    Args:\n",
    "        - epoch: training epoch\n",
    "        - batch_index: batch steps\n",
    "        - batch_size: batch size\n",
    "    \n",
    "    Returns:\n",
    "        - X_batch, y_batch: batch size만큼의 X, y 데이터셋\n",
    "    \"\"\"    \n",
    "    np.random.seed(epoch * n_batches + batch_index)\n",
    "    indices = np.random.randint(m, size=batch_size)\n",
    "    X_batch = scaled_housing_data_plus_bias[indices]\n",
    "    y_batch = housing.target.reshape(-1, 1)[indices]\n",
    "    return X_batch, y_batch\n",
    "\n",
    "\n",
    "# Training\n",
    "init = tf.global_variables_initializer()\n",
    "with tf.Session() as sess:\n",
    "    sess.run(init)\n",
    "    \n",
    "    for epoch in range(n_epochs):\n",
    "        for batch_index in range(n_batches):\n",
    "            X_batch, y_batch = fetch_batch(epoch, batch_index, batch_size)\n",
    "            sess.run(training_op, feed_dict={X: X_batch, y: y_batch})\n",
    "            \n",
    "    best_W = W.eval()\n",
    "    \n",
    "print(best_W)"
   ]
  },
  {
   "cell_type": "markdown",
   "metadata": {},
   "source": [
    " "
   ]
  },
  {
   "cell_type": "markdown",
   "metadata": {},
   "source": [
    "## 9.8 모델 저장과 복원"
   ]
  },
  {
   "cell_type": "markdown",
   "metadata": {},
   "source": [
    "### Model Save"
   ]
  },
  {
   "cell_type": "code",
   "execution_count": 22,
   "metadata": {},
   "outputs": [
    {
     "name": "stdout",
     "output_type": "stream",
     "text": [
      "epoch: 000, MSE = 9.161543\n",
      "epoch: 100, MSE = 0.714501\n",
      "epoch: 200, MSE = 0.566705\n",
      "epoch: 300, MSE = 0.555572\n",
      "epoch: 400, MSE = 0.548811\n",
      "epoch: 500, MSE = 0.543636\n",
      "epoch: 600, MSE = 0.539629\n",
      "epoch: 700, MSE = 0.536509\n",
      "epoch: 800, MSE = 0.534068\n",
      "epoch: 900, MSE = 0.532147\n",
      "[[ 2.0685525 ]\n",
      " [ 0.8874027 ]\n",
      " [ 0.14401658]\n",
      " [-0.34770882]\n",
      " [ 0.36178368]\n",
      " [ 0.00393811]\n",
      " [-0.04269556]\n",
      " [-0.6614528 ]\n",
      " [-0.6375277 ]]\n"
     ]
    }
   ],
   "source": [
    "reset_graph()\n",
    "\n",
    "n_epochs = 1000\n",
    "learning_rate = 0.01\n",
    "\n",
    "X = tf.constant(scaled_housing_data_plus_bias, dtype=tf.float32, name=\"X\")\n",
    "y = tf.constant(housing.target.reshape(-1, 1), dtype=tf.float32, name='y')\n",
    "W = tf.Variable(tf.random_uniform([n + 1, 1], -1.0, 1.0, seed=42), name='W')\n",
    "\n",
    "y_pred = tf.matmul(X, W, name='predictions')  # y = wx + b\n",
    "error = y_pred - y\n",
    "\n",
    "# loss function\n",
    "mse = tf.reduce_mean(tf.square(error), name='mse')\n",
    "# optimizer\n",
    "optimizer = tf.train.GradientDescentOptimizer(learning_rate=learning_rate)\n",
    "training_op = optimizer.minimize(mse)\n",
    "\n",
    "init = tf.global_variables_initializer()\n",
    "saver = tf.train.Saver(max_to_keep=3)\n",
    "tf.add_to_collection('weight', W)\n",
    "\n",
    "with tf.Session() as sess:\n",
    "    sess.run(init)\n",
    "    \n",
    "    for epoch in range(n_epochs):\n",
    "        if epoch % 100 == 0:\n",
    "            print(\"epoch: {:03d}, MSE = {:.6f}\".format(epoch, mse.eval()))\n",
    "            save_path = saver.save(sess, './model/my_model.ckpt')\n",
    "        sess.run(training_op)\n",
    "        \n",
    "    best_W = W.eval()  # sess.run(W)\n",
    "    save_path = saver.save(sess, \"./model/my_model_final.ckpt\")\n",
    "\n",
    "print(best_W)"
   ]
  },
  {
   "cell_type": "markdown",
   "metadata": {},
   "source": [
    " "
   ]
  },
  {
   "cell_type": "markdown",
   "metadata": {},
   "source": [
    "### Model Restore"
   ]
  },
  {
   "cell_type": "code",
   "execution_count": 23,
   "metadata": {},
   "outputs": [
    {
     "name": "stdout",
     "output_type": "stream",
     "text": [
      "INFO:tensorflow:Restoring parameters from ./model/my_model_final.ckpt\n",
      "True\n"
     ]
    }
   ],
   "source": [
    "with tf.Session() as sess:\n",
    "    saver.restore(sess, './model/my_model_final.ckpt')\n",
    "    best_W_restored = tf.get_collection('weight')[0]\n",
    "    best_W_restored = best_W_restored.eval()\n",
    "    \n",
    "# compare element-wise equal or not\n",
    "print(np.allclose(best_W, best_W_restored))  # True"
   ]
  },
  {
   "cell_type": "markdown",
   "metadata": {},
   "source": [
    " "
   ]
  },
  {
   "cell_type": "markdown",
   "metadata": {},
   "source": [
    "## 9.9 TensorBoard로 그래프와 학습 곡선 시각화하기\n",
    "\n",
    "위에서 학습시킨 그래프(graph)를 JupyterNotebook 안에서 시각화 및 TensorBoard를 이용해서 시각화 해보자."
   ]
  },
  {
   "cell_type": "markdown",
   "metadata": {},
   "source": [
    "### TensorBoard in JupyterNotebook"
   ]
  },
  {
   "cell_type": "code",
   "execution_count": 24,
   "metadata": {},
   "outputs": [],
   "source": [
    "# TensorFlow Graph visualizer code\n",
    "import numpy as np\n",
    "from IPython.display import clear_output, Image, display, HTML\n",
    "\n",
    "def strip_consts(graph_def, max_const_size=32):\n",
    "    \"\"\"Strip large constant values from graph_def.\"\"\"\n",
    "    strip_def = tf.GraphDef()\n",
    "    for n0 in graph_def.node:\n",
    "        n = strip_def.node.add() \n",
    "        n.MergeFrom(n0)\n",
    "        if n.op == 'Const':\n",
    "            tensor = n.attr['value'].tensor\n",
    "            size = len(tensor.tensor_content)\n",
    "            if size > max_const_size:\n",
    "                tensor.tensor_content = bytes(\"<stripped %d bytes>\"%size, 'utf-8')\n",
    "    return strip_def\n",
    "\n",
    "def show_graph(graph_def, max_const_size=32):\n",
    "    \"\"\"Visualize TensorFlow graph.\"\"\"\n",
    "    if hasattr(graph_def, 'as_graph_def'):\n",
    "        graph_def = graph_def.as_graph_def()\n",
    "    strip_def = strip_consts(graph_def, max_const_size=max_const_size)\n",
    "    code = \"\"\"\n",
    "        <script src=\"//cdnjs.cloudflare.com/ajax/libs/polymer/0.3.3/platform.js\"></script>\n",
    "        <script>\n",
    "          function load() {{\n",
    "            document.getElementById(\"{id}\").pbtxt = {data};\n",
    "          }}\n",
    "        </script>\n",
    "        <link rel=\"import\" href=\"https://tensorboard.appspot.com/tf-graph-basic.build.html\" onload=load()>\n",
    "        <div style=\"height:600px\">\n",
    "          <tf-graph-basic id=\"{id}\"></tf-graph-basic>\n",
    "        </div>\n",
    "    \"\"\".format(data=repr(str(strip_def)), id='graph'+str(np.random.rand()))\n",
    "\n",
    "    iframe = \"\"\"\n",
    "        <iframe seamless style=\"width:1200px;height:620px;border:0\" srcdoc=\"{}\"></iframe>\n",
    "    \"\"\".format(code.replace('\"', '&quot;'))\n",
    "    display(HTML(iframe))"
   ]
  },
  {
   "cell_type": "code",
   "execution_count": 25,
   "metadata": {},
   "outputs": [
    {
     "data": {
      "text/html": [
       "\n",
       "        <iframe seamless style=\"width:1200px;height:620px;border:0\" srcdoc=\"\n",
       "        <script src=&quot;//cdnjs.cloudflare.com/ajax/libs/polymer/0.3.3/platform.js&quot;></script>\n",
       "        <script>\n",
       "          function load() {\n",
       "            document.getElementById(&quot;graph0.3745401188473625&quot;).pbtxt = 'node {\\n  name: &quot;X&quot;\\n  op: &quot;Const&quot;\\n  attr {\\n    key: &quot;dtype&quot;\\n    value {\\n      type: DT_FLOAT\\n    }\\n  }\\n  attr {\\n    key: &quot;value&quot;\\n    value {\\n      tensor {\\n        dtype: DT_FLOAT\\n        tensor_shape {\\n          dim {\\n            size: 20640\\n          }\\n          dim {\\n            size: 9\\n          }\\n        }\\n        tensor_content: &quot;<stripped 743040 bytes>&quot;\\n      }\\n    }\\n  }\\n}\\nnode {\\n  name: &quot;y&quot;\\n  op: &quot;Const&quot;\\n  attr {\\n    key: &quot;dtype&quot;\\n    value {\\n      type: DT_FLOAT\\n    }\\n  }\\n  attr {\\n    key: &quot;value&quot;\\n    value {\\n      tensor {\\n        dtype: DT_FLOAT\\n        tensor_shape {\\n          dim {\\n            size: 20640\\n          }\\n          dim {\\n            size: 1\\n          }\\n        }\\n        tensor_content: &quot;<stripped 82560 bytes>&quot;\\n      }\\n    }\\n  }\\n}\\nnode {\\n  name: &quot;random_uniform/shape&quot;\\n  op: &quot;Const&quot;\\n  attr {\\n    key: &quot;dtype&quot;\\n    value {\\n      type: DT_INT32\\n    }\\n  }\\n  attr {\\n    key: &quot;value&quot;\\n    value {\\n      tensor {\\n        dtype: DT_INT32\\n        tensor_shape {\\n          dim {\\n            size: 2\\n          }\\n        }\\n        tensor_content: &quot;\\\\t\\\\000\\\\000\\\\000\\\\001\\\\000\\\\000\\\\000&quot;\\n      }\\n    }\\n  }\\n}\\nnode {\\n  name: &quot;random_uniform/min&quot;\\n  op: &quot;Const&quot;\\n  attr {\\n    key: &quot;dtype&quot;\\n    value {\\n      type: DT_FLOAT\\n    }\\n  }\\n  attr {\\n    key: &quot;value&quot;\\n    value {\\n      tensor {\\n        dtype: DT_FLOAT\\n        tensor_shape {\\n        }\\n        float_val: -1.0\\n      }\\n    }\\n  }\\n}\\nnode {\\n  name: &quot;random_uniform/max&quot;\\n  op: &quot;Const&quot;\\n  attr {\\n    key: &quot;dtype&quot;\\n    value {\\n      type: DT_FLOAT\\n    }\\n  }\\n  attr {\\n    key: &quot;value&quot;\\n    value {\\n      tensor {\\n        dtype: DT_FLOAT\\n        tensor_shape {\\n        }\\n        float_val: 1.0\\n      }\\n    }\\n  }\\n}\\nnode {\\n  name: &quot;random_uniform/RandomUniform&quot;\\n  op: &quot;RandomUniform&quot;\\n  input: &quot;random_uniform/shape&quot;\\n  attr {\\n    key: &quot;T&quot;\\n    value {\\n      type: DT_INT32\\n    }\\n  }\\n  attr {\\n    key: &quot;dtype&quot;\\n    value {\\n      type: DT_FLOAT\\n    }\\n  }\\n  attr {\\n    key: &quot;seed&quot;\\n    value {\\n      i: 42\\n    }\\n  }\\n  attr {\\n    key: &quot;seed2&quot;\\n    value {\\n      i: 42\\n    }\\n  }\\n}\\nnode {\\n  name: &quot;random_uniform/sub&quot;\\n  op: &quot;Sub&quot;\\n  input: &quot;random_uniform/max&quot;\\n  input: &quot;random_uniform/min&quot;\\n  attr {\\n    key: &quot;T&quot;\\n    value {\\n      type: DT_FLOAT\\n    }\\n  }\\n}\\nnode {\\n  name: &quot;random_uniform/mul&quot;\\n  op: &quot;Mul&quot;\\n  input: &quot;random_uniform/RandomUniform&quot;\\n  input: &quot;random_uniform/sub&quot;\\n  attr {\\n    key: &quot;T&quot;\\n    value {\\n      type: DT_FLOAT\\n    }\\n  }\\n}\\nnode {\\n  name: &quot;random_uniform&quot;\\n  op: &quot;Add&quot;\\n  input: &quot;random_uniform/mul&quot;\\n  input: &quot;random_uniform/min&quot;\\n  attr {\\n    key: &quot;T&quot;\\n    value {\\n      type: DT_FLOAT\\n    }\\n  }\\n}\\nnode {\\n  name: &quot;W&quot;\\n  op: &quot;VariableV2&quot;\\n  attr {\\n    key: &quot;container&quot;\\n    value {\\n      s: &quot;&quot;\\n    }\\n  }\\n  attr {\\n    key: &quot;dtype&quot;\\n    value {\\n      type: DT_FLOAT\\n    }\\n  }\\n  attr {\\n    key: &quot;shape&quot;\\n    value {\\n      shape {\\n        dim {\\n          size: 9\\n        }\\n        dim {\\n          size: 1\\n        }\\n      }\\n    }\\n  }\\n  attr {\\n    key: &quot;shared_name&quot;\\n    value {\\n      s: &quot;&quot;\\n    }\\n  }\\n}\\nnode {\\n  name: &quot;W/Assign&quot;\\n  op: &quot;Assign&quot;\\n  input: &quot;W&quot;\\n  input: &quot;random_uniform&quot;\\n  attr {\\n    key: &quot;T&quot;\\n    value {\\n      type: DT_FLOAT\\n    }\\n  }\\n  attr {\\n    key: &quot;_class&quot;\\n    value {\\n      list {\\n        s: &quot;loc:@W&quot;\\n      }\\n    }\\n  }\\n  attr {\\n    key: &quot;use_locking&quot;\\n    value {\\n      b: true\\n    }\\n  }\\n  attr {\\n    key: &quot;validate_shape&quot;\\n    value {\\n      b: true\\n    }\\n  }\\n}\\nnode {\\n  name: &quot;W/read&quot;\\n  op: &quot;Identity&quot;\\n  input: &quot;W&quot;\\n  attr {\\n    key: &quot;T&quot;\\n    value {\\n      type: DT_FLOAT\\n    }\\n  }\\n  attr {\\n    key: &quot;_class&quot;\\n    value {\\n      list {\\n        s: &quot;loc:@W&quot;\\n      }\\n    }\\n  }\\n}\\nnode {\\n  name: &quot;predictions&quot;\\n  op: &quot;MatMul&quot;\\n  input: &quot;X&quot;\\n  input: &quot;W/read&quot;\\n  attr {\\n    key: &quot;T&quot;\\n    value {\\n      type: DT_FLOAT\\n    }\\n  }\\n  attr {\\n    key: &quot;transpose_a&quot;\\n    value {\\n      b: false\\n    }\\n  }\\n  attr {\\n    key: &quot;transpose_b&quot;\\n    value {\\n      b: false\\n    }\\n  }\\n}\\nnode {\\n  name: &quot;sub&quot;\\n  op: &quot;Sub&quot;\\n  input: &quot;predictions&quot;\\n  input: &quot;y&quot;\\n  attr {\\n    key: &quot;T&quot;\\n    value {\\n      type: DT_FLOAT\\n    }\\n  }\\n}\\nnode {\\n  name: &quot;Square&quot;\\n  op: &quot;Square&quot;\\n  input: &quot;sub&quot;\\n  attr {\\n    key: &quot;T&quot;\\n    value {\\n      type: DT_FLOAT\\n    }\\n  }\\n}\\nnode {\\n  name: &quot;Const&quot;\\n  op: &quot;Const&quot;\\n  attr {\\n    key: &quot;dtype&quot;\\n    value {\\n      type: DT_INT32\\n    }\\n  }\\n  attr {\\n    key: &quot;value&quot;\\n    value {\\n      tensor {\\n        dtype: DT_INT32\\n        tensor_shape {\\n          dim {\\n            size: 2\\n          }\\n        }\\n        tensor_content: &quot;\\\\000\\\\000\\\\000\\\\000\\\\001\\\\000\\\\000\\\\000&quot;\\n      }\\n    }\\n  }\\n}\\nnode {\\n  name: &quot;mse&quot;\\n  op: &quot;Mean&quot;\\n  input: &quot;Square&quot;\\n  input: &quot;Const&quot;\\n  attr {\\n    key: &quot;T&quot;\\n    value {\\n      type: DT_FLOAT\\n    }\\n  }\\n  attr {\\n    key: &quot;Tidx&quot;\\n    value {\\n      type: DT_INT32\\n    }\\n  }\\n  attr {\\n    key: &quot;keep_dims&quot;\\n    value {\\n      b: false\\n    }\\n  }\\n}\\nnode {\\n  name: &quot;gradients/Shape&quot;\\n  op: &quot;Const&quot;\\n  attr {\\n    key: &quot;dtype&quot;\\n    value {\\n      type: DT_INT32\\n    }\\n  }\\n  attr {\\n    key: &quot;value&quot;\\n    value {\\n      tensor {\\n        dtype: DT_INT32\\n        tensor_shape {\\n          dim {\\n          }\\n        }\\n      }\\n    }\\n  }\\n}\\nnode {\\n  name: &quot;gradients/grad_ys_0&quot;\\n  op: &quot;Const&quot;\\n  attr {\\n    key: &quot;dtype&quot;\\n    value {\\n      type: DT_FLOAT\\n    }\\n  }\\n  attr {\\n    key: &quot;value&quot;\\n    value {\\n      tensor {\\n        dtype: DT_FLOAT\\n        tensor_shape {\\n        }\\n        float_val: 1.0\\n      }\\n    }\\n  }\\n}\\nnode {\\n  name: &quot;gradients/Fill&quot;\\n  op: &quot;Fill&quot;\\n  input: &quot;gradients/Shape&quot;\\n  input: &quot;gradients/grad_ys_0&quot;\\n  attr {\\n    key: &quot;T&quot;\\n    value {\\n      type: DT_FLOAT\\n    }\\n  }\\n  attr {\\n    key: &quot;index_type&quot;\\n    value {\\n      type: DT_INT32\\n    }\\n  }\\n}\\nnode {\\n  name: &quot;gradients/mse_grad/Reshape/shape&quot;\\n  op: &quot;Const&quot;\\n  attr {\\n    key: &quot;dtype&quot;\\n    value {\\n      type: DT_INT32\\n    }\\n  }\\n  attr {\\n    key: &quot;value&quot;\\n    value {\\n      tensor {\\n        dtype: DT_INT32\\n        tensor_shape {\\n          dim {\\n            size: 2\\n          }\\n        }\\n        tensor_content: &quot;\\\\001\\\\000\\\\000\\\\000\\\\001\\\\000\\\\000\\\\000&quot;\\n      }\\n    }\\n  }\\n}\\nnode {\\n  name: &quot;gradients/mse_grad/Reshape&quot;\\n  op: &quot;Reshape&quot;\\n  input: &quot;gradients/Fill&quot;\\n  input: &quot;gradients/mse_grad/Reshape/shape&quot;\\n  attr {\\n    key: &quot;T&quot;\\n    value {\\n      type: DT_FLOAT\\n    }\\n  }\\n  attr {\\n    key: &quot;Tshape&quot;\\n    value {\\n      type: DT_INT32\\n    }\\n  }\\n}\\nnode {\\n  name: &quot;gradients/mse_grad/Const&quot;\\n  op: &quot;Const&quot;\\n  attr {\\n    key: &quot;dtype&quot;\\n    value {\\n      type: DT_INT32\\n    }\\n  }\\n  attr {\\n    key: &quot;value&quot;\\n    value {\\n      tensor {\\n        dtype: DT_INT32\\n        tensor_shape {\\n          dim {\\n            size: 2\\n          }\\n        }\\n        tensor_content: &quot;\\\\240P\\\\000\\\\000\\\\001\\\\000\\\\000\\\\000&quot;\\n      }\\n    }\\n  }\\n}\\nnode {\\n  name: &quot;gradients/mse_grad/Tile&quot;\\n  op: &quot;Tile&quot;\\n  input: &quot;gradients/mse_grad/Reshape&quot;\\n  input: &quot;gradients/mse_grad/Const&quot;\\n  attr {\\n    key: &quot;T&quot;\\n    value {\\n      type: DT_FLOAT\\n    }\\n  }\\n  attr {\\n    key: &quot;Tmultiples&quot;\\n    value {\\n      type: DT_INT32\\n    }\\n  }\\n}\\nnode {\\n  name: &quot;gradients/mse_grad/Const_1&quot;\\n  op: &quot;Const&quot;\\n  attr {\\n    key: &quot;dtype&quot;\\n    value {\\n      type: DT_FLOAT\\n    }\\n  }\\n  attr {\\n    key: &quot;value&quot;\\n    value {\\n      tensor {\\n        dtype: DT_FLOAT\\n        tensor_shape {\\n        }\\n        float_val: 20640.0\\n      }\\n    }\\n  }\\n}\\nnode {\\n  name: &quot;gradients/mse_grad/truediv&quot;\\n  op: &quot;RealDiv&quot;\\n  input: &quot;gradients/mse_grad/Tile&quot;\\n  input: &quot;gradients/mse_grad/Const_1&quot;\\n  attr {\\n    key: &quot;T&quot;\\n    value {\\n      type: DT_FLOAT\\n    }\\n  }\\n}\\nnode {\\n  name: &quot;gradients/Square_grad/Const&quot;\\n  op: &quot;Const&quot;\\n  input: &quot;^gradients/mse_grad/truediv&quot;\\n  attr {\\n    key: &quot;dtype&quot;\\n    value {\\n      type: DT_FLOAT\\n    }\\n  }\\n  attr {\\n    key: &quot;value&quot;\\n    value {\\n      tensor {\\n        dtype: DT_FLOAT\\n        tensor_shape {\\n        }\\n        float_val: 2.0\\n      }\\n    }\\n  }\\n}\\nnode {\\n  name: &quot;gradients/Square_grad/Mul&quot;\\n  op: &quot;Mul&quot;\\n  input: &quot;sub&quot;\\n  input: &quot;gradients/Square_grad/Const&quot;\\n  attr {\\n    key: &quot;T&quot;\\n    value {\\n      type: DT_FLOAT\\n    }\\n  }\\n}\\nnode {\\n  name: &quot;gradients/Square_grad/Mul_1&quot;\\n  op: &quot;Mul&quot;\\n  input: &quot;gradients/mse_grad/truediv&quot;\\n  input: &quot;gradients/Square_grad/Mul&quot;\\n  attr {\\n    key: &quot;T&quot;\\n    value {\\n      type: DT_FLOAT\\n    }\\n  }\\n}\\nnode {\\n  name: &quot;gradients/sub_grad/Neg&quot;\\n  op: &quot;Neg&quot;\\n  input: &quot;gradients/Square_grad/Mul_1&quot;\\n  attr {\\n    key: &quot;T&quot;\\n    value {\\n      type: DT_FLOAT\\n    }\\n  }\\n}\\nnode {\\n  name: &quot;gradients/sub_grad/tuple/group_deps&quot;\\n  op: &quot;NoOp&quot;\\n  input: &quot;^gradients/Square_grad/Mul_1&quot;\\n  input: &quot;^gradients/sub_grad/Neg&quot;\\n}\\nnode {\\n  name: &quot;gradients/sub_grad/tuple/control_dependency&quot;\\n  op: &quot;Identity&quot;\\n  input: &quot;gradients/Square_grad/Mul_1&quot;\\n  input: &quot;^gradients/sub_grad/tuple/group_deps&quot;\\n  attr {\\n    key: &quot;T&quot;\\n    value {\\n      type: DT_FLOAT\\n    }\\n  }\\n  attr {\\n    key: &quot;_class&quot;\\n    value {\\n      list {\\n        s: &quot;loc:@gradients/Square_grad/Mul_1&quot;\\n      }\\n    }\\n  }\\n}\\nnode {\\n  name: &quot;gradients/sub_grad/tuple/control_dependency_1&quot;\\n  op: &quot;Identity&quot;\\n  input: &quot;gradients/sub_grad/Neg&quot;\\n  input: &quot;^gradients/sub_grad/tuple/group_deps&quot;\\n  attr {\\n    key: &quot;T&quot;\\n    value {\\n      type: DT_FLOAT\\n    }\\n  }\\n  attr {\\n    key: &quot;_class&quot;\\n    value {\\n      list {\\n        s: &quot;loc:@gradients/sub_grad/Neg&quot;\\n      }\\n    }\\n  }\\n}\\nnode {\\n  name: &quot;gradients/predictions_grad/MatMul&quot;\\n  op: &quot;MatMul&quot;\\n  input: &quot;gradients/sub_grad/tuple/control_dependency&quot;\\n  input: &quot;W/read&quot;\\n  attr {\\n    key: &quot;T&quot;\\n    value {\\n      type: DT_FLOAT\\n    }\\n  }\\n  attr {\\n    key: &quot;transpose_a&quot;\\n    value {\\n      b: false\\n    }\\n  }\\n  attr {\\n    key: &quot;transpose_b&quot;\\n    value {\\n      b: true\\n    }\\n  }\\n}\\nnode {\\n  name: &quot;gradients/predictions_grad/MatMul_1&quot;\\n  op: &quot;MatMul&quot;\\n  input: &quot;X&quot;\\n  input: &quot;gradients/sub_grad/tuple/control_dependency&quot;\\n  attr {\\n    key: &quot;T&quot;\\n    value {\\n      type: DT_FLOAT\\n    }\\n  }\\n  attr {\\n    key: &quot;transpose_a&quot;\\n    value {\\n      b: true\\n    }\\n  }\\n  attr {\\n    key: &quot;transpose_b&quot;\\n    value {\\n      b: false\\n    }\\n  }\\n}\\nnode {\\n  name: &quot;gradients/predictions_grad/tuple/group_deps&quot;\\n  op: &quot;NoOp&quot;\\n  input: &quot;^gradients/predictions_grad/MatMul&quot;\\n  input: &quot;^gradients/predictions_grad/MatMul_1&quot;\\n}\\nnode {\\n  name: &quot;gradients/predictions_grad/tuple/control_dependency&quot;\\n  op: &quot;Identity&quot;\\n  input: &quot;gradients/predictions_grad/MatMul&quot;\\n  input: &quot;^gradients/predictions_grad/tuple/group_deps&quot;\\n  attr {\\n    key: &quot;T&quot;\\n    value {\\n      type: DT_FLOAT\\n    }\\n  }\\n  attr {\\n    key: &quot;_class&quot;\\n    value {\\n      list {\\n        s: &quot;loc:@gradients/predictions_grad/MatMul&quot;\\n      }\\n    }\\n  }\\n}\\nnode {\\n  name: &quot;gradients/predictions_grad/tuple/control_dependency_1&quot;\\n  op: &quot;Identity&quot;\\n  input: &quot;gradients/predictions_grad/MatMul_1&quot;\\n  input: &quot;^gradients/predictions_grad/tuple/group_deps&quot;\\n  attr {\\n    key: &quot;T&quot;\\n    value {\\n      type: DT_FLOAT\\n    }\\n  }\\n  attr {\\n    key: &quot;_class&quot;\\n    value {\\n      list {\\n        s: &quot;loc:@gradients/predictions_grad/MatMul_1&quot;\\n      }\\n    }\\n  }\\n}\\nnode {\\n  name: &quot;GradientDescent/learning_rate&quot;\\n  op: &quot;Const&quot;\\n  attr {\\n    key: &quot;dtype&quot;\\n    value {\\n      type: DT_FLOAT\\n    }\\n  }\\n  attr {\\n    key: &quot;value&quot;\\n    value {\\n      tensor {\\n        dtype: DT_FLOAT\\n        tensor_shape {\\n        }\\n        float_val: 0.009999999776482582\\n      }\\n    }\\n  }\\n}\\nnode {\\n  name: &quot;GradientDescent/update_W/ApplyGradientDescent&quot;\\n  op: &quot;ApplyGradientDescent&quot;\\n  input: &quot;W&quot;\\n  input: &quot;GradientDescent/learning_rate&quot;\\n  input: &quot;gradients/predictions_grad/tuple/control_dependency_1&quot;\\n  attr {\\n    key: &quot;T&quot;\\n    value {\\n      type: DT_FLOAT\\n    }\\n  }\\n  attr {\\n    key: &quot;_class&quot;\\n    value {\\n      list {\\n        s: &quot;loc:@W&quot;\\n      }\\n    }\\n  }\\n  attr {\\n    key: &quot;use_locking&quot;\\n    value {\\n      b: false\\n    }\\n  }\\n}\\nnode {\\n  name: &quot;GradientDescent&quot;\\n  op: &quot;NoOp&quot;\\n  input: &quot;^GradientDescent/update_W/ApplyGradientDescent&quot;\\n}\\nnode {\\n  name: &quot;init&quot;\\n  op: &quot;NoOp&quot;\\n  input: &quot;^W/Assign&quot;\\n}\\nnode {\\n  name: &quot;save/Const&quot;\\n  op: &quot;Const&quot;\\n  attr {\\n    key: &quot;dtype&quot;\\n    value {\\n      type: DT_STRING\\n    }\\n  }\\n  attr {\\n    key: &quot;value&quot;\\n    value {\\n      tensor {\\n        dtype: DT_STRING\\n        tensor_shape {\\n        }\\n        string_val: &quot;model&quot;\\n      }\\n    }\\n  }\\n}\\nnode {\\n  name: &quot;save/SaveV2/tensor_names&quot;\\n  op: &quot;Const&quot;\\n  attr {\\n    key: &quot;dtype&quot;\\n    value {\\n      type: DT_STRING\\n    }\\n  }\\n  attr {\\n    key: &quot;value&quot;\\n    value {\\n      tensor {\\n        dtype: DT_STRING\\n        tensor_shape {\\n          dim {\\n            size: 1\\n          }\\n        }\\n        string_val: &quot;W&quot;\\n      }\\n    }\\n  }\\n}\\nnode {\\n  name: &quot;save/SaveV2/shape_and_slices&quot;\\n  op: &quot;Const&quot;\\n  attr {\\n    key: &quot;dtype&quot;\\n    value {\\n      type: DT_STRING\\n    }\\n  }\\n  attr {\\n    key: &quot;value&quot;\\n    value {\\n      tensor {\\n        dtype: DT_STRING\\n        tensor_shape {\\n          dim {\\n            size: 1\\n          }\\n        }\\n        string_val: &quot;&quot;\\n      }\\n    }\\n  }\\n}\\nnode {\\n  name: &quot;save/SaveV2&quot;\\n  op: &quot;SaveV2&quot;\\n  input: &quot;save/Const&quot;\\n  input: &quot;save/SaveV2/tensor_names&quot;\\n  input: &quot;save/SaveV2/shape_and_slices&quot;\\n  input: &quot;W&quot;\\n  attr {\\n    key: &quot;dtypes&quot;\\n    value {\\n      list {\\n        type: DT_FLOAT\\n      }\\n    }\\n  }\\n}\\nnode {\\n  name: &quot;save/control_dependency&quot;\\n  op: &quot;Identity&quot;\\n  input: &quot;save/Const&quot;\\n  input: &quot;^save/SaveV2&quot;\\n  attr {\\n    key: &quot;T&quot;\\n    value {\\n      type: DT_STRING\\n    }\\n  }\\n  attr {\\n    key: &quot;_class&quot;\\n    value {\\n      list {\\n        s: &quot;loc:@save/Const&quot;\\n      }\\n    }\\n  }\\n}\\nnode {\\n  name: &quot;save/RestoreV2/tensor_names&quot;\\n  op: &quot;Const&quot;\\n  device: &quot;/device:CPU:0&quot;\\n  attr {\\n    key: &quot;dtype&quot;\\n    value {\\n      type: DT_STRING\\n    }\\n  }\\n  attr {\\n    key: &quot;value&quot;\\n    value {\\n      tensor {\\n        dtype: DT_STRING\\n        tensor_shape {\\n          dim {\\n            size: 1\\n          }\\n        }\\n        string_val: &quot;W&quot;\\n      }\\n    }\\n  }\\n}\\nnode {\\n  name: &quot;save/RestoreV2/shape_and_slices&quot;\\n  op: &quot;Const&quot;\\n  device: &quot;/device:CPU:0&quot;\\n  attr {\\n    key: &quot;dtype&quot;\\n    value {\\n      type: DT_STRING\\n    }\\n  }\\n  attr {\\n    key: &quot;value&quot;\\n    value {\\n      tensor {\\n        dtype: DT_STRING\\n        tensor_shape {\\n          dim {\\n            size: 1\\n          }\\n        }\\n        string_val: &quot;&quot;\\n      }\\n    }\\n  }\\n}\\nnode {\\n  name: &quot;save/RestoreV2&quot;\\n  op: &quot;RestoreV2&quot;\\n  input: &quot;save/Const&quot;\\n  input: &quot;save/RestoreV2/tensor_names&quot;\\n  input: &quot;save/RestoreV2/shape_and_slices&quot;\\n  device: &quot;/device:CPU:0&quot;\\n  attr {\\n    key: &quot;dtypes&quot;\\n    value {\\n      list {\\n        type: DT_FLOAT\\n      }\\n    }\\n  }\\n}\\nnode {\\n  name: &quot;save/Assign&quot;\\n  op: &quot;Assign&quot;\\n  input: &quot;W&quot;\\n  input: &quot;save/RestoreV2&quot;\\n  attr {\\n    key: &quot;T&quot;\\n    value {\\n      type: DT_FLOAT\\n    }\\n  }\\n  attr {\\n    key: &quot;_class&quot;\\n    value {\\n      list {\\n        s: &quot;loc:@W&quot;\\n      }\\n    }\\n  }\\n  attr {\\n    key: &quot;use_locking&quot;\\n    value {\\n      b: true\\n    }\\n  }\\n  attr {\\n    key: &quot;validate_shape&quot;\\n    value {\\n      b: true\\n    }\\n  }\\n}\\nnode {\\n  name: &quot;save/restore_all&quot;\\n  op: &quot;NoOp&quot;\\n  input: &quot;^save/Assign&quot;\\n}\\n';\n",
       "          }\n",
       "        </script>\n",
       "        <link rel=&quot;import&quot; href=&quot;https://tensorboard.appspot.com/tf-graph-basic.build.html&quot; onload=load()>\n",
       "        <div style=&quot;height:600px&quot;>\n",
       "          <tf-graph-basic id=&quot;graph0.3745401188473625&quot;></tf-graph-basic>\n",
       "        </div>\n",
       "    \"></iframe>\n",
       "    "
      ],
      "text/plain": [
       "<IPython.core.display.HTML object>"
      ]
     },
     "metadata": {},
     "output_type": "display_data"
    }
   ],
   "source": [
    "show_graph(tf.get_default_graph())"
   ]
  },
  {
   "cell_type": "markdown",
   "metadata": {},
   "source": [
    " "
   ]
  },
  {
   "cell_type": "markdown",
   "metadata": {},
   "source": [
    "### tfgraphviz 모듈을 이용한 시각화 \n",
    "\n",
    "이번에는 [`tfgraphviz`](https://github.com/akimach/tfgraphviz) 모듈을 이용해 시각화 해보자.\n",
    "\n",
    "```bash\n",
    "$ pip install graphviz # or conda install graphviz\n",
    "$ pip install tfgraphviz\n",
    "```"
   ]
  },
  {
   "cell_type": "code",
   "execution_count": 29,
   "metadata": {},
   "outputs": [],
   "source": [
    "import graphviz"
   ]
  },
  {
   "cell_type": "code",
   "execution_count": 28,
   "metadata": {},
   "outputs": [
    {
     "data": {
      "image/svg+xml": [
       "<?xml version=\"1.0\" encoding=\"UTF-8\" standalone=\"no\"?>\n",
       "<!DOCTYPE svg PUBLIC \"-//W3C//DTD SVG 1.1//EN\"\n",
       " \"http://www.w3.org/Graphics/SVG/1.1/DTD/svg11.dtd\">\n",
       "<!-- Generated by graphviz version 2.40.1 (20161225.0304)\n",
       " -->\n",
       "<!-- Title: G Pages: 1 -->\n",
       "<svg width=\"442pt\" height=\"474pt\"\n",
       " viewBox=\"0.00 0.00 442.00 474.00\" xmlns=\"http://www.w3.org/2000/svg\" xmlns:xlink=\"http://www.w3.org/1999/xlink\">\n",
       "<g id=\"graph0\" class=\"graph\" transform=\"scale(1 1) rotate(0) translate(4 470)\">\n",
       "<title>G</title>\n",
       "<polygon fill=\"#ffffff\" stroke=\"transparent\" points=\"-4,4 -4,-470 438,-470 438,4 -4,4\"/>\n",
       "<!-- X -->\n",
       "<g id=\"node1\" class=\"node\">\n",
       "<title>X</title>\n",
       "<ellipse fill=\"#ffffff\" stroke=\"#aaaaaa\" stroke-width=\"2\" cx=\"163\" cy=\"-362\" rx=\"27\" ry=\"18\"/>\n",
       "<text text-anchor=\"middle\" x=\"163\" y=\"-357.8\" font-family=\"Times,serif\" font-size=\"14.00\" fill=\"#414141\">X</text>\n",
       "</g>\n",
       "<!-- predictions -->\n",
       "<g id=\"node5\" class=\"node\">\n",
       "<title>predictions</title>\n",
       "<ellipse fill=\"#ffffff\" stroke=\"#aaaaaa\" stroke-width=\"2\" cx=\"121\" cy=\"-276\" rx=\"49.3032\" ry=\"18\"/>\n",
       "<text text-anchor=\"middle\" x=\"121\" y=\"-271.8\" font-family=\"Times,serif\" font-size=\"14.00\" fill=\"#414141\">predictions</text>\n",
       "</g>\n",
       "<!-- X&#45;&gt;predictions -->\n",
       "<g id=\"edge2\" class=\"edge\">\n",
       "<title>X&#45;&gt;predictions</title>\n",
       "<path fill=\"none\" stroke=\"#aaaaaa\" stroke-width=\"2.5\" d=\"M148.2009,-346.518C143.1138,-340.4999 137.7799,-333.3017 134.1045,-326 130.9775,-319.788 128.5429,-312.7547 126.6679,-305.9668\"/>\n",
       "<polygon fill=\"#aaaaaa\" stroke=\"#aaaaaa\" stroke-width=\"2.5\" points=\"130.7409,-304.9403 123.8688,-294.2439 122.5706,-306.8912 130.7409,-304.9403\"/>\n",
       "<text text-anchor=\"middle\" x=\"159.9478\" y=\"-314.8\" font-family=\"Times,serif\" font-size=\"14.00\" fill=\"#414141\">20640×9</text>\n",
       "</g>\n",
       "<!-- gradients -->\n",
       "<g id=\"node10\" class=\"node\">\n",
       "<title>gradients</title>\n",
       "<ellipse fill=\"#ffffff\" stroke=\"#aaaaaa\" stroke-width=\"2\" cx=\"238\" cy=\"-104\" rx=\"42.5456\" ry=\"18\"/>\n",
       "<text text-anchor=\"middle\" x=\"238\" y=\"-99.8\" font-family=\"Times,serif\" font-size=\"14.00\" fill=\"#414141\">gradients</text>\n",
       "</g>\n",
       "<!-- X&#45;&gt;gradients -->\n",
       "<g id=\"edge10\" class=\"edge\">\n",
       "<title>X&#45;&gt;gradients</title>\n",
       "<path fill=\"none\" stroke=\"#aaaaaa\" stroke-width=\"2.5\" d=\"M174.093,-345.3029C177.6488,-339.3932 181.3478,-332.5763 184,-326 187.6282,-317.0036 217.2499,-192.0972 231.0156,-133.7005\"/>\n",
       "<polygon fill=\"#aaaaaa\" stroke=\"#aaaaaa\" stroke-width=\"2.5\" points=\"235.1103,-134.6355 233.7732,-121.9922 226.934,-132.7098 235.1103,-134.6355\"/>\n",
       "<text text-anchor=\"middle\" x=\"232.9478\" y=\"-228.8\" font-family=\"Times,serif\" font-size=\"14.00\" fill=\"#414141\">20640×9</text>\n",
       "</g>\n",
       "<!-- y -->\n",
       "<g id=\"node2\" class=\"node\">\n",
       "<title>y</title>\n",
       "<ellipse fill=\"#ffffff\" stroke=\"#aaaaaa\" stroke-width=\"2\" cx=\"27\" cy=\"-276\" rx=\"27\" ry=\"18\"/>\n",
       "<text text-anchor=\"middle\" x=\"27\" y=\"-271.8\" font-family=\"Times,serif\" font-size=\"14.00\" fill=\"#414141\">y</text>\n",
       "</g>\n",
       "<!-- sub -->\n",
       "<g id=\"node6\" class=\"node\">\n",
       "<title>sub</title>\n",
       "<ellipse fill=\"#ffffff\" stroke=\"#aaaaaa\" stroke-width=\"2\" cx=\"90\" cy=\"-190\" rx=\"27\" ry=\"18\"/>\n",
       "<text text-anchor=\"middle\" x=\"90\" y=\"-185.8\" font-family=\"Times,serif\" font-size=\"14.00\" fill=\"#414141\">sub</text>\n",
       "</g>\n",
       "<!-- y&#45;&gt;sub -->\n",
       "<g id=\"edge5\" class=\"edge\">\n",
       "<title>y&#45;&gt;sub</title>\n",
       "<path fill=\"none\" stroke=\"#aaaaaa\" stroke-width=\"2.5\" d=\"M33.1086,-258.3918C37.0701,-248.3558 42.8462,-235.8558 50.1045,-226 53.7177,-221.0937 58.0841,-216.3476 62.5841,-211.9994\"/>\n",
       "<polygon fill=\"#aaaaaa\" stroke=\"#aaaaaa\" stroke-width=\"2.5\" points=\"65.6917,-214.8535 71.8102,-203.7088 60.0772,-208.6055 65.6917,-214.8535\"/>\n",
       "<text text-anchor=\"middle\" x=\"75.9478\" y=\"-228.8\" font-family=\"Times,serif\" font-size=\"14.00\" fill=\"#414141\">20640×1</text>\n",
       "</g>\n",
       "<!-- random_uniform -->\n",
       "<g id=\"node3\" class=\"node\">\n",
       "<title>random_uniform</title>\n",
       "<ellipse fill=\"#ffffff\" stroke=\"#aaaaaa\" stroke-width=\"2\" cx=\"292\" cy=\"-448\" rx=\"70.0668\" ry=\"18\"/>\n",
       "<text text-anchor=\"middle\" x=\"292\" y=\"-443.8\" font-family=\"Times,serif\" font-size=\"14.00\" fill=\"#414141\">random_uniform</text>\n",
       "</g>\n",
       "<!-- W -->\n",
       "<g id=\"node4\" class=\"node\">\n",
       "<title>W</title>\n",
       "<ellipse fill=\"#ffffff\" stroke=\"#aaaaaa\" stroke-width=\"2\" cx=\"292\" cy=\"-362\" rx=\"27\" ry=\"18\"/>\n",
       "<text text-anchor=\"middle\" x=\"292\" y=\"-357.8\" font-family=\"Times,serif\" font-size=\"14.00\" fill=\"#414141\">W</text>\n",
       "</g>\n",
       "<!-- random_uniform&#45;&gt;W -->\n",
       "<g id=\"edge1\" class=\"edge\">\n",
       "<title>random_uniform&#45;&gt;W</title>\n",
       "<path fill=\"none\" stroke=\"#aaaaaa\" stroke-width=\"2.5\" d=\"M292,-429.7616C292,-418.9298 292,-404.9179 292,-392.4492\"/>\n",
       "<polygon fill=\"#aaaaaa\" stroke=\"#aaaaaa\" stroke-width=\"2.5\" points=\"296.2001,-392.2121 292,-380.2121 287.8001,-392.2121 296.2001,-392.2121\"/>\n",
       "<text text-anchor=\"middle\" x=\"302.9478\" y=\"-400.8\" font-family=\"Times,serif\" font-size=\"14.00\" fill=\"#414141\">9×1</text>\n",
       "</g>\n",
       "<!-- W&#45;&gt;predictions -->\n",
       "<g id=\"edge3\" class=\"edge\">\n",
       "<title>W&#45;&gt;predictions</title>\n",
       "<path fill=\"none\" stroke=\"#aaaaaa\" stroke-width=\"2.5\" d=\"M270.3427,-351.108C242.9708,-337.3421 195.3172,-313.3759 161.1974,-296.2162\"/>\n",
       "<polygon fill=\"#aaaaaa\" stroke=\"#aaaaaa\" stroke-width=\"2.5\" points=\"162.8017,-292.3219 150.1941,-290.6824 159.0276,-299.8263 162.8017,-292.3219\"/>\n",
       "<text text-anchor=\"middle\" x=\"226.9478\" y=\"-314.8\" font-family=\"Times,serif\" font-size=\"14.00\" fill=\"#414141\">9×1</text>\n",
       "</g>\n",
       "<!-- W&#45;&gt;gradients -->\n",
       "<g id=\"edge9\" class=\"edge\">\n",
       "<title>W&#45;&gt;gradients</title>\n",
       "<path fill=\"none\" stroke=\"#aaaaaa\" stroke-width=\"2.5\" d=\"M288.2028,-343.8579C279.0238,-300.0028 255.5575,-187.8858 244.2615,-133.9159\"/>\n",
       "<polygon fill=\"#aaaaaa\" stroke=\"#aaaaaa\" stroke-width=\"2.5\" points=\"248.3623,-133.007 241.793,-122.122 240.1405,-134.728 248.3623,-133.007\"/>\n",
       "<text text-anchor=\"middle\" x=\"276.9478\" y=\"-228.8\" font-family=\"Times,serif\" font-size=\"14.00\" fill=\"#414141\">9×1</text>\n",
       "</g>\n",
       "<!-- GradientDescent -->\n",
       "<g id=\"node11\" class=\"node\">\n",
       "<title>GradientDescent</title>\n",
       "<ellipse fill=\"#ffffff\" stroke=\"#aaaaaa\" stroke-width=\"2\" cx=\"273\" cy=\"-18\" rx=\"69.5564\" ry=\"18\"/>\n",
       "<text text-anchor=\"middle\" x=\"273\" y=\"-13.8\" font-family=\"Times,serif\" font-size=\"14.00\" fill=\"#414141\">GradientDescent</text>\n",
       "</g>\n",
       "<!-- W&#45;&gt;GradientDescent -->\n",
       "<g id=\"edge13\" class=\"edge\">\n",
       "<title>W&#45;&gt;GradientDescent</title>\n",
       "<path fill=\"none\" stroke=\"#aaaaaa\" stroke-width=\"2.5\" d=\"M298.8762,-344.5162C305.0007,-327.3511 313,-300.2834 313,-276 313,-276 313,-276 313,-104 313,-83.2625 303.3197,-62.1156 293.4834,-45.9808\"/>\n",
       "<polygon fill=\"#aaaaaa\" stroke=\"#aaaaaa\" stroke-width=\"2.5\" points=\"296.8381,-43.436 286.7657,-35.6779 289.8016,-48.0239 296.8381,-43.436\"/>\n",
       "<text text-anchor=\"middle\" x=\"323.9478\" y=\"-185.8\" font-family=\"Times,serif\" font-size=\"14.00\" fill=\"#414141\">9×1</text>\n",
       "</g>\n",
       "<!-- save -->\n",
       "<g id=\"node13\" class=\"node\">\n",
       "<title>save</title>\n",
       "<ellipse fill=\"#ffffff\" stroke=\"#aaaaaa\" stroke-width=\"2\" cx=\"368\" cy=\"-276\" rx=\"27\" ry=\"18\"/>\n",
       "<text text-anchor=\"middle\" x=\"368\" y=\"-271.8\" font-family=\"Times,serif\" font-size=\"14.00\" fill=\"#414141\">save</text>\n",
       "</g>\n",
       "<!-- W&#45;&gt;save -->\n",
       "<g id=\"edge14\" class=\"edge\">\n",
       "<title>W&#45;&gt;save</title>\n",
       "<path fill=\"none\" stroke=\"#aaaaaa\" stroke-width=\"2.5\" d=\"M307.2798,-346.8556C313.5193,-340.5254 320.7284,-333.0211 327,-326 333.9408,-318.2296 341.238,-309.5214 347.7208,-301.5768\"/>\n",
       "<polygon fill=\"#aaaaaa\" stroke=\"#aaaaaa\" stroke-width=\"2.5\" points=\"351.1411,-304.0262 355.4087,-292.05 344.6041,-298.7509 351.1411,-304.0262\"/>\n",
       "<text text-anchor=\"middle\" x=\"348.9478\" y=\"-314.8\" font-family=\"Times,serif\" font-size=\"14.00\" fill=\"#414141\">9×1</text>\n",
       "</g>\n",
       "<!-- predictions&#45;&gt;sub -->\n",
       "<g id=\"edge4\" class=\"edge\">\n",
       "<title>predictions&#45;&gt;sub</title>\n",
       "<path fill=\"none\" stroke=\"#aaaaaa\" stroke-width=\"2.5\" d=\"M114.4257,-257.7616C110.3851,-246.5523 105.117,-231.9374 100.5081,-219.1514\"/>\n",
       "<polygon fill=\"#aaaaaa\" stroke=\"#aaaaaa\" stroke-width=\"2.5\" points=\"104.3733,-217.4886 96.3528,-207.6239 96.471,-220.3372 104.3733,-217.4886\"/>\n",
       "<text text-anchor=\"middle\" x=\"132.9478\" y=\"-228.8\" font-family=\"Times,serif\" font-size=\"14.00\" fill=\"#414141\">20640×1</text>\n",
       "</g>\n",
       "<!-- Square -->\n",
       "<g id=\"node7\" class=\"node\">\n",
       "<title>Square</title>\n",
       "<ellipse fill=\"#ffffff\" stroke=\"#aaaaaa\" stroke-width=\"2\" cx=\"60\" cy=\"-104\" rx=\"34.8285\" ry=\"18\"/>\n",
       "<text text-anchor=\"middle\" x=\"60\" y=\"-99.8\" font-family=\"Times,serif\" font-size=\"14.00\" fill=\"#414141\">Square</text>\n",
       "</g>\n",
       "<!-- sub&#45;&gt;Square -->\n",
       "<g id=\"edge6\" class=\"edge\">\n",
       "<title>sub&#45;&gt;Square</title>\n",
       "<path fill=\"none\" stroke=\"#aaaaaa\" stroke-width=\"2.5\" d=\"M74.2473,-174.9299C69.0569,-168.9565 63.9016,-161.6811 61.1045,-154 58.8596,-147.8352 57.8437,-140.9535 57.5269,-134.3152\"/>\n",
       "<polygon fill=\"#aaaaaa\" stroke=\"#aaaaaa\" stroke-width=\"2.5\" points=\"61.7286,-134.1407 57.6398,-122.1024 53.3289,-134.063 61.7286,-134.1407\"/>\n",
       "<text text-anchor=\"middle\" x=\"86.9478\" y=\"-142.8\" font-family=\"Times,serif\" font-size=\"14.00\" fill=\"#414141\">20640×1</text>\n",
       "</g>\n",
       "<!-- sub&#45;&gt;gradients -->\n",
       "<g id=\"edge11\" class=\"edge\">\n",
       "<title>sub&#45;&gt;gradients</title>\n",
       "<path fill=\"none\" stroke=\"#aaaaaa\" stroke-width=\"2.5\" d=\"M101.3694,-173.1205C109.4001,-162.3315 121.0304,-148.7682 134.1045,-140 136.8062,-138.1881 166.0933,-128.097 192.885,-119.0583\"/>\n",
       "<polygon fill=\"#aaaaaa\" stroke=\"#aaaaaa\" stroke-width=\"2.5\" points=\"194.4857,-122.9512 204.5209,-115.145 191.808,-114.9894 194.4857,-122.9512\"/>\n",
       "<text text-anchor=\"middle\" x=\"159.9478\" y=\"-142.8\" font-family=\"Times,serif\" font-size=\"14.00\" fill=\"#414141\">20640×1</text>\n",
       "</g>\n",
       "<!-- mse -->\n",
       "<g id=\"node9\" class=\"node\">\n",
       "<title>mse</title>\n",
       "<ellipse fill=\"#ffffff\" stroke=\"#aaaaaa\" stroke-width=\"2\" cx=\"130\" cy=\"-18\" rx=\"27\" ry=\"18\"/>\n",
       "<text text-anchor=\"middle\" x=\"130\" y=\"-13.8\" font-family=\"Times,serif\" font-size=\"14.00\" fill=\"#414141\">mse</text>\n",
       "</g>\n",
       "<!-- Square&#45;&gt;mse -->\n",
       "<g id=\"edge8\" class=\"edge\">\n",
       "<title>Square&#45;&gt;mse</title>\n",
       "<path fill=\"none\" stroke=\"#aaaaaa\" stroke-width=\"2.5\" d=\"M65.3853,-86.1346C69.0224,-76.0128 74.5485,-63.5128 82.1045,-54 87.0296,-47.7994 93.2608,-42.1031 99.5858,-37.1596\"/>\n",
       "<polygon fill=\"#aaaaaa\" stroke=\"#aaaaaa\" stroke-width=\"2.5\" points=\"102.1623,-40.4795 109.428,-30.0464 97.242,-33.6714 102.1623,-40.4795\"/>\n",
       "<text text-anchor=\"middle\" x=\"107.9478\" y=\"-56.8\" font-family=\"Times,serif\" font-size=\"14.00\" fill=\"#414141\">20640×1</text>\n",
       "</g>\n",
       "<!-- Const -->\n",
       "<g id=\"node8\" class=\"node\">\n",
       "<title>Const</title>\n",
       "<ellipse fill=\"#ffffff\" stroke=\"#aaaaaa\" stroke-width=\"2\" cx=\"143\" cy=\"-104\" rx=\"30.9967\" ry=\"18\"/>\n",
       "<text text-anchor=\"middle\" x=\"143\" y=\"-99.8\" font-family=\"Times,serif\" font-size=\"14.00\" fill=\"#414141\">Const</text>\n",
       "</g>\n",
       "<!-- Const&#45;&gt;mse -->\n",
       "<g id=\"edge7\" class=\"edge\">\n",
       "<title>Const&#45;&gt;mse</title>\n",
       "<path fill=\"none\" stroke=\"#aaaaaa\" stroke-width=\"2.5\" d=\"M140.243,-85.7616C138.5772,-74.7418 136.4139,-60.4306 134.5049,-47.8015\"/>\n",
       "<polygon fill=\"#aaaaaa\" stroke=\"#aaaaaa\" stroke-width=\"2.5\" points=\"138.6549,-47.1546 132.7084,-35.9172 130.3493,-48.4102 138.6549,-47.1546\"/>\n",
       "<text text-anchor=\"middle\" x=\"141.5\" y=\"-56.8\" font-family=\"Times,serif\" font-size=\"14.00\" fill=\"#414141\">2</text>\n",
       "</g>\n",
       "<!-- gradients&#45;&gt;GradientDescent -->\n",
       "<g id=\"edge12\" class=\"edge\">\n",
       "<title>gradients&#45;&gt;GradientDescent</title>\n",
       "<path fill=\"none\" stroke=\"#aaaaaa\" stroke-width=\"2.5\" d=\"M245.252,-86.1807C249.8204,-74.9557 255.8273,-60.1958 261.0835,-47.2804\"/>\n",
       "<polygon fill=\"#aaaaaa\" stroke=\"#aaaaaa\" stroke-width=\"2.5\" points=\"265.0035,-48.7903 265.6369,-36.0923 257.2232,-45.6239 265.0035,-48.7903\"/>\n",
       "</g>\n",
       "<!-- init -->\n",
       "<g id=\"node12\" class=\"node\">\n",
       "<title>init</title>\n",
       "<ellipse fill=\"#ffffff\" stroke=\"#aaaaaa\" stroke-width=\"2\" cx=\"407\" cy=\"-448\" rx=\"27\" ry=\"18\"/>\n",
       "<text text-anchor=\"middle\" x=\"407\" y=\"-443.8\" font-family=\"Times,serif\" font-size=\"14.00\" fill=\"#414141\">init</text>\n",
       "</g>\n",
       "</g>\n",
       "</svg>\n"
      ],
      "text/plain": [
       "<graphviz.dot.Digraph at 0x108626780>"
      ]
     },
     "execution_count": 28,
     "metadata": {},
     "output_type": "execute_result"
    }
   ],
   "source": [
    "import tfgraphviz as tfg\n",
    "\n",
    "tf_graph = tfg.board(tf.get_default_graph())\n",
    "tf_graph"
   ]
  },
  {
   "cell_type": "markdown",
   "metadata": {},
   "source": [
    " "
   ]
  },
  {
   "cell_type": "markdown",
   "metadata": {},
   "source": [
    "### Using TensorBoard "
   ]
  },
  {
   "cell_type": "code",
   "execution_count": 30,
   "metadata": {},
   "outputs": [],
   "source": [
    "from datetime import datetime\n",
    "\n",
    "reset_graph()\n",
    "\n",
    "now = datetime.utcnow().strftime(\"%Y%m%d%H%M%S\")\n",
    "root_logdir = 'tf_logs'\n",
    "logdir = \"{}/run-{}\".format(root_logdir, now)"
   ]
  },
  {
   "cell_type": "code",
   "execution_count": 31,
   "metadata": {},
   "outputs": [],
   "source": [
    "# placeholder setting\n",
    "X = tf.placeholder(tf.float32, shape=(None, n + 1), name=\"X\")  # (None, 9)\n",
    "y = tf.placeholder(tf.float32, shape=(None, 1), name=\"y\")\n",
    "\n",
    "W = tf.Variable(tf.random_uniform([n + 1, 1], -1.0, 1.0, seed=42), name='W')\n",
    "\n",
    "y_pred = tf.matmul(X, W, name='predictions')  # y = wx + b\n",
    "error = y_pred - y\n",
    "\n",
    "# loss function\n",
    "mse = tf.reduce_mean(tf.square(error), name='mse')\n",
    "# optimizer\n",
    "optimizer = tf.train.GradientDescentOptimizer(learning_rate=learning_rate)\n",
    "training_op = optimizer.minimize(mse)\n",
    "\n",
    "init = tf.global_variables_initializer()"
   ]
  },
  {
   "cell_type": "code",
   "execution_count": 32,
   "metadata": {},
   "outputs": [],
   "source": [
    "# tensorboard에서 요약 정보를 보기위한 설정\n",
    "mse_summary = tf.summary.scalar('MSE', mse)"
   ]
  },
  {
   "cell_type": "code",
   "execution_count": 33,
   "metadata": {},
   "outputs": [],
   "source": [
    "################\n",
    "# hyper-params #\n",
    "################\n",
    "n_epochs = 10\n",
    "batch_size = 100\n",
    "n_batches = int(np.ceil(m / batch_size))  # (20640/100) 올림"
   ]
  },
  {
   "cell_type": "code",
   "execution_count": 34,
   "metadata": {},
   "outputs": [
    {
     "name": "stdout",
     "output_type": "stream",
     "text": [
      "[[ 2.0703337 ]\n",
      " [ 0.8637145 ]\n",
      " [ 0.12255151]\n",
      " [-0.31211874]\n",
      " [ 0.38510373]\n",
      " [ 0.00434168]\n",
      " [-0.01232954]\n",
      " [-0.83376896]\n",
      " [-0.8030471 ]]\n"
     ]
    }
   ],
   "source": [
    "with tf.Session() as sess:\n",
    "    sess.run(init)\n",
    "    file_writer = tf.summary.FileWriter(logdir, tf.get_default_graph())\n",
    "    \n",
    "    for epoch in range(n_epochs):\n",
    "        for batch_index in range(n_batches):\n",
    "            X_batch, y_batch = fetch_batch(epoch, batch_index, batch_size)\n",
    "            if batch_index % 10 == 0:\n",
    "                summary_str = mse_summary.eval(feed_dict={X: X_batch, \n",
    "                                                          y: y_batch})\n",
    "                step = epoch * n_batches + batch_index\n",
    "                file_writer.add_summary(summary_str, step)\n",
    "            \n",
    "            sess.run(training_op, feed_dict={X: X_batch,\n",
    "                                             y: y_batch})\n",
    "            \n",
    "    best_W = W.eval()\n",
    "    \n",
    "print(best_W)"
   ]
  },
  {
   "cell_type": "markdown",
   "metadata": {},
   "source": [
    " "
   ]
  },
  {
   "cell_type": "markdown",
   "metadata": {},
   "source": [
    "텐서보드를 사용하려면 Windows 같은 경우 cmd이며, Mac/Linux 인 경우 Terminal에서 아래의 명령어를 입력하면 된다.\n",
    "\n",
    "```bash\n",
    "# LOG_DIR: 지정한 로깅 디렉터리\n",
    "# 위의 예시에서는 ./logs/RNN_with_summaries 로 지정해줌  \n",
    "tensorboard --logdir=LOG_DIR\n",
    "```"
   ]
  },
  {
   "cell_type": "markdown",
   "metadata": {},
   "source": [
    " "
   ]
  },
  {
   "cell_type": "markdown",
   "metadata": {},
   "source": [
    "## 9.10 Name Scope\n",
    "\n",
    "복잡한 그래프를 처리해야 하는 경우 이를 쉽게 추적하고 관리하기 위해서 노드를 이름별로 그룹화하여 묶는 것이 편리하다. `with`구문과 `tf.name_scope('prefix')`를 사용하면 이름 스코프를 사용할 수 있다.\n",
    "\n",
    "아래의 예제는 `c2, c3`를 `prefix_name`이라는 스코프로 그룹화한 것이다. 출력결과를 보면 텐서 객체의 이름 앞에 접두사 형태로 `prefix_name`이 붙은 것을 알 수 있다.\n",
    "\n",
    "접두사는 그래프를 의미에 따라 서브그래프로 나누고자 할 때 유용하며, 그래프의 구조를 시각화할 때 사용할 수 있다."
   ]
  },
  {
   "cell_type": "code",
   "execution_count": 35,
   "metadata": {},
   "outputs": [
    {
     "name": "stdout",
     "output_type": "stream",
     "text": [
      "c1.name >> c:0\n",
      "c2.name >> prefix_name/c:0\n",
      "c3.name >> prefix_name/c_1:0\n"
     ]
    }
   ],
   "source": [
    "with tf.Graph().as_default():\n",
    "    c1 = tf.constant(4, dtype=tf.float64, name='c')\n",
    "    with tf.name_scope(\"prefix_name\"):\n",
    "        c2 = tf.constant(4, dtype=tf.int32, name='c')\n",
    "        c3 = tf.constant(4, dtype=tf.float64, name='c')\n",
    "\n",
    "print('c1.name >>', c1.name)\n",
    "print('c2.name >>', c2.name)\n",
    "print('c3.name >>', c3.name)"
   ]
  },
  {
   "cell_type": "markdown",
   "metadata": {},
   "source": [
    " "
   ]
  },
  {
   "cell_type": "markdown",
   "metadata": {},
   "source": [
    "이번에는 `tf.name_scope()`을 이용해 9.9 예제에 적용해보자."
   ]
  },
  {
   "cell_type": "code",
   "execution_count": 36,
   "metadata": {},
   "outputs": [],
   "source": [
    "reset_graph()\n",
    "\n",
    "now = datetime.utcnow().strftime(\"%Y%m%d%H%M%S\")\n",
    "root_logdir = 'tf_logs'\n",
    "logdir = \"{}/run-{}\".format(root_logdir, now)"
   ]
  },
  {
   "cell_type": "code",
   "execution_count": 37,
   "metadata": {},
   "outputs": [],
   "source": [
    "# placeholder setting\n",
    "X = tf.placeholder(tf.float32, shape=(None, n + 1), name=\"X\")  # (None, 9)\n",
    "y = tf.placeholder(tf.float32, shape=(None, 1), name=\"y\")\n",
    "\n",
    "W = tf.Variable(tf.random_uniform([n + 1, 1], -1.0, 1.0, seed=42), name='W')\n",
    "y_pred = tf.matmul(X, W, name='predictions')  # y = wx + b\n",
    "\n",
    "# tf.name_scope 적용\n",
    "with tf.name_scope('loss'):\n",
    "    error = y_pred - y\n",
    "    # loss function\n",
    "    mse = tf.reduce_mean(tf.square(error), name='mse')\n",
    "\n",
    "# optimizer\n",
    "optimizer = tf.train.GradientDescentOptimizer(learning_rate=learning_rate)\n",
    "training_op = optimizer.minimize(mse)\n",
    "\n",
    "# tensorboard에서 요약 정보를 보기위한 설정\n",
    "mse_summary = tf.summary.scalar('MSE', mse)\n",
    "init = tf.global_variables_initializer()"
   ]
  },
  {
   "cell_type": "code",
   "execution_count": 38,
   "metadata": {},
   "outputs": [],
   "source": [
    "################\n",
    "# hyper-params #\n",
    "################\n",
    "n_epochs = 10\n",
    "batch_size = 100\n",
    "n_batches = int(np.ceil(m / batch_size))  # (20640/100) 올림"
   ]
  },
  {
   "cell_type": "code",
   "execution_count": 39,
   "metadata": {},
   "outputs": [
    {
     "name": "stdout",
     "output_type": "stream",
     "text": [
      "[[ 2.0703337 ]\n",
      " [ 0.8637145 ]\n",
      " [ 0.12255151]\n",
      " [-0.31211874]\n",
      " [ 0.38510373]\n",
      " [ 0.00434168]\n",
      " [-0.01232954]\n",
      " [-0.83376896]\n",
      " [-0.8030471 ]]\n"
     ]
    }
   ],
   "source": [
    "with tf.Session() as sess:\n",
    "    sess.run(init)\n",
    "    file_writer = tf.summary.FileWriter(logdir, tf.get_default_graph())\n",
    "    \n",
    "    for epoch in range(n_epochs):\n",
    "        for batch_index in range(n_batches):\n",
    "            X_batch, y_batch = fetch_batch(epoch, batch_index, batch_size)\n",
    "            if batch_index % 10 == 0:\n",
    "                summary_str = mse_summary.eval(feed_dict={X: X_batch, \n",
    "                                                          y: y_batch})\n",
    "                step = epoch * n_batches + batch_index\n",
    "                file_writer.add_summary(summary_str, step)\n",
    "            \n",
    "            sess.run(training_op, feed_dict={X: X_batch,\n",
    "                                             y: y_batch})\n",
    "            \n",
    "    best_W = W.eval()\n",
    "    \n",
    "print(best_W)"
   ]
  },
  {
   "cell_type": "markdown",
   "metadata": {},
   "source": [
    " "
   ]
  },
  {
   "cell_type": "markdown",
   "metadata": {},
   "source": [
    "## 9.11 모듈화\n",
    "\n",
    "텐서플로를 이용해 딥러닝 모델링을 하다보면 같은 작업을 수행하는 부분이 많다는 것을 알 수 있다. 아래의 예제를 보자."
   ]
  },
  {
   "cell_type": "code",
   "execution_count": 40,
   "metadata": {},
   "outputs": [],
   "source": [
    "reset_graph()\n",
    "\n",
    "n_features = 3\n",
    "X = tf.placeholder(tf.float32, shape=(None, n_features), name=\"X\")\n",
    "\n",
    "w1 = tf.Variable(tf.random_normal((n_features, 1)), name=\"weights1\")\n",
    "w2 = tf.Variable(tf.random_normal((n_features, 1)), name=\"weights2\")\n",
    "b1 = tf.Variable(0.0, name=\"bias1\")\n",
    "b2 = tf.Variable(0.0, name=\"bias2\")\n",
    "\n",
    "z1 = tf.add(tf.matmul(X, w1), b1, name=\"z1\")\n",
    "z2 = tf.add(tf.matmul(X, w2), b2, name=\"z2\")\n",
    "\n",
    "relu1 = tf.maximum(z1, 0., name=\"relu1\")\n",
    "relu2 = tf.maximum(z1, 0., name=\"relu2\")  # Oops, cut&paste error! Did you spot it?\n",
    "\n",
    "output = tf.add(relu1, relu2, name=\"output\")"
   ]
  },
  {
   "cell_type": "markdown",
   "metadata": {},
   "source": [
    " "
   ]
  },
  {
   "cell_type": "markdown",
   "metadata": {},
   "source": [
    "위의 중복이 발생하는 부분을 `relu()` 함수를 이용해 간단하게 표현할 수 있다."
   ]
  },
  {
   "cell_type": "code",
   "execution_count": 41,
   "metadata": {},
   "outputs": [],
   "source": [
    "reset_graph()\n",
    "\n",
    "def relu(X):\n",
    "    with tf.name_scope(\"relu\"):\n",
    "        w_shape = (int(X.get_shape()[1]), 1)                          \n",
    "        w = tf.Variable(tf.random_normal(w_shape), name=\"weights\")    \n",
    "        b = tf.Variable(0.0, name=\"bias\")                             \n",
    "        z = tf.add(tf.matmul(X, w), b, name=\"z\")                      \n",
    "        return tf.maximum(z, 0., name=\"max\")\n",
    "    \n",
    "n_features = 3\n",
    "X = tf.placeholder(tf.float32, shape=(None, n_features), name=\"X\")\n",
    "relus = [relu(X) for i in range(5)]\n",
    "output = tf.add_n(relus, name=\"output\")"
   ]
  },
  {
   "cell_type": "code",
   "execution_count": 42,
   "metadata": {},
   "outputs": [
    {
     "data": {
      "image/svg+xml": [
       "<?xml version=\"1.0\" encoding=\"UTF-8\" standalone=\"no\"?>\n",
       "<!DOCTYPE svg PUBLIC \"-//W3C//DTD SVG 1.1//EN\"\n",
       " \"http://www.w3.org/Graphics/SVG/1.1/DTD/svg11.dtd\">\n",
       "<!-- Generated by graphviz version 2.40.1 (20161225.0304)\n",
       " -->\n",
       "<!-- Title: G Pages: 1 -->\n",
       "<svg width=\"395pt\" height=\"203pt\"\n",
       " viewBox=\"0.00 0.00 394.70 203.00\" xmlns=\"http://www.w3.org/2000/svg\" xmlns:xlink=\"http://www.w3.org/1999/xlink\">\n",
       "<g id=\"graph0\" class=\"graph\" transform=\"scale(1 1) rotate(0) translate(4 199)\">\n",
       "<title>G</title>\n",
       "<polygon fill=\"#ffffff\" stroke=\"transparent\" points=\"-4,4 -4,-199 390.6991,-199 390.6991,4 -4,4\"/>\n",
       "<!-- X -->\n",
       "<g id=\"node1\" class=\"node\">\n",
       "<title>X</title>\n",
       "<ellipse fill=\"#ffffff\" stroke=\"#aaaaaa\" stroke-width=\"2\" cx=\"188\" cy=\"-177\" rx=\"27\" ry=\"18\"/>\n",
       "<text text-anchor=\"middle\" x=\"188\" y=\"-172.8\" font-family=\"Times,serif\" font-size=\"14.00\" fill=\"#414141\">X</text>\n",
       "</g>\n",
       "<!-- relu -->\n",
       "<g id=\"node2\" class=\"node\">\n",
       "<title>relu</title>\n",
       "<ellipse fill=\"#ffffff\" stroke=\"#aaaaaa\" stroke-width=\"2\" cx=\"27\" cy=\"-91\" rx=\"27\" ry=\"18\"/>\n",
       "<text text-anchor=\"middle\" x=\"27\" y=\"-86.8\" font-family=\"Times,serif\" font-size=\"14.00\" fill=\"#414141\">relu</text>\n",
       "</g>\n",
       "<!-- X&#45;&gt;relu -->\n",
       "<g id=\"edge1\" class=\"edge\">\n",
       "<title>X&#45;&gt;relu</title>\n",
       "<path fill=\"none\" stroke=\"#aaaaaa\" stroke-width=\"2.5\" d=\"M166.1013,-166.1894C151.9825,-159.1516 133.2671,-149.6957 116.8906,-141 97.2247,-130.5576 75.3912,-118.426 58.1669,-108.7279\"/>\n",
       "<polygon fill=\"#aaaaaa\" stroke=\"#aaaaaa\" stroke-width=\"2.5\" points=\"60.0967,-104.9942 47.5828,-102.7484 55.9649,-112.3078 60.0967,-104.9942\"/>\n",
       "<text text-anchor=\"middle\" x=\"127.5547\" y=\"-129.8\" font-family=\"Times,serif\" font-size=\"14.00\" fill=\"#414141\">?×3</text>\n",
       "</g>\n",
       "<!-- relu_1 -->\n",
       "<g id=\"node3\" class=\"node\">\n",
       "<title>relu_1</title>\n",
       "<ellipse fill=\"#ffffff\" stroke=\"#aaaaaa\" stroke-width=\"2\" cx=\"105\" cy=\"-91\" rx=\"32.8994\" ry=\"18\"/>\n",
       "<text text-anchor=\"middle\" x=\"105\" y=\"-86.8\" font-family=\"Times,serif\" font-size=\"14.00\" fill=\"#414141\">relu_1</text>\n",
       "</g>\n",
       "<!-- X&#45;&gt;relu_1 -->\n",
       "<g id=\"edge2\" class=\"edge\">\n",
       "<title>X&#45;&gt;relu_1</title>\n",
       "<path fill=\"none\" stroke=\"#aaaaaa\" stroke-width=\"2.5\" d=\"M173.1613,-161.6249C160.882,-148.9018 143.2022,-130.583 128.9259,-115.7907\"/>\n",
       "<polygon fill=\"#aaaaaa\" stroke=\"#aaaaaa\" stroke-width=\"2.5\" points=\"131.9108,-112.8355 120.5553,-107.1176 125.8666,-118.6688 131.9108,-112.8355\"/>\n",
       "<text text-anchor=\"middle\" x=\"162.5547\" y=\"-129.8\" font-family=\"Times,serif\" font-size=\"14.00\" fill=\"#414141\">?×3</text>\n",
       "</g>\n",
       "<!-- relu_2 -->\n",
       "<g id=\"node4\" class=\"node\">\n",
       "<title>relu_2</title>\n",
       "<ellipse fill=\"#ffffff\" stroke=\"#aaaaaa\" stroke-width=\"2\" cx=\"188\" cy=\"-91\" rx=\"32.8994\" ry=\"18\"/>\n",
       "<text text-anchor=\"middle\" x=\"188\" y=\"-86.8\" font-family=\"Times,serif\" font-size=\"14.00\" fill=\"#414141\">relu_2</text>\n",
       "</g>\n",
       "<!-- X&#45;&gt;relu_2 -->\n",
       "<g id=\"edge3\" class=\"edge\">\n",
       "<title>X&#45;&gt;relu_2</title>\n",
       "<path fill=\"none\" stroke=\"#aaaaaa\" stroke-width=\"2.5\" d=\"M188,-158.7616C188,-147.9298 188,-133.9179 188,-121.4492\"/>\n",
       "<polygon fill=\"#aaaaaa\" stroke=\"#aaaaaa\" stroke-width=\"2.5\" points=\"192.2001,-121.2121 188,-109.2121 183.8001,-121.2121 192.2001,-121.2121\"/>\n",
       "<text text-anchor=\"middle\" x=\"198.5547\" y=\"-129.8\" font-family=\"Times,serif\" font-size=\"14.00\" fill=\"#414141\">?×3</text>\n",
       "</g>\n",
       "<!-- relu_3 -->\n",
       "<g id=\"node5\" class=\"node\">\n",
       "<title>relu_3</title>\n",
       "<ellipse fill=\"#ffffff\" stroke=\"#aaaaaa\" stroke-width=\"2\" cx=\"271\" cy=\"-91\" rx=\"32.8994\" ry=\"18\"/>\n",
       "<text text-anchor=\"middle\" x=\"271\" y=\"-86.8\" font-family=\"Times,serif\" font-size=\"14.00\" fill=\"#414141\">relu_3</text>\n",
       "</g>\n",
       "<!-- X&#45;&gt;relu_3 -->\n",
       "<g id=\"edge4\" class=\"edge\">\n",
       "<title>X&#45;&gt;relu_3</title>\n",
       "<path fill=\"none\" stroke=\"#aaaaaa\" stroke-width=\"2.5\" d=\"M202.8387,-161.6249C215.118,-148.9018 232.7978,-130.583 247.0741,-115.7907\"/>\n",
       "<polygon fill=\"#aaaaaa\" stroke=\"#aaaaaa\" stroke-width=\"2.5\" points=\"250.1334,-118.6688 255.4447,-107.1176 244.0892,-112.8355 250.1334,-118.6688\"/>\n",
       "<text text-anchor=\"middle\" x=\"245.5547\" y=\"-129.8\" font-family=\"Times,serif\" font-size=\"14.00\" fill=\"#414141\">?×3</text>\n",
       "</g>\n",
       "<!-- relu_4 -->\n",
       "<g id=\"node6\" class=\"node\">\n",
       "<title>relu_4</title>\n",
       "<ellipse fill=\"#ffffff\" stroke=\"#aaaaaa\" stroke-width=\"2\" cx=\"354\" cy=\"-91\" rx=\"32.8994\" ry=\"18\"/>\n",
       "<text text-anchor=\"middle\" x=\"354\" y=\"-86.8\" font-family=\"Times,serif\" font-size=\"14.00\" fill=\"#414141\">relu_4</text>\n",
       "</g>\n",
       "<!-- X&#45;&gt;relu_4 -->\n",
       "<g id=\"edge5\" class=\"edge\">\n",
       "<title>X&#45;&gt;relu_4</title>\n",
       "<path fill=\"none\" stroke=\"#aaaaaa\" stroke-width=\"2.5\" d=\"M209.8122,-166.2721C224.1271,-159.1878 243.2327,-149.6495 260,-141 279.9036,-130.7326 302.0228,-118.9842 319.802,-109.4565\"/>\n",
       "<polygon fill=\"#aaaaaa\" stroke=\"#aaaaaa\" stroke-width=\"2.5\" points=\"321.9369,-113.0773 330.5216,-103.6995 317.9625,-105.677 321.9369,-113.0773\"/>\n",
       "<text text-anchor=\"middle\" x=\"295.5547\" y=\"-129.8\" font-family=\"Times,serif\" font-size=\"14.00\" fill=\"#414141\">?×3</text>\n",
       "</g>\n",
       "<!-- output -->\n",
       "<g id=\"node7\" class=\"node\">\n",
       "<title>output</title>\n",
       "<ellipse fill=\"#ffffff\" stroke=\"#aaaaaa\" stroke-width=\"2\" cx=\"188\" cy=\"-18\" rx=\"32.9168\" ry=\"18\"/>\n",
       "<text text-anchor=\"middle\" x=\"188\" y=\"-13.8\" font-family=\"Times,serif\" font-size=\"14.00\" fill=\"#414141\">output</text>\n",
       "</g>\n",
       "<!-- relu&#45;&gt;output -->\n",
       "<g id=\"edge6\" class=\"edge\">\n",
       "<title>relu&#45;&gt;output</title>\n",
       "<path fill=\"none\" stroke=\"#aaaaaa\" stroke-width=\"2.5\" d=\"M48.618,-79.9757C53.337,-77.6296 58.3196,-75.1982 63,-73 92.2714,-59.2526 125.8362,-44.541 150.8096,-33.7954\"/>\n",
       "<polygon fill=\"#aaaaaa\" stroke=\"#aaaaaa\" stroke-width=\"2.5\" points=\"152.6027,-37.5964 161.9772,-29.008 149.293,-29.8759 152.6027,-37.5964\"/>\n",
       "</g>\n",
       "<!-- relu_1&#45;&gt;output -->\n",
       "<g id=\"edge7\" class=\"edge\">\n",
       "<title>relu_1&#45;&gt;output</title>\n",
       "<path fill=\"none\" stroke=\"#aaaaaa\" stroke-width=\"2.5\" d=\"M122.6022,-75.5186C133.8265,-65.6466 148.5888,-52.6629 161.247,-41.5298\"/>\n",
       "<polygon fill=\"#aaaaaa\" stroke=\"#aaaaaa\" stroke-width=\"2.5\" points=\"164.1863,-44.538 170.4232,-33.4591 158.6387,-38.2305 164.1863,-44.538\"/>\n",
       "</g>\n",
       "<!-- relu_2&#45;&gt;output -->\n",
       "<g id=\"edge10\" class=\"edge\">\n",
       "<title>relu_2&#45;&gt;output</title>\n",
       "<path fill=\"none\" stroke=\"#aaaaaa\" stroke-width=\"2.5\" d=\"M188,-72.9551C188,-65.497 188,-56.644 188,-48.2462\"/>\n",
       "<polygon fill=\"#aaaaaa\" stroke=\"#aaaaaa\" stroke-width=\"2.5\" points=\"192.2001,-48.0903 188,-36.0904 183.8001,-48.0904 192.2001,-48.0903\"/>\n",
       "</g>\n",
       "<!-- relu_3&#45;&gt;output -->\n",
       "<g id=\"edge9\" class=\"edge\">\n",
       "<title>relu_3&#45;&gt;output</title>\n",
       "<path fill=\"none\" stroke=\"#aaaaaa\" stroke-width=\"2.5\" d=\"M253.3978,-75.5186C242.1735,-65.6466 227.4112,-52.6629 214.753,-41.5298\"/>\n",
       "<polygon fill=\"#aaaaaa\" stroke=\"#aaaaaa\" stroke-width=\"2.5\" points=\"217.3613,-38.2305 205.5768,-33.4591 211.8137,-44.538 217.3613,-38.2305\"/>\n",
       "</g>\n",
       "<!-- relu_4&#45;&gt;output -->\n",
       "<g id=\"edge8\" class=\"edge\">\n",
       "<title>relu_4&#45;&gt;output</title>\n",
       "<path fill=\"none\" stroke=\"#aaaaaa\" stroke-width=\"2.5\" d=\"M328.4263,-79.7537C300.7656,-67.5897 256.4147,-48.086 224.9635,-34.255\"/>\n",
       "<polygon fill=\"#aaaaaa\" stroke=\"#aaaaaa\" stroke-width=\"2.5\" points=\"226.2783,-30.2451 213.6028,-29.259 222.8968,-37.9344 226.2783,-30.2451\"/>\n",
       "</g>\n",
       "</g>\n",
       "</svg>\n"
      ],
      "text/plain": [
       "<graphviz.dot.Digraph at 0x1159d6320>"
      ]
     },
     "execution_count": 42,
     "metadata": {},
     "output_type": "execute_result"
    }
   ],
   "source": [
    "tf_graph = tfg.board(tf.get_default_graph())\n",
    "tf_graph"
   ]
  },
  {
   "cell_type": "markdown",
   "metadata": {},
   "source": [
    " "
   ]
  },
  {
   "cell_type": "markdown",
   "metadata": {},
   "source": [
    "## 9.12 변수 공유"
   ]
  },
  {
   "cell_type": "code",
   "execution_count": 43,
   "metadata": {},
   "outputs": [],
   "source": [
    "reset_graph()\n",
    "\n",
    "def relu(X):\n",
    "    with tf.name_scope(\"relu\"):\n",
    "        if not hasattr(relu, \"threshold\"):\n",
    "            relu.threshold = tf.Variable(0.0, name=\"threshold\")\n",
    "        w_shape = int(X.get_shape()[1]), 1                          \n",
    "        w = tf.Variable(tf.random_normal(w_shape), name=\"weights\")  \n",
    "        b = tf.Variable(0.0, name=\"bias\")                           \n",
    "        z = tf.add(tf.matmul(X, w), b, name=\"z\")                    \n",
    "        return tf.maximum(z, relu.threshold, name=\"max\")"
   ]
  },
  {
   "cell_type": "markdown",
   "metadata": {},
   "source": [
    " "
   ]
  },
  {
   "cell_type": "markdown",
   "metadata": {},
   "source": [
    "### 다른 방법"
   ]
  },
  {
   "cell_type": "code",
   "execution_count": 44,
   "metadata": {},
   "outputs": [],
   "source": [
    "reset_graph()\n",
    "\n",
    "with tf.variable_scope(\"relu\"):\n",
    "    threshold = tf.get_variable(\"threshold\", shape=(),\n",
    "                                initializer=tf.constant_initializer(0.0))"
   ]
  },
  {
   "cell_type": "code",
   "execution_count": 45,
   "metadata": {},
   "outputs": [],
   "source": [
    "with tf.variable_scope(\"relu\", reuse=True):\n",
    "    threshold = tf.get_variable(\"threshold\")"
   ]
  },
  {
   "cell_type": "code",
   "execution_count": 46,
   "metadata": {},
   "outputs": [],
   "source": [
    "with tf.variable_scope(\"relu\") as scope:\n",
    "    scope.reuse_variables()\n",
    "    threshold = tf.get_variable(\"threshold\")"
   ]
  },
  {
   "cell_type": "code",
   "execution_count": 47,
   "metadata": {},
   "outputs": [],
   "source": [
    "reset_graph()\n",
    "\n",
    "def relu(X):\n",
    "    with tf.variable_scope(\"relu\", reuse=True):\n",
    "        threshold = tf.get_variable(\"threshold\")\n",
    "        w_shape = int(X.get_shape()[1]), 1                          \n",
    "        w = tf.Variable(tf.random_normal(w_shape), name=\"weights\")  \n",
    "        b = tf.Variable(0.0, name=\"bias\")                           \n",
    "        z = tf.add(tf.matmul(X, w), b, name=\"z\")                    \n",
    "        return tf.maximum(z, threshold, name=\"max\")\n",
    "\n",
    "X = tf.placeholder(tf.float32, shape=(None, n_features), name=\"X\")\n",
    "with tf.variable_scope(\"relu\"):\n",
    "    threshold = tf.get_variable(\"threshold\", shape=(),\n",
    "                                initializer=tf.constant_initializer(0.0))\n",
    "relus = [relu(X) for relu_index in range(5)]\n",
    "output = tf.add_n(relus, name=\"output\")"
   ]
  },
  {
   "cell_type": "code",
   "execution_count": 48,
   "metadata": {},
   "outputs": [
    {
     "data": {
      "image/svg+xml": [
       "<?xml version=\"1.0\" encoding=\"UTF-8\" standalone=\"no\"?>\n",
       "<!DOCTYPE svg PUBLIC \"-//W3C//DTD SVG 1.1//EN\"\n",
       " \"http://www.w3.org/Graphics/SVG/1.1/DTD/svg11.dtd\">\n",
       "<!-- Generated by graphviz version 2.40.1 (20161225.0304)\n",
       " -->\n",
       "<!-- Title: G Pages: 1 -->\n",
       "<svg width=\"405pt\" height=\"203pt\"\n",
       " viewBox=\"0.00 0.00 405.40 203.00\" xmlns=\"http://www.w3.org/2000/svg\" xmlns:xlink=\"http://www.w3.org/1999/xlink\">\n",
       "<g id=\"graph0\" class=\"graph\" transform=\"scale(1 1) rotate(0) translate(4 199)\">\n",
       "<title>G</title>\n",
       "<polygon fill=\"#ffffff\" stroke=\"transparent\" points=\"-4,4 -4,-199 401.3982,-199 401.3982,4 -4,4\"/>\n",
       "<!-- X -->\n",
       "<g id=\"node1\" class=\"node\">\n",
       "<title>X</title>\n",
       "<ellipse fill=\"#ffffff\" stroke=\"#aaaaaa\" stroke-width=\"2\" cx=\"160.6991\" cy=\"-177\" rx=\"27\" ry=\"18\"/>\n",
       "<text text-anchor=\"middle\" x=\"160.6991\" y=\"-172.8\" font-family=\"Times,serif\" font-size=\"14.00\" fill=\"#414141\">X</text>\n",
       "</g>\n",
       "<!-- relu_1 -->\n",
       "<g id=\"node3\" class=\"node\">\n",
       "<title>relu_1</title>\n",
       "<ellipse fill=\"#ffffff\" stroke=\"#aaaaaa\" stroke-width=\"2\" cx=\"115.6991\" cy=\"-91\" rx=\"32.8994\" ry=\"18\"/>\n",
       "<text text-anchor=\"middle\" x=\"115.6991\" y=\"-86.8\" font-family=\"Times,serif\" font-size=\"14.00\" fill=\"#414141\">relu_1</text>\n",
       "</g>\n",
       "<!-- X&#45;&gt;relu_1 -->\n",
       "<g id=\"edge1\" class=\"edge\">\n",
       "<title>X&#45;&gt;relu_1</title>\n",
       "<path fill=\"none\" stroke=\"#aaaaaa\" stroke-width=\"2.5\" d=\"M151.5927,-159.5966C145.5542,-148.0565 137.4922,-132.649 130.5386,-119.36\"/>\n",
       "<polygon fill=\"#aaaaaa\" stroke=\"#aaaaaa\" stroke-width=\"2.5\" points=\"134.0768,-117.0627 124.792,-108.3775 126.6342,-120.9571 134.0768,-117.0627\"/>\n",
       "<text text-anchor=\"middle\" x=\"151.2538\" y=\"-129.8\" font-family=\"Times,serif\" font-size=\"14.00\" fill=\"#414141\">?×3</text>\n",
       "</g>\n",
       "<!-- relu_2 -->\n",
       "<g id=\"node4\" class=\"node\">\n",
       "<title>relu_2</title>\n",
       "<ellipse fill=\"#ffffff\" stroke=\"#aaaaaa\" stroke-width=\"2\" cx=\"32.6991\" cy=\"-91\" rx=\"32.8994\" ry=\"18\"/>\n",
       "<text text-anchor=\"middle\" x=\"32.6991\" y=\"-86.8\" font-family=\"Times,serif\" font-size=\"14.00\" fill=\"#414141\">relu_2</text>\n",
       "</g>\n",
       "<!-- X&#45;&gt;relu_2 -->\n",
       "<g id=\"edge3\" class=\"edge\">\n",
       "<title>X&#45;&gt;relu_2</title>\n",
       "<path fill=\"none\" stroke=\"#aaaaaa\" stroke-width=\"2.5\" d=\"M141.5362,-164.1249C121.0022,-150.3286 88.0932,-128.2179 63.8322,-111.9176\"/>\n",
       "<polygon fill=\"#aaaaaa\" stroke=\"#aaaaaa\" stroke-width=\"2.5\" points=\"66.0009,-108.3147 53.698,-105.1086 61.3163,-115.2871 66.0009,-108.3147\"/>\n",
       "<text text-anchor=\"middle\" x=\"114.2538\" y=\"-129.8\" font-family=\"Times,serif\" font-size=\"14.00\" fill=\"#414141\">?×3</text>\n",
       "</g>\n",
       "<!-- relu_3 -->\n",
       "<g id=\"node5\" class=\"node\">\n",
       "<title>relu_3</title>\n",
       "<ellipse fill=\"#ffffff\" stroke=\"#aaaaaa\" stroke-width=\"2\" cx=\"281.6991\" cy=\"-91\" rx=\"32.8994\" ry=\"18\"/>\n",
       "<text text-anchor=\"middle\" x=\"281.6991\" y=\"-86.8\" font-family=\"Times,serif\" font-size=\"14.00\" fill=\"#414141\">relu_3</text>\n",
       "</g>\n",
       "<!-- X&#45;&gt;relu_3 -->\n",
       "<g id=\"edge6\" class=\"edge\">\n",
       "<title>X&#45;&gt;relu_3</title>\n",
       "<path fill=\"none\" stroke=\"#aaaaaa\" stroke-width=\"2.5\" d=\"M179.3402,-163.751C198.656,-150.0224 229.1374,-128.3579 251.8202,-112.2363\"/>\n",
       "<polygon fill=\"#aaaaaa\" stroke=\"#aaaaaa\" stroke-width=\"2.5\" points=\"254.2771,-115.6428 261.6251,-105.2675 249.4107,-108.796 254.2771,-115.6428\"/>\n",
       "<text text-anchor=\"middle\" x=\"238.2538\" y=\"-129.8\" font-family=\"Times,serif\" font-size=\"14.00\" fill=\"#414141\">?×3</text>\n",
       "</g>\n",
       "<!-- relu_4 -->\n",
       "<g id=\"node6\" class=\"node\">\n",
       "<title>relu_4</title>\n",
       "<ellipse fill=\"#ffffff\" stroke=\"#aaaaaa\" stroke-width=\"2\" cx=\"198.6991\" cy=\"-91\" rx=\"32.8994\" ry=\"18\"/>\n",
       "<text text-anchor=\"middle\" x=\"198.6991\" y=\"-86.8\" font-family=\"Times,serif\" font-size=\"14.00\" fill=\"#414141\">relu_4</text>\n",
       "</g>\n",
       "<!-- X&#45;&gt;relu_4 -->\n",
       "<g id=\"edge7\" class=\"edge\">\n",
       "<title>X&#45;&gt;relu_4</title>\n",
       "<path fill=\"none\" stroke=\"#aaaaaa\" stroke-width=\"2.5\" d=\"M168.389,-159.5966C173.4034,-148.2482 180.0703,-133.1599 185.8745,-120.024\"/>\n",
       "<polygon fill=\"#aaaaaa\" stroke=\"#aaaaaa\" stroke-width=\"2.5\" points=\"189.8819,-121.3464 190.8903,-108.6727 182.1985,-117.9514 189.8819,-121.3464\"/>\n",
       "<text text-anchor=\"middle\" x=\"192.2538\" y=\"-129.8\" font-family=\"Times,serif\" font-size=\"14.00\" fill=\"#414141\">?×3</text>\n",
       "</g>\n",
       "<!-- relu_5 -->\n",
       "<g id=\"node7\" class=\"node\">\n",
       "<title>relu_5</title>\n",
       "<ellipse fill=\"#ffffff\" stroke=\"#aaaaaa\" stroke-width=\"2\" cx=\"364.6991\" cy=\"-91\" rx=\"32.8994\" ry=\"18\"/>\n",
       "<text text-anchor=\"middle\" x=\"364.6991\" y=\"-86.8\" font-family=\"Times,serif\" font-size=\"14.00\" fill=\"#414141\">relu_5</text>\n",
       "</g>\n",
       "<!-- X&#45;&gt;relu_5 -->\n",
       "<g id=\"edge9\" class=\"edge\">\n",
       "<title>X&#45;&gt;relu_5</title>\n",
       "<path fill=\"none\" stroke=\"#aaaaaa\" stroke-width=\"2.5\" d=\"M184.2655,-168.1276C202.9247,-161.0187 229.6,-150.6692 252.6991,-141 278.1739,-130.3364 306.5821,-117.6447 328.4135,-107.7167\"/>\n",
       "<polygon fill=\"#aaaaaa\" stroke=\"#aaaaaa\" stroke-width=\"2.5\" points=\"330.3197,-111.4636 339.4918,-102.6595 326.8313,-103.8221 330.3197,-111.4636\"/>\n",
       "<text text-anchor=\"middle\" x=\"293.2538\" y=\"-129.8\" font-family=\"Times,serif\" font-size=\"14.00\" fill=\"#414141\">?×3</text>\n",
       "</g>\n",
       "<!-- relu -->\n",
       "<g id=\"node2\" class=\"node\">\n",
       "<title>relu</title>\n",
       "<ellipse fill=\"#ffffff\" stroke=\"#aaaaaa\" stroke-width=\"2\" cx=\"265.6991\" cy=\"-177\" rx=\"27\" ry=\"18\"/>\n",
       "<text text-anchor=\"middle\" x=\"265.6991\" y=\"-172.8\" font-family=\"Times,serif\" font-size=\"14.00\" fill=\"#414141\">relu</text>\n",
       "</g>\n",
       "<!-- relu&#45;&gt;relu_1 -->\n",
       "<g id=\"edge2\" class=\"edge\">\n",
       "<title>relu&#45;&gt;relu_1</title>\n",
       "<path fill=\"none\" stroke=\"#aaaaaa\" stroke-width=\"2.5\" d=\"M245.736,-164.5973C229.0244,-154.3059 204.4809,-139.4027 182.6991,-127 172.3341,-121.0981 160.9421,-114.8791 150.5383,-109.3016\"/>\n",
       "<polygon fill=\"#aaaaaa\" stroke=\"#aaaaaa\" stroke-width=\"2.5\" points=\"152.2981,-105.4804 139.7323,-103.5466 148.3495,-112.8945 152.2981,-105.4804\"/>\n",
       "</g>\n",
       "<!-- relu&#45;&gt;relu_2 -->\n",
       "<g id=\"edge4\" class=\"edge\">\n",
       "<title>relu&#45;&gt;relu_2</title>\n",
       "<path fill=\"none\" stroke=\"#aaaaaa\" stroke-width=\"2.5\" d=\"M241.2399,-168.9781C204.5476,-156.8001 133.2089,-132.5646 73.6991,-109 72.2761,-108.4365 70.8295,-107.8533 69.3714,-107.2566\"/>\n",
       "<polygon fill=\"#aaaaaa\" stroke=\"#aaaaaa\" stroke-width=\"2.5\" points=\"70.8552,-103.3241 58.1665,-102.5257 67.5879,-111.0627 70.8552,-103.3241\"/>\n",
       "</g>\n",
       "<!-- relu&#45;&gt;relu_3 -->\n",
       "<g id=\"edge5\" class=\"edge\">\n",
       "<title>relu&#45;&gt;relu_3</title>\n",
       "<path fill=\"none\" stroke=\"#aaaaaa\" stroke-width=\"2.5\" d=\"M289.4041,-167.9445C301.0659,-162.141 314.0235,-153.348 320.6991,-141 326.0615,-131.0812 320.8903,-121.0957 312.756,-112.6846\"/>\n",
       "<polygon fill=\"#aaaaaa\" stroke=\"#aaaaaa\" stroke-width=\"2.5\" points=\"315.3064,-109.3342 303.5238,-104.558 309.7562,-115.6394 315.3064,-109.3342\"/>\n",
       "</g>\n",
       "<!-- relu&#45;&gt;relu_4 -->\n",
       "<g id=\"edge8\" class=\"edge\">\n",
       "<title>relu&#45;&gt;relu_4</title>\n",
       "<path fill=\"none\" stroke=\"#aaaaaa\" stroke-width=\"2.5\" d=\"M263.7524,-159.0252C261.9369,-148.8669 258.4369,-136.3669 251.6991,-127 246.9677,-120.4223 240.6376,-114.6731 234.0018,-109.8135\"/>\n",
       "<polygon fill=\"#aaaaaa\" stroke=\"#aaaaaa\" stroke-width=\"2.5\" points=\"235.8434,-105.998 223.5083,-102.9181 231.2304,-113.0181 235.8434,-105.998\"/>\n",
       "</g>\n",
       "<!-- relu&#45;&gt;relu_5 -->\n",
       "<g id=\"edge10\" class=\"edge\">\n",
       "<title>relu&#45;&gt;relu_5</title>\n",
       "<path fill=\"none\" stroke=\"#aaaaaa\" stroke-width=\"2.5\" d=\"M289.857,-168.5916C304.4231,-162.6117 322.6253,-153.4288 335.6991,-141 342.0516,-134.961 347.4451,-127.2224 351.7946,-119.647\"/>\n",
       "<polygon fill=\"#aaaaaa\" stroke=\"#aaaaaa\" stroke-width=\"2.5\" points=\"355.5839,-121.4638 357.4102,-108.8819 348.1363,-117.5788 355.5839,-121.4638\"/>\n",
       "</g>\n",
       "<!-- output -->\n",
       "<g id=\"node8\" class=\"node\">\n",
       "<title>output</title>\n",
       "<ellipse fill=\"#ffffff\" stroke=\"#aaaaaa\" stroke-width=\"2\" cx=\"198.6991\" cy=\"-18\" rx=\"32.9168\" ry=\"18\"/>\n",
       "<text text-anchor=\"middle\" x=\"198.6991\" y=\"-13.8\" font-family=\"Times,serif\" font-size=\"14.00\" fill=\"#414141\">output</text>\n",
       "</g>\n",
       "<!-- relu_1&#45;&gt;output -->\n",
       "<g id=\"edge12\" class=\"edge\">\n",
       "<title>relu_1&#45;&gt;output</title>\n",
       "<path fill=\"none\" stroke=\"#aaaaaa\" stroke-width=\"2.5\" d=\"M133.3013,-75.5186C144.5256,-65.6466 159.2879,-52.6629 171.9461,-41.5298\"/>\n",
       "<polygon fill=\"#aaaaaa\" stroke=\"#aaaaaa\" stroke-width=\"2.5\" points=\"174.8854,-44.538 181.1223,-33.4591 169.3378,-38.2305 174.8854,-44.538\"/>\n",
       "</g>\n",
       "<!-- relu_2&#45;&gt;output -->\n",
       "<g id=\"edge15\" class=\"edge\">\n",
       "<title>relu_2&#45;&gt;output</title>\n",
       "<path fill=\"none\" stroke=\"#aaaaaa\" stroke-width=\"2.5\" d=\"M58.2728,-79.7537C85.9335,-67.5897 130.2844,-48.086 161.7356,-34.255\"/>\n",
       "<polygon fill=\"#aaaaaa\" stroke=\"#aaaaaa\" stroke-width=\"2.5\" points=\"163.8023,-37.9344 173.0963,-29.259 160.4208,-30.2451 163.8023,-37.9344\"/>\n",
       "</g>\n",
       "<!-- relu_3&#45;&gt;output -->\n",
       "<g id=\"edge14\" class=\"edge\">\n",
       "<title>relu_3&#45;&gt;output</title>\n",
       "<path fill=\"none\" stroke=\"#aaaaaa\" stroke-width=\"2.5\" d=\"M264.0969,-75.5186C252.8727,-65.6466 238.1104,-52.6629 225.4521,-41.5298\"/>\n",
       "<polygon fill=\"#aaaaaa\" stroke=\"#aaaaaa\" stroke-width=\"2.5\" points=\"228.0604,-38.2305 216.2759,-33.4591 222.5129,-44.538 228.0604,-38.2305\"/>\n",
       "</g>\n",
       "<!-- relu_4&#45;&gt;output -->\n",
       "<g id=\"edge13\" class=\"edge\">\n",
       "<title>relu_4&#45;&gt;output</title>\n",
       "<path fill=\"none\" stroke=\"#aaaaaa\" stroke-width=\"2.5\" d=\"M198.6991,-72.9551C198.6991,-65.497 198.6991,-56.644 198.6991,-48.2462\"/>\n",
       "<polygon fill=\"#aaaaaa\" stroke=\"#aaaaaa\" stroke-width=\"2.5\" points=\"202.8992,-48.0903 198.6991,-36.0904 194.4992,-48.0904 202.8992,-48.0903\"/>\n",
       "</g>\n",
       "<!-- relu_5&#45;&gt;output -->\n",
       "<g id=\"edge11\" class=\"edge\">\n",
       "<title>relu_5&#45;&gt;output</title>\n",
       "<path fill=\"none\" stroke=\"#aaaaaa\" stroke-width=\"2.5\" d=\"M339.1254,-79.7537C311.4647,-67.5897 267.1139,-48.086 235.6626,-34.255\"/>\n",
       "<polygon fill=\"#aaaaaa\" stroke=\"#aaaaaa\" stroke-width=\"2.5\" points=\"236.9774,-30.2451 224.3019,-29.259 233.5959,-37.9344 236.9774,-30.2451\"/>\n",
       "</g>\n",
       "</g>\n",
       "</svg>\n"
      ],
      "text/plain": [
       "<graphviz.dot.Digraph at 0x1077cbef0>"
      ]
     },
     "execution_count": 48,
     "metadata": {},
     "output_type": "execute_result"
    }
   ],
   "source": [
    "tf_graph = tfg.board(tf.get_default_graph())\n",
    "tf_graph"
   ]
  },
  {
   "cell_type": "code",
   "execution_count": null,
   "metadata": {},
   "outputs": [],
   "source": []
  },
  {
   "cell_type": "code",
   "execution_count": null,
   "metadata": {},
   "outputs": [],
   "source": []
  }
 ],
 "metadata": {
  "kernelspec": {
   "display_name": "tensorflow",
   "language": "python",
   "name": "tensorflow"
  },
  "language_info": {
   "codemirror_mode": {
    "name": "ipython",
    "version": 3
   },
   "file_extension": ".py",
   "mimetype": "text/x-python",
   "name": "python",
   "nbconvert_exporter": "python",
   "pygments_lexer": "ipython3",
   "version": "3.6.5"
  }
 },
 "nbformat": 4,
 "nbformat_minor": 2
}
