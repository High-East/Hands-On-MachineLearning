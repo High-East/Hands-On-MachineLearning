{
 "cells": [
  {
   "cell_type": "markdown",
   "metadata": {},
   "source": [
    "# Chap15 - 오토인코더 - Autoencoder\n",
    "\n",
    "\n",
    "저번 포스팅 [07. 순환 신경망, RNN](http://excelsior-cjh.tistory.com/183)에서는 자연어, 음성신호, 주식과 같은 연속적인 데이터에 적합한 모델인 RNN, LSTM, GRU에 대해 알아보았다. 이번 포스팅에서는 딥러닝에서의 비지도 학습(unsupervised learning)이라고 할 수 있는 **오코인코더**(autoencoder)에 대해 알아보도록 하자."
   ]
  },
  {
   "cell_type": "markdown",
   "metadata": {},
   "source": [
    " "
   ]
  },
  {
   "cell_type": "markdown",
   "metadata": {},
   "source": [
    "## 1. 오토인코더 란?\n",
    "\n",
    "오토인코더(Autoencoder)는 아래의 그림과 같이 단순히 입력을 출력으로 복사하는 신경망이다. 어떻게 보면 간단한 신경망처럼 보이지만 네트워크에 여러가지 방법으로 제약을 줌으로써 어려운 신경망으로 만든다. 예를들어 아래 그림처럼 hidden layer의 뉴런 수를 input layer(입력층) 보다 작게해서 데이터를 압축(차원을 축소)한다거나, 입력 데이터에 노이즈(noise)를 추가한 후 원본 입력을 복원할 수 있도록 네트워크를 학습시키는 등 다양한 오토인코더가 있다. 이러한 제약들은 오토인코더가 단순히 입력을 바로 출력으로 복사하지 못하도록 방지하며, 데이터를 효율적으로 표현(representation)하는 방법을 학습하도록 제어한다.\n",
    "\n",
    "\n",
    "\n",
    "![](./images/ae01.png)\n",
    "\n",
    "\n",
    "\n",
    "오토인코더는 위의 그림에서 볼 수 있듯이 항상 인코더(encoder)와 디코더(decoder), 두 부분으로 구성되어 있다.\n",
    "\n",
    "- **인코더(encoder)** : 인지 네트워크(recognition network)라고도 하며, 입력을 내부 표현으로 변환한다.\n",
    "- **디코더(decoder)** : 생성 네트워크(generative nework)라고도 하며, 내부 표현을 출력으로 변환한다.\n",
    "\n",
    "오토인코더는 위의 그림에서 처럼, 입력과 출력층의 뉴런 수가 동일하다는 것만 제외하면 일반적인 MLP(Multi-Layer Perceptron)과 동일한 구조이다. 오토인코더는 입력을 재구성하기 때문에 출력을 **재구성(reconstruction)**이라고도 하며, 손실함수는 입력과 재구성(출력)의 차이를 가지고 계산한다. \n",
    "\n",
    "위 그림의 오토인토더는 히든 레이어의 뉴런(노드, 유닛)이 입력층보다 작으므로 입력이 저차원으로 표현되는데, 이러한 오토인코더를 **Undercomplete Autoencoder**라고 한다. undercomplete 오토인코더는 저차원을 가지는 히든 레이어에 의해 입력을 그대로 출력으로 복사할 수 없기 때문에, 출력이 입력과 같은 것을 출력하기 위해 학습해야 한다. 이러한 학습을 통해 undercomplete 오토인코더는 입력 데이터에서 가장 중요한 특성(feature)을 학습하도록 만든다."
   ]
  },
  {
   "cell_type": "markdown",
   "metadata": {},
   "source": [
    " "
   ]
  },
  {
   "cell_type": "code",
   "execution_count": 2,
   "metadata": {},
   "outputs": [],
   "source": [
    "import os, sys\n",
    "import numpy as np\n",
    "import tensorflow as tf\n",
    "\n",
    "# 일관된 출력을 위해 유사난수 초기화\n",
    "def reset_graph(seed=42):\n",
    "    tf.reset_default_graph()\n",
    "    tf.set_random_seed(seed)\n",
    "    np.random.seed(seed)\n",
    "\n",
    "%matplotlib inline\n",
    "import matplotlib\n",
    "import matplotlib.pyplot as plt\n",
    "plt.rcParams['axes.labelsize'] = 14\n",
    "plt.rcParams['xtick.labelsize'] = 12\n",
    "plt.rcParams['ytick.labelsize'] = 12\n",
    "\n",
    "# 한글출력\n",
    "# matplotlib.rc('font', family='AppleGothic')  # MacOS\n",
    "# matplotlib.rc('font', family='Malgun Gothic')  # Windows\n",
    "matplotlib.rc('font', family='NanumBarunGothic') # Linux\n",
    "plt.rcParams['axes.unicode_minus'] = False"
   ]
  },
  {
   "cell_type": "markdown",
   "metadata": {},
   "source": [
    "### functions for plotting"
   ]
  },
  {
   "cell_type": "code",
   "execution_count": 3,
   "metadata": {},
   "outputs": [],
   "source": [
    "def plot_image(image, shape=[28, 28]):\n",
    "    plt.imshow(image.reshape(shape), cmap=\"Greys\", interpolation=\"nearest\")\n",
    "    plt.axis(\"off\")\n",
    "    \n",
    "def plot_multiple_images(images, n_rows, n_cols, pad=2):\n",
    "    images = images - images.min()  # 최소값을 0으로 만들어 패딩이 하얗게 보이도록 합니다.\n",
    "    w,h = images.shape[1:]\n",
    "    image = np.zeros(((w+pad)*n_rows+pad, (h+pad)*n_cols+pad))\n",
    "    for y in range(n_rows):\n",
    "        for x in range(n_cols):\n",
    "            image[(y*(h+pad)+pad):(y*(h+pad)+pad+h),(x*(w+pad)+pad):(x*(w+pad)+pad+w)] = images[y*n_cols+x]\n",
    "    plt.imshow(image, cmap=\"Greys\", interpolation=\"nearest\")\n",
    "    plt.axis(\"off\")"
   ]
  },
  {
   "cell_type": "markdown",
   "metadata": {},
   "source": [
    " "
   ]
  },
  {
   "cell_type": "markdown",
   "metadata": {},
   "source": [
    "## 2. Undercomplete Linear 오토인코더로 PCA 구현하기\n",
    "\n",
    "위에서 살펴본 Undercomplete 오토인코더에서 활성화 함수를 sigmoid, ReLU같은 비선형(non-linear)함수가 아니라 선형(linear) 함수를 사용하고, 손실함수로 MSE(Mean Squared Error)를 사용할 경우에는 [PCA](http://excelsior-cjh.tistory.com/167?category=918734)라고 볼 수 있다.\n",
    "\n",
    "아래의 예제코드는 가상의 3차원 데이터셋을 undercomplete 오토인코더를 사용해 2차원으로 축소하는 PCA를 수행한 코드이다."
   ]
  },
  {
   "cell_type": "code",
   "execution_count": 4,
   "metadata": {},
   "outputs": [],
   "source": [
    "# 3D 데이터셋을 만듦\n",
    "import numpy.random as rnd\n",
    "\n",
    "rnd.seed(4)\n",
    "m = 200\n",
    "w1, w2 = 0.1, 0.3\n",
    "noise = 0.1\n",
    "\n",
    "angles = rnd.rand(m) * 3 * np.pi / 2 - 0.5\n",
    "data = np.empty((m, 3))\n",
    "data[:, 0] = np.cos(angles) + np.sin(angles)/2 + noise * rnd.randn(m) / 2\n",
    "data[:, 1] = np.sin(angles) * 0.7 + noise * rnd.randn(m) / 2\n",
    "data[:, 2] = data[:, 0] * w1 + data[:, 1] * w2 + noise * rnd.randn(m)"
   ]
  },
  {
   "cell_type": "code",
   "execution_count": 5,
   "metadata": {},
   "outputs": [],
   "source": [
    "# 데이터 정규화\n",
    "from sklearn.preprocessing import StandardScaler\n",
    "\n",
    "scaler = StandardScaler()\n",
    "X_train = scaler.fit_transform(data[:100])\n",
    "X_test = scaler.transform(data[100:])"
   ]
  },
  {
   "cell_type": "code",
   "execution_count": 6,
   "metadata": {},
   "outputs": [],
   "source": [
    "reset_graph()\n",
    "\n",
    "################\n",
    "# layer params #\n",
    "################\n",
    "n_inputs = 3\n",
    "n_hidden = 2  # coding units\n",
    "n_outputs = n_inputs\n",
    "\n",
    "# autoencoder\n",
    "X = tf.placeholder(tf.float32, shape=[None, n_inputs])\n",
    "hidden = tf.layers.dense(X, n_hidden)\n",
    "outputs = tf.layers.dense(hidden, n_outputs)\n",
    "\n",
    "################\n",
    "# Train params #\n",
    "################\n",
    "learning_rate = 0.01\n",
    "n_iterations = 1000\n",
    "pca = hidden\n",
    "\n",
    "# loss\n",
    "reconstruction_loss = tf.reduce_mean(tf.square(outputs - X))  # MSE\n",
    "# optimizer\n",
    "train_op = tf.train.AdamOptimizer(learning_rate).minimize(reconstruction_loss)\n",
    "\n",
    "with tf.Session() as sess:\n",
    "    tf.global_variables_initializer().run()\n",
    "    for iteration in range(n_iterations):\n",
    "        train_op.run(feed_dict={X: X_train})\n",
    "    pca_val = pca.eval(feed_dict={X: X_test})"
   ]
  },
  {
   "cell_type": "code",
   "execution_count": 7,
   "metadata": {},
   "outputs": [],
   "source": [
    "# fig = plt.figure(figsize=(4,3))\n",
    "# plt.plot(pca_val[:,0], pca_val[:, 1], \"b.\")\n",
    "# plt.xlabel(\"$z_1$\", fontsize=18)\n",
    "# plt.ylabel(\"$z_2$\", fontsize=18, rotation=0)\n",
    "# print('pca_val.shape :', pca_val.shape)\n",
    "# plt.show()"
   ]
  },
  {
   "cell_type": "markdown",
   "metadata": {},
   "source": [
    " "
   ]
  },
  {
   "cell_type": "markdown",
   "metadata": {},
   "source": [
    "![](./images/unc-ae.PNG)\n",
    "\n",
    "\n",
    "\n",
    "위의 코드에서 입력의 개수(`n_inputs`)와 출력의 개수(`n_outputs`)가 동일한 것을 알 수 있으며, PCA를 위해 `tf.layers.dense()`에서 따로 활성화 함수를 지정해주지 않아 모든 뉴런이 선형인 것을 알 수 있다. "
   ]
  },
  {
   "cell_type": "markdown",
   "metadata": {},
   "source": [
    " "
   ]
  },
  {
   "cell_type": "markdown",
   "metadata": {},
   "source": [
    "## 3. Stacked 오토인코더\n",
    "\n",
    "**Stacked** 오토인코더 또는 **deep** 오토인코더는 여러개의 히든 레이어를 가지는 오토인코더이며, 레이어를 추가할수록 오토인코더가 더 복잡한 코딩(부호화)을 학습할 수 있다. stacked 오토인코더의 구조는 아래의 그림과 같이 가운데 히든레이어(코딩층)을 기준으로 대칭인 구조를 가진다.\n",
    "\n",
    "![stacked autoencoder](./images/stacked-ae.PNG)"
   ]
  },
  {
   "cell_type": "markdown",
   "metadata": {},
   "source": [
    "### 3.1 텐서플로로 stacked 오토인코더 구현\n",
    "\n",
    "Stacked 오토인코더는 기본적인 Deep MLP와 비슷하게 구현할 수 있다. 아래의 예제는 [He](http://excelsior-cjh.tistory.com/177?category=940400) 초기화, [ELU](http://excelsior-cjh.tistory.com/178?category=940400) 활성화 함수, $l_2$ 규제(regularization)을 사용해 MNIST 데이터셋에 대한 stacked 오토인코더를 구현한 코드이다."
   ]
  },
  {
   "cell_type": "markdown",
   "metadata": {},
   "source": [
    "#### 3.1.1 MNIST Data Load"
   ]
  },
  {
   "cell_type": "code",
   "execution_count": 8,
   "metadata": {},
   "outputs": [],
   "source": [
    "(train_x, train_y), (test_x, test_y) = tf.keras.datasets.mnist.load_data()\n",
    "train_x = train_x.astype(np.float32).reshape(-1, 28*28) / 255.0\n",
    "test_x = test_x.astype(np.float32).reshape(-1, 28*28) / 255.0\n",
    "train_y = train_y.astype(np.int32)\n",
    "test_y = test_y.astype(np.int32)\n",
    "valid_x, train_x = train_x[:5000], train_x[5000:]\n",
    "valid_y, train_y = train_y[:5000], train_y[5000:]\n",
    "\n",
    "# Mini-batch\n",
    "def shuffle_batch(features, labels, batch_size):\n",
    "    rnd_idx = np.random.permutation(len(features))\n",
    "    n_batches = len(features) // batch_size\n",
    "    for batch_idx in np.array_split(rnd_idx, n_batches):\n",
    "        batch_x, batch_y = features[batch_idx], labels[batch_idx]\n",
    "        yield batch_x, batch_y"
   ]
  },
  {
   "cell_type": "code",
   "execution_count": 9,
   "metadata": {},
   "outputs": [],
   "source": [
    "reset_graph()\n",
    "\n",
    "from functools import partial\n",
    "\n",
    "################\n",
    "# layer params #\n",
    "################\n",
    "n_inputs = 28 * 28\n",
    "n_hidden1 = 300  # encoder\n",
    "n_hidden2 = 150  # coding units\n",
    "n_hidden3 = n_hidden1  # decoder\n",
    "n_outputs = n_inputs  # reconstruction\n",
    "\n",
    "################\n",
    "# train params #\n",
    "################\n",
    "learning_rate = 0.01\n",
    "l2_reg = 0.0001\n",
    "n_epochs = 5\n",
    "batch_size = 150\n",
    "n_batches = len(train_x) // batch_size\n",
    "\n",
    "# set the layers using partial\n",
    "he_init = tf.keras.initializers.he_normal()  # He 초기화\n",
    "l2_regularizer = tf.contrib.layers.l2_regularizer(scale=l2_reg)  # L2 규제\n",
    "dense_layer = partial(tf.layers.dense,\n",
    "                      activation=tf.nn.elu,\n",
    "                      kernel_initializer=he_init,\n",
    "                      kernel_regularizer=l2_regularizer)\n",
    "\n",
    "# stacked autoencoder\n",
    "inputs = tf.placeholder(tf.float32, shape=[None, n_inputs])\n",
    "\n",
    "hidden1 = dense_layer(inputs, n_hidden1)\n",
    "hidden2 = dense_layer(hidden1, n_hidden2)\n",
    "hidden3 = dense_layer(hidden2, n_hidden3)\n",
    "outputs = dense_layer(hidden3, n_outputs, activation=None)\n",
    "\n",
    "# loss\n",
    "reconstruction_loss = tf.reduce_mean(tf.square(outputs - inputs))\n",
    "reg_losses = tf.get_collection(tf.GraphKeys.REGULARIZATION_LOSSES)\n",
    "loss = tf.add_n([reconstruction_loss] + reg_losses)\n",
    "\n",
    "# optimizer\n",
    "train_op = tf.train.AdamOptimizer(learning_rate).minimize(loss)\n",
    "\n",
    "# Saver\n",
    "saver = tf.train.Saver(max_to_keep=1)"
   ]
  },
  {
   "cell_type": "code",
   "execution_count": 10,
   "metadata": {},
   "outputs": [
    {
     "name": "stdout",
     "output_type": "stream",
     "text": [
      "epoch : 0, Train MSE : 0.02316\n",
      "epoch : 1, Train MSE : 0.01119\n",
      "epoch : 2, Train MSE : 0.01046\n",
      "epoch : 3, Train MSE : 0.01036\n",
      "epoch : 4, Train MSE : 0.01053\n",
      "CPU times: user 5.46 s, sys: 188 ms, total: 5.64 s\n",
      "Wall time: 4.69 s\n"
     ]
    }
   ],
   "source": [
    "%%time\n",
    "with tf.Session() as sess:\n",
    "    tf.global_variables_initializer().run()\n",
    "    for epoch in range(n_epochs):\n",
    "        for iteration in range(n_batches):\n",
    "            batch_x, batch_y = next(shuffle_batch(train_x, train_y, batch_size))\n",
    "            sess.run(train_op, feed_dict={inputs: batch_x})\n",
    "        loss_train = reconstruction_loss.eval(feed_dict={inputs: batch_x})\n",
    "        print('epoch : {}, Train MSE : {:.5f}'.format(epoch, loss_train))\n",
    "    saver.save(sess, './model/stacked_ae.ckpt')"
   ]
  },
  {
   "cell_type": "code",
   "execution_count": 11,
   "metadata": {},
   "outputs": [],
   "source": [
    "def show_reconstructed_digits(X, outputs, model_path=None, n_test_digits=2):\n",
    "    with tf.Session() as sess:\n",
    "        if model_path:\n",
    "            saver.restore(sess, model_path)\n",
    "        outputs_val = outputs.eval(feed_dict={inputs: test_x[:n_test_digits]})\n",
    "\n",
    "    fig = plt.figure(figsize=(10, 4))\n",
    "    for digit_index in range(n_test_digits):\n",
    "        plt.subplot(n_test_digits, 2, digit_index * 2 + 1)\n",
    "        plot_image(test_x[digit_index])\n",
    "        plt.subplot(n_test_digits, 2, digit_index * 2 + 2)\n",
    "        plot_image(outputs_val[digit_index])\n",
    "        \n",
    "# show_reconstructed_digits(inputs, outputs, './model/stacked_ae.ckpt')"
   ]
  },
  {
   "cell_type": "markdown",
   "metadata": {},
   "source": [
    " "
   ]
  },
  {
   "cell_type": "markdown",
   "metadata": {},
   "source": [
    "위의 코드를 학습 시킨 후에 테스트셋의 일부를 재구성하였을 때, 아래의 그림과 같은 결과가 나온다.\n",
    "\n",
    "![](./images/stacked-ae02.PNG)"
   ]
  },
  {
   "cell_type": "markdown",
   "metadata": {},
   "source": [
    " "
   ]
  },
  {
   "cell_type": "markdown",
   "metadata": {},
   "source": [
    "### 3.2 가중치 묶기\n",
    "\n",
    "위(3.1)에서 구현한 stacked 오토인코더처럼, 오토인코더가 완전히 대칭일 때에는 일반적으로 인코더(encoder)의 가중치와 디코더(decoder)의 가중치를 묶어준다. 이렇게 가중치를 묶어주게 되면, 네트워크의 가중치 수가 절반으로 줄어들기 때문에 학습 속도를 높이고 오버피팅의 위험을 줄여준다.\n",
    "\n",
    "![](./images/stacked-ae03.PNG)\n",
    "\n",
    "\n",
    "\n",
    "위의 그림을 수식으로 나타내면, 예를들어 오토인코더가 $N$개의 층을 가지고 있고 $\\mathbf{W}_L$ 이 $L$ 번째 층의 가중치를 나타낸다고 할 때, 디코더 층의 가중치는 $\\mathbf{W}_{N-L+1} = \\mathbf{W}_{L}^{T}$로 정의할 수 있다. "
   ]
  },
  {
   "cell_type": "code",
   "execution_count": 12,
   "metadata": {},
   "outputs": [],
   "source": [
    "reset_graph()\n",
    "\n",
    "################\n",
    "# layer params #\n",
    "################\n",
    "n_inputs = 28 * 28\n",
    "n_hidden1 = 300  # encoder\n",
    "n_hidden2 = 150  # coding units\n",
    "n_hidden3 = n_hidden1  # decoder\n",
    "n_outputs = n_inputs  # reconstruction\n",
    "\n",
    "################\n",
    "# train params #\n",
    "################\n",
    "learning_rate = 0.01\n",
    "l2_reg = 0.0005\n",
    "n_epochs = 5\n",
    "batch_size = 150\n",
    "n_batches = len(train_x) // batch_size\n",
    "\n",
    "# set the layers using partial\n",
    "activation = tf.nn.elu\n",
    "weight_initializer = tf.keras.initializers.he_normal()  # He 초기화\n",
    "l2_regularizer = tf.contrib.layers.l2_regularizer(scale=l2_reg)  # L2 규제\n",
    "\n",
    "inputs = tf.placeholder(tf.float32, shape=[None, n_inputs])\n",
    "\n",
    "W1_init = weight_initializer([n_inputs, n_hidden1])\n",
    "W2_init = weight_initializer([n_hidden1, n_hidden2])\n",
    "\n",
    "# Encoder weights\n",
    "W1 = tf.Variable(W1_init, dtype=tf.float32, name='W1')\n",
    "W2 = tf.Variable(W2_init, dtype=tf.float32, name='W2')\n",
    "# Decoder weights\n",
    "W3 = tf.transpose(W2, name='W3')  # 가중치 묶기\n",
    "W4 = tf.transpose(W1, name='W4')  # 가중치 묶기\n",
    "\n",
    "# bias\n",
    "b1 = tf.Variable(tf.zeros(n_hidden1), name='b1')\n",
    "b2 = tf.Variable(tf.zeros(n_hidden2), name='b2')\n",
    "b3 = tf.Variable(tf.zeros(n_hidden3), name='b3')\n",
    "b4 = tf.Variable(tf.zeros(n_outputs), name='b4')\n",
    "\n",
    "hidden1 = activation(tf.matmul(inputs, W1) + b1)\n",
    "hidden2 = activation(tf.matmul(hidden1, W2) + b2)\n",
    "hidden3 = activation(tf.matmul(hidden2, W3) + b3)\n",
    "outputs = tf.matmul(hidden3, W4) + b4\n",
    "\n",
    "# loss\n",
    "reconstruction_loss = tf.reduce_mean(tf.square(outputs - inputs))\n",
    "reg_loss = l2_regularizer(W1) + l2_regularizer(W2)\n",
    "loss = reconstruction_loss + reg_loss\n",
    "\n",
    "# optimizer\n",
    "train_op = tf.train.AdamOptimizer(learning_rate).minimize(loss)\n",
    "\n",
    "# saver\n",
    "saver = tf.train.Saver()"
   ]
  },
  {
   "cell_type": "code",
   "execution_count": 13,
   "metadata": {},
   "outputs": [
    {
     "name": "stdout",
     "output_type": "stream",
     "text": [
      "epoch : 0, Train MSE : 0.01495\n",
      "epoch : 1, Train MSE : 0.01514\n",
      "epoch : 2, Train MSE : 0.01716\n",
      "epoch : 3, Train MSE : 0.01761\n",
      "epoch : 4, Train MSE : 0.01720\n",
      "CPU times: user 5.32 s, sys: 160 ms, total: 5.48 s\n",
      "Wall time: 4.64 s\n"
     ]
    }
   ],
   "source": [
    "%%time\n",
    "# Train\n",
    "with tf.Session() as sess:\n",
    "    tf.global_variables_initializer().run()\n",
    "    for epoch in range(n_epochs):\n",
    "        for iteration in range(n_batches):\n",
    "            batch_x, batch_y = next(shuffle_batch(train_x, train_y, batch_size))\n",
    "            sess.run(train_op, feed_dict={inputs: batch_x})\n",
    "        loss_train = reconstruction_loss.eval(feed_dict={inputs: batch_x})\n",
    "        print('epoch : {}, Train MSE : {:.5f}'.format(epoch, loss_train))\n",
    "    saver.save(sess, './model/stacked_ae_tying.ckpt')"
   ]
  },
  {
   "cell_type": "code",
   "execution_count": 14,
   "metadata": {},
   "outputs": [
    {
     "name": "stdout",
     "output_type": "stream",
     "text": [
      "INFO:tensorflow:Restoring parameters from ./model/stacked_ae_tying.ckpt\n"
     ]
    },
    {
     "data": {
      "image/png": "[encoded data removed]",
      "text/plain": [
       "<Figure size 720x288 with 4 Axes>"
      ]
     },
     "metadata": {},
     "output_type": "display_data"
    }
   ],
   "source": [
    "show_reconstructed_digits(inputs, outputs, './model/stacked_ae_tying.ckpt')"
   ]
  },
  {
   "cell_type": "markdown",
   "metadata": {},
   "source": [
    "  "
   ]
  },
  {
   "cell_type": "markdown",
   "metadata": {},
   "source": [
    "### 3.3 한 번에 한 층씩 학습하기\n",
    "\n",
    "3.1과 3.2에서 처럼 한 번에 전체 오토인코더를 학습시키는 것보다 아래의 그림처럼 한 번에 오토인코더 하나를 학습하고, 이를 쌓아올려서 한 개의 stacked-오토인코더를 만드는 것이 훨씬 빠르며 이러한 방식은 아주 깊은 오토인코더일 경우에 유용하다.\n",
    "\n",
    "![](./images/stacked-ae04.PNG)\n",
    "\n",
    "\n",
    "\n",
    "- [단계 1]에서 첫 번째 오토인코더는 입력을 재구성하도록 학습된다.\n",
    "- [단계 2]에서는 두 번째 오토인코더가 첫 번째 히든 레이어(`Hidden 1`)의 출력을 재구성하도록 학습된다.\n",
    "\n",
    "- [단계 3]에서는 단계1 ~ 2의 오토인코더를 합쳐 최종적으로 하나의 stacked-오토인코더를 구현한다.\n",
    "\n",
    "\n",
    "텐서플로에서 이렇게 여러 단계의 오토인코더를 학습시키는 방법으로는 다음과 같이 두 가지 방법이 있다.\n",
    "\n",
    "-  각 단계마다 다른 텐서플로 그래프(graph)를 사용하는 방법\n",
    "- 하나의 그래프에 각 단계의 학습을 수행하는 방법"
   ]
  },
  {
   "cell_type": "markdown",
   "metadata": {},
   "source": [
    "#### 3.3.1 여러개의 그래프에서 오토인코더 학습하기\n",
    "\n",
    "각 오토인코더를 다른 그래프를 사용하여 학습한다. 그런 다음 이런 오토인코더의 가중치와 편향을 복사해 초깃값으로 지정해서 적층 오토인코더를 만든다."
   ]
  },
  {
   "cell_type": "code",
   "execution_count": 15,
   "metadata": {},
   "outputs": [],
   "source": [
    "from functools import partial\n",
    "\n",
    "reset_graph()\n",
    "\n",
    "# Mini-batch\n",
    "def shuffle_batch(features, labels, batch_size):\n",
    "    rnd_idx = np.random.permutation(len(features))\n",
    "    n_batches = len(features) // batch_size\n",
    "    for batch_idx in np.array_split(rnd_idx, n_batches):\n",
    "        batch_x, batch_y = features[batch_idx], labels[batch_idx]\n",
    "        yield batch_x, batch_y\n",
    "\n",
    "def train_autoencoder(train_x, n_neurons, n_epochs, batch_size, \n",
    "                      learning_rate=0.01, l2_reg=0.0005, seed=42,\n",
    "                      hidden_activation=tf.nn.elu, \n",
    "                      output_activation=tf.nn.elu):\n",
    "\n",
    "    graph = tf.Graph()\n",
    "    with graph.as_default():\n",
    "        tf.set_random_seed(seed)\n",
    "        \n",
    "        n_inputs = train_x.shape[1]\n",
    "        \n",
    "        inputs = tf.placeholder(tf.float32, shape=[None, n_inputs])\n",
    "        \n",
    "        dense_layer = partial(\n",
    "            tf.layers.dense,\n",
    "            kernel_initializer=tf.keras.initializers.he_normal(), \n",
    "            kernel_regularizer=tf.contrib.layers.l2_regularizer(l2_reg))\n",
    "        \n",
    "        hidden = dense_layer(inputs, n_neurons, activation=hidden_activation, name='hidden')\n",
    "        outputs = dense_layer(hidden, n_inputs, activation=output_activation, name='outputs')\n",
    "        \n",
    "        reconstruction_loss = tf.losses.mean_squared_error(labels=inputs, predictions=outputs)\n",
    "        \n",
    "        reg_losses = tf.get_collection(tf.GraphKeys.REGULARIZATION_LOSSES)\n",
    "        loss = tf.add_n([reconstruction_loss] + reg_losses)\n",
    "\n",
    "        optimizer = tf.train.AdamOptimizer(learning_rate)\n",
    "        train_op = optimizer.minimize(loss)\n",
    "        \n",
    "    with tf.Session(graph=graph) as sess:\n",
    "        tf.global_variables_initializer().run()\n",
    "        n_batches = len(train_x) // batch_size\n",
    "        for epoch in range(n_epochs):\n",
    "            batch_x = None\n",
    "            for iteration in range(n_batches):\n",
    "                batch_x, batch_y = next(shuffle_batch(train_x, train_y, batch_size))\n",
    "                sess.run(train_op, feed_dict={inputs: batch_x})\n",
    "            loss_train = reconstruction_loss.eval(feed_dict={inputs: batch_x})\n",
    "            print('epoch : {}, Train MSE : {:.5f}'.format(epoch, loss_train))\n",
    "            \n",
    "        params = dict([(var.name, var.eval()) for var in tf.get_collection(tf.GraphKeys.TRAINABLE_VARIABLES)])\n",
    "        hidden_val = hidden.eval(feed_dict={inputs: train_x})\n",
    "        \n",
    "    return hidden_val, params[\"hidden/kernel:0\"], params[\"hidden/bias:0\"], params[\"outputs/kernel:0\"], params[\"outputs/bias:0\"]"
   ]
  },
  {
   "cell_type": "markdown",
   "metadata": {},
   "source": [
    "#### 단계 1"
   ]
  },
  {
   "cell_type": "code",
   "execution_count": 16,
   "metadata": {},
   "outputs": [
    {
     "name": "stdout",
     "output_type": "stream",
     "text": [
      "epoch : 0, Train MSE : 0.01839\n",
      "epoch : 1, Train MSE : 0.01773\n",
      "epoch : 2, Train MSE : 0.01953\n",
      "epoch : 3, Train MSE : 0.01933\n"
     ]
    }
   ],
   "source": [
    "hidden_output, W1, b1, W4, b4 = train_autoencoder(train_x, n_neurons=300, n_epochs=4, batch_size=150,\n",
    "                                                  output_activation=None)"
   ]
  },
  {
   "cell_type": "markdown",
   "metadata": {},
   "source": [
    "#### 단계 2"
   ]
  },
  {
   "cell_type": "code",
   "execution_count": 17,
   "metadata": {},
   "outputs": [
    {
     "name": "stdout",
     "output_type": "stream",
     "text": [
      "epoch : 0, Train MSE : 0.00432\n",
      "epoch : 1, Train MSE : 0.00468\n",
      "epoch : 2, Train MSE : 0.00470\n",
      "epoch : 3, Train MSE : 0.00448\n"
     ]
    }
   ],
   "source": [
    "_, W2, b2, W3, b3 = train_autoencoder(hidden_output, n_neurons=150, n_epochs=4, batch_size=150)"
   ]
  },
  {
   "cell_type": "markdown",
   "metadata": {},
   "source": [
    "#### 단계 3"
   ]
  },
  {
   "cell_type": "code",
   "execution_count": 18,
   "metadata": {},
   "outputs": [],
   "source": [
    "reset_graph()\n",
    "\n",
    "n_inputs = 28*28\n",
    "\n",
    "inputs = tf.placeholder(tf.float32, shape=[None, n_inputs])\n",
    "hidden1 = tf.nn.elu(tf.matmul(inputs, W1) + b1)\n",
    "hidden2 = tf.nn.elu(tf.matmul(hidden1, W2) + b2)\n",
    "hidden3 = tf.nn.elu(tf.matmul(hidden2, W3) + b3)\n",
    "outputs = tf.matmul(hidden3, W4) + b4"
   ]
  },
  {
   "cell_type": "code",
   "execution_count": 19,
   "metadata": {},
   "outputs": [
    {
     "data": {
      "image/png": "[encoded data removed]",
      "text/plain": [
       "<Figure size 720x288 with 4 Axes>"
      ]
     },
     "metadata": {},
     "output_type": "display_data"
    }
   ],
   "source": [
    "show_reconstructed_digits(inputs, outputs)"
   ]
  },
  {
   "cell_type": "markdown",
   "metadata": {},
   "source": [
    " "
   ]
  },
  {
   "cell_type": "markdown",
   "metadata": {},
   "source": [
    "#### 3.3.2 하나의 그래프에서 오토인코더를 각각 학습하기\n",
    "\n",
    "전체 적층 오토인코더를 위한 그래프를 만들지만 각 오토인코더를 독립적으로 학습하기 위한 연산도 추가합니다. 단계 1은 맨 아래층과 맨 윗층을 훈련하고(즉, 첫 번째 오토인코더), 단계 2는 두 개의 가운데 층을 훈련한다(즉, 두 번째 오토인코더).\n",
    "\n",
    "![](./images/stacked-ae05.PNG)"
   ]
  },
  {
   "cell_type": "markdown",
   "metadata": {},
   "source": [
    " "
   ]
  },
  {
   "cell_type": "code",
   "execution_count": 20,
   "metadata": {},
   "outputs": [],
   "source": [
    "reset_graph()\n",
    "\n",
    "n_inputs = 28 * 28\n",
    "n_hidden1 = 300\n",
    "n_hidden2 = 150  # 코딩 유닛\n",
    "n_hidden3 = n_hidden1\n",
    "n_outputs = n_inputs\n",
    "\n",
    "learning_rate = 0.01\n",
    "l2_reg = 0.0001\n",
    "\n",
    "activation = tf.nn.elu\n",
    "regularizer = tf.contrib.layers.l2_regularizer(l2_reg)\n",
    "initializer = tf.variance_scaling_initializer()\n",
    "\n",
    "W1_init = initializer([n_inputs, n_hidden1])\n",
    "W2_init = initializer([n_hidden1, n_hidden2])\n",
    "W3_init = initializer([n_hidden2, n_hidden3])\n",
    "W4_init = initializer([n_hidden3, n_outputs])\n",
    "\n",
    "W1 = tf.Variable(W1_init, dtype=tf.float32, name=\"weights1\")\n",
    "W2 = tf.Variable(W2_init, dtype=tf.float32, name=\"weights2\")\n",
    "W3 = tf.Variable(W3_init, dtype=tf.float32, name=\"weights3\")\n",
    "W4 = tf.Variable(W4_init, dtype=tf.float32, name=\"weights4\")\n",
    "\n",
    "b1 = tf.Variable(tf.zeros(n_hidden1), name=\"biases1\")\n",
    "b2 = tf.Variable(tf.zeros(n_hidden2), name=\"biases2\")\n",
    "b3 = tf.Variable(tf.zeros(n_hidden3), name=\"biases3\")\n",
    "b4 = tf.Variable(tf.zeros(n_outputs), name=\"biases4\")\n",
    "\n",
    "inputs = tf.placeholder(tf.float32, shape=[None, n_inputs])\n",
    "hidden1 = activation(tf.matmul(inputs, W1) + b1)\n",
    "hidden2 = activation(tf.matmul(hidden1, W2) + b2)\n",
    "hidden3 = activation(tf.matmul(hidden2, W3) + b3)\n",
    "outputs = tf.matmul(hidden3, W4) + b4\n",
    "\n",
    "reconstruction_loss = tf.losses.mean_squared_error(labels=inputs, predictions=outputs)"
   ]
  },
  {
   "cell_type": "code",
   "execution_count": 21,
   "metadata": {},
   "outputs": [],
   "source": [
    "optimizer = tf.train.AdamOptimizer(learning_rate)\n",
    "\n",
    "with tf.name_scope(\"phase1\"):\n",
    "    phase1_outputs = tf.matmul(hidden1, W4) + b4  # hidden2와 hidden3 통과합니다\n",
    "    phase1_reconstruction_loss = tf.reduce_mean(tf.square(phase1_outputs - inputs))\n",
    "    phase1_reg_loss = regularizer(W1) + regularizer(W4)\n",
    "    phase1_loss = phase1_reconstruction_loss + phase1_reg_loss\n",
    "    phase1_training_op = optimizer.minimize(phase1_loss)\n",
    "\n",
    "with tf.name_scope(\"phase2\"):\n",
    "    phase2_reconstruction_loss = tf.reduce_mean(tf.square(hidden3 - hidden1))\n",
    "    phase2_reg_loss = regularizer(W2) + regularizer(W3)\n",
    "    phase2_loss = phase2_reconstruction_loss + phase2_reg_loss\n",
    "    train_vars = [W2, b2, W3, b3]\n",
    "    phase2_training_op = optimizer.minimize(phase2_loss, var_list=train_vars) # hidden1 동결"
   ]
  },
  {
   "cell_type": "code",
   "execution_count": 22,
   "metadata": {},
   "outputs": [],
   "source": [
    "init = tf.global_variables_initializer()\n",
    "saver = tf.train.Saver()"
   ]
  },
  {
   "cell_type": "code",
   "execution_count": 23,
   "metadata": {},
   "outputs": [
    {
     "name": "stdout",
     "output_type": "stream",
     "text": [
      "훈련 단계 #1\n",
      "0 훈련 MSE: 0.0077777486\n",
      "1 훈련 MSE: 0.007350345\n",
      "2 훈련 MSE: 0.007770041\n",
      "3 훈련 MSE: 0.0078011295\n",
      "훈련 단계 #2\n",
      "0 훈련 MSE: 0.3387254\n",
      "1 훈련 MSE: 0.014874632\n",
      "2 훈련 MSE: 0.004667808\n",
      "3 훈련 MSE: 0.0030774053\n",
      "테스트 MSE: 0.010267258\n"
     ]
    }
   ],
   "source": [
    "training_ops = [phase1_training_op, phase2_training_op]\n",
    "reconstruction_losses = [phase1_reconstruction_loss, phase2_reconstruction_loss]\n",
    "n_epochs = [4, 4]\n",
    "batch_sizes = [150, 150]\n",
    "\n",
    "with tf.Session() as sess:\n",
    "    init.run()\n",
    "    for phase in range(2):\n",
    "        print(\"훈련 단계 #{}\".format(phase + 1))\n",
    "        for epoch in range(n_epochs[phase]):\n",
    "            n_batches = len(train_x) // batch_sizes[phase]\n",
    "            for iteration in range(n_batches):\n",
    "                print(\"\\r{}%\".format(100 * iteration // n_batches), end=\"\")\n",
    "                sys.stdout.flush()\n",
    "                batch_x, batch_y = next(shuffle_batch(train_x, train_y, batch_sizes[phase]))\n",
    "                sess.run(training_ops[phase], feed_dict={inputs: batch_x})\n",
    "            loss_train = reconstruction_losses[phase].eval(feed_dict={inputs: batch_x})\n",
    "            print(\"\\r{}\".format(epoch), \"훈련 MSE:\", loss_train)\n",
    "            saver.save(sess, \"./model/my_model_one_at_a_time.ckpt\")\n",
    "    loss_test = reconstruction_loss.eval(feed_dict={inputs: test_x})\n",
    "    print(\"테스트 MSE:\", loss_test)"
   ]
  },
  {
   "cell_type": "code",
   "execution_count": 24,
   "metadata": {},
   "outputs": [
    {
     "name": "stdout",
     "output_type": "stream",
     "text": [
      "INFO:tensorflow:Restoring parameters from ./model/my_model_one_at_a_time.ckpt\n"
     ]
    },
    {
     "data": {
      "image/png": "[encoded data removed]",
      "text/plain": [
       "<Figure size 720x288 with 4 Axes>"
      ]
     },
     "metadata": {},
     "output_type": "display_data"
    }
   ],
   "source": [
    "show_reconstructed_digits(inputs, outputs, './model/my_model_one_at_a_time.ckpt')"
   ]
  },
  {
   "cell_type": "markdown",
   "metadata": {},
   "source": [
    " "
   ]
  },
  {
   "cell_type": "markdown",
   "metadata": {},
   "source": [
    "### 3.4 특성 시각화"
   ]
  },
  {
   "cell_type": "code",
   "execution_count": 25,
   "metadata": {},
   "outputs": [
    {
     "name": "stdout",
     "output_type": "stream",
     "text": [
      "INFO:tensorflow:Restoring parameters from ./model/my_model_one_at_a_time.ckpt\n"
     ]
    },
    {
     "data": {
      "image/png": "[encoded data removed]",
      "text/plain": [
       "<Figure size 432x288 with 5 Axes>"
      ]
     },
     "metadata": {},
     "output_type": "display_data"
    }
   ],
   "source": [
    "with tf.Session() as sess:\n",
    "    saver.restore(sess, \"./model/my_model_one_at_a_time.ckpt\")\n",
    "    W1_val = W1.eval()\n",
    "\n",
    "for i in range(5):\n",
    "    plt.subplot(1, 5, i + 1)\n",
    "    plot_image(W1_val.T[i])\n",
    "\n",
    "plt.show()"
   ]
  },
  {
   "cell_type": "markdown",
   "metadata": {},
   "source": [
    " "
   ]
  },
  {
   "cell_type": "markdown",
   "metadata": {},
   "source": [
    "## 4. Stacked-오토인코더를 이용한 비지도 사전학습\n",
    "\n",
    "대부분이 레이블되어 있지 않는 데이터셋이 있을 때, 먼저 전체 데이터를 사용해 stacked-오토인코더를 학습시킨다. 그런 다음 오토인코더의 하위 레이어를 재사용해 분류와 같은 실제 문제를 해결하기 위한 신경망을 만들고 레이블된 데이터를 사용해 학습시킬 수 있다.\n",
    "\n",
    "\n",
    "\n",
    "![](./images/unsupervised.PNG)\n",
    "\n",
    "\n",
    "\n",
    "위와 같은 방법을 텐서플로에서 구현할 때는 [Transfer Learning](http://excelsior-cjh.tistory.com/179?category=940399)포스팅에서 살펴본 방법과 같이 구현하면 된다. 이러한 비지도 사전학습 방법에 대한 소스코드는 [여기](https://github.com/rickiepark/handson-ml/blob/master/15_autoencoders.ipynb)에서 확인할 수 있다."
   ]
  },
  {
   "cell_type": "markdown",
   "metadata": {},
   "source": [
    " "
   ]
  },
  {
   "cell_type": "markdown",
   "metadata": {},
   "source": [
    "## 5. Denoising 오토인코더\n",
    "\n",
    "오토인코더가 의미있는 특성(feature)을 학습하도록 제약을 주는 다른 방법은 입력에 노이즈(noise, 잡음)를 추가하고, 노이즈가 없는 원본 입력을 재구성하도록 학습시키는 것이다. 노이즈는 아래의 그림처럼 입력에 [가우시안(Gaussian) 노이즈](https://en.wikipedia.org/wiki/Gaussian_noise)를 추가하거나, 드롭아웃(dropout)처럼 랜덤하게 입력 유닛(노드)를 꺼서 발생 시킬 수 있다.\n",
    "\n",
    "\n",
    "\n",
    "![denoising-autoencoder](./images/denoising.PNG)"
   ]
  },
  {
   "cell_type": "markdown",
   "metadata": {},
   "source": [
    " "
   ]
  },
  {
   "cell_type": "markdown",
   "metadata": {},
   "source": [
    "### 5.1 텐서플로로 구현하기\n",
    "\n",
    "이번에는 텐서플로를 이용해 가우시안 노이즈와 드롭아웃을 이용한 denoising-오토인코더를 구현해보도록 하자. 오토인코더 학습에 사용한 데이터셋은 위에서 부터 다뤘던 MNIST 데이터셋이다."
   ]
  },
  {
   "cell_type": "markdown",
   "metadata": {},
   "source": [
    "#### 5.1.1 Gaussian noise"
   ]
  },
  {
   "cell_type": "code",
   "execution_count": 26,
   "metadata": {},
   "outputs": [],
   "source": [
    "reset_graph()\n",
    "\n",
    "################\n",
    "# layer params #\n",
    "################\n",
    "noise_level = 1.0\n",
    "n_inputs = 28 * 28\n",
    "n_hidden1 = 300\n",
    "n_hidden2 = 150  # coding units\n",
    "n_hidden3 = n_hidden1\n",
    "n_outputs = n_inputs\n",
    "\n",
    "################\n",
    "# train params #\n",
    "################\n",
    "learning_rate = 0.01\n",
    "n_epochs = 10\n",
    "batch_size = 150\n",
    "\n",
    "# denoising autoencoder\n",
    "inputs = tf.placeholder(tf.float32, shape=[None, n_inputs])\n",
    "# add gaussian noise\n",
    "inputs_noisy = inputs + noise_level * tf.random_normal(tf.shape(inputs))\n",
    "\n",
    "hidden1 = tf.layers.dense(inputs_noisy, n_hidden1, activation=tf.nn.relu, name='hidden1')\n",
    "hidden2 = tf.layers.dense(hidden1, n_hidden2, activation=tf.nn.relu, name='hidden2')\n",
    "hidden3 = tf.layers.dense(hidden2, n_hidden3, activation=tf.nn.relu, name='hidden3')\n",
    "outputs = tf.layers.dense(hidden3, n_outputs, name='outputs')\n",
    "\n",
    "# loss \n",
    "reconstruction_loss = tf.losses.mean_squared_error(labels=inputs, predictions=outputs)\n",
    "# optimizer\n",
    "train_op = tf.train.AdamOptimizer(learning_rate).minimize(reconstruction_loss)\n",
    "\n",
    "# saver\n",
    "saver = tf.train.Saver()"
   ]
  },
  {
   "cell_type": "code",
   "execution_count": 27,
   "metadata": {},
   "outputs": [
    {
     "name": "stdout",
     "output_type": "stream",
     "text": [
      "epoch : 0, Train MSE : 0.04464\n",
      "epoch : 1, Train MSE : 0.03853\n",
      "epoch : 2, Train MSE : 0.04359\n",
      "epoch : 3, Train MSE : 0.04201\n",
      "epoch : 4, Train MSE : 0.04067\n",
      "epoch : 5, Train MSE : 0.04150\n",
      "epoch : 6, Train MSE : 0.04232\n",
      "epoch : 7, Train MSE : 0.04049\n",
      "epoch : 8, Train MSE : 0.04413\n",
      "epoch : 9, Train MSE : 0.04255\n"
     ]
    }
   ],
   "source": [
    "# Train\n",
    "with tf.Session() as sess:\n",
    "    tf.global_variables_initializer().run()\n",
    "    n_batches = len(train_x) // batch_size\n",
    "    for epoch in range(n_epochs):\n",
    "        for iteration in range(n_batches):\n",
    "            print(\"\\r{}%\".format(100 * iteration // n_batches), end=\"\")\n",
    "            sys.stdout.flush()\n",
    "            batch_x, batch_y = next(shuffle_batch(train_x, train_y, batch_size))\n",
    "            sess.run(train_op, feed_dict={inputs: batch_x})\n",
    "        loss_train = reconstruction_loss.eval(feed_dict={inputs: batch_x})\n",
    "        print('\\repoch : {}, Train MSE : {:.5f}'.format(epoch, loss_train))\n",
    "    saver.save(sess, './model/my_model_stacked_denoising_gaussian.ckpt')"
   ]
  },
  {
   "cell_type": "code",
   "execution_count": 28,
   "metadata": {},
   "outputs": [
    {
     "name": "stdout",
     "output_type": "stream",
     "text": [
      "INFO:tensorflow:Restoring parameters from ./model/my_model_stacked_denoising_gaussian.ckpt\n"
     ]
    },
    {
     "data": {
      "image/png": "[encoded data removed]",
      "text/plain": [
       "<Figure size 720x288 with 4 Axes>"
      ]
     },
     "metadata": {},
     "output_type": "display_data"
    }
   ],
   "source": [
    "show_reconstructed_digits(inputs, outputs, './model/my_model_stacked_denoising_gaussian.ckpt')"
   ]
  },
  {
   "cell_type": "markdown",
   "metadata": {},
   "source": [
    "#### 5.1.2 Dropout"
   ]
  },
  {
   "cell_type": "code",
   "execution_count": 29,
   "metadata": {},
   "outputs": [],
   "source": [
    "reset_graph()\n",
    "\n",
    "################\n",
    "# layer params #\n",
    "################\n",
    "noise_level = 1.0\n",
    "n_inputs = 28 * 28\n",
    "n_hidden1 = 300\n",
    "n_hidden2 = 150  # coding units\n",
    "n_hidden3 = n_hidden1\n",
    "n_outputs = n_inputs\n",
    "\n",
    "################\n",
    "# train params #\n",
    "################\n",
    "dropout_rate = 0.3\n",
    "learning_rate = 0.01\n",
    "n_epochs = 10\n",
    "batch_size = 150\n",
    "\n",
    "training = tf.placeholder_with_default(False, shape=(), name='training')\n",
    "\n",
    "# denoising autoencoder\n",
    "inputs = tf.placeholder(tf.float32, shape=[None, n_inputs])\n",
    "# add dropout\n",
    "inputs_drop = tf.layers.dropout(inputs, dropout_rate, training=training)\n",
    "\n",
    "hidden1 = tf.layers.dense(inputs_drop, n_hidden1, activation=tf.nn.relu, name='hidden1')\n",
    "hidden2 = tf.layers.dense(hidden1, n_hidden2, activation=tf.nn.relu, name='hidden2')\n",
    "hidden3 = tf.layers.dense(hidden2, n_hidden3, activation=tf.nn.relu, name='hidden3')\n",
    "outputs = tf.layers.dense(hidden3, n_outputs, name='outputs')\n",
    "\n",
    "# loss \n",
    "reconstruction_loss = tf.losses.mean_squared_error(labels=inputs, predictions=outputs)\n",
    "# optimizer\n",
    "train_op = tf.train.AdamOptimizer(learning_rate).minimize(reconstruction_loss)\n",
    "\n",
    "# saver\n",
    "saver = tf.train.Saver()"
   ]
  },
  {
   "cell_type": "code",
   "execution_count": 30,
   "metadata": {},
   "outputs": [
    {
     "name": "stdout",
     "output_type": "stream",
     "text": [
      "epoch : 0, Train MSE : 0.03542\n",
      "epoch : 1, Train MSE : 0.02821\n",
      "epoch : 2, Train MSE : 0.03197\n",
      "epoch : 3, Train MSE : 0.02996\n",
      "epoch : 4, Train MSE : 0.02990\n",
      "epoch : 5, Train MSE : 0.02833\n",
      "epoch : 6, Train MSE : 0.02964\n",
      "epoch : 7, Train MSE : 0.02738\n",
      "epoch : 8, Train MSE : 0.02957\n",
      "epoch : 9, Train MSE : 0.02967\n"
     ]
    }
   ],
   "source": [
    "# Train\n",
    "with tf.Session() as sess:\n",
    "    tf.global_variables_initializer().run()\n",
    "    n_batches = len(train_x) // batch_size\n",
    "    for epoch in range(n_epochs):\n",
    "        for iteration in range(n_batches):\n",
    "            print(\"\\r{}%\".format(100 * iteration // n_batches), end=\"\")\n",
    "            sys.stdout.flush()\n",
    "            batch_x, batch_y = next(shuffle_batch(train_x, train_y, batch_size))\n",
    "            sess.run(train_op, feed_dict={inputs: batch_x})\n",
    "        loss_train = reconstruction_loss.eval(feed_dict={inputs: batch_x})\n",
    "        print('\\repoch : {}, Train MSE : {:.5f}'.format(epoch, loss_train))\n",
    "    saver.save(sess, './model/my_model_stacked_denoising_dropout.ckpt')"
   ]
  },
  {
   "cell_type": "code",
   "execution_count": 31,
   "metadata": {},
   "outputs": [
    {
     "name": "stdout",
     "output_type": "stream",
     "text": [
      "INFO:tensorflow:Restoring parameters from ./model/my_model_stacked_denoising_dropout.ckpt\n"
     ]
    },
    {
     "data": {
      "image/png": "[encoded data removed]",
      "text/plain": [
       "<Figure size 720x288 with 4 Axes>"
      ]
     },
     "metadata": {},
     "output_type": "display_data"
    }
   ],
   "source": [
    "show_reconstructed_digits(inputs, outputs, './model/my_model_stacked_denoising_dropout.ckpt')"
   ]
  },
  {
   "cell_type": "markdown",
   "metadata": {},
   "source": [
    " "
   ]
  },
  {
   "cell_type": "markdown",
   "metadata": {},
   "source": [
    "## 6. Sparse 오토인코더\n",
    "\n",
    "오토인코더가 좋은 특성을 추출하도록 만드는 다른 제약 방법은 **희소성**(sparsity)를 이용하는 것인데, 이러한 오토인코더를 Sparse Autoencoder라고 한다. 이 방법은 손실함수에 적절한 항을 추가하여 오토인코더가 코딩층(coding layer, 가운데 층)에서 활성화되는 뉴런 수를 감소시키는 것이다. 예를들어 코딩층에서 평균적으로 5% 뉴런만 활성화되도록 만들어 주게 되면, 오토인코더는 5%의 뉴런을 조합하여 입력을 재구성해야하기 때문에 유용한 특성을 표현하게 된다.\n",
    "\n",
    "이러한 Sparse-오토인코더를 만들기 위해서는 먼저 학습 단계에서 코딩층의 실제 sparse(희소) 정도를 측정해야 하는데, 전체 학습 배치(batch)에 대해 코딩층의 평균적인 활성화를 계산한다. 배치의 크기는 너무 작지 않게 설정 해준다. \n",
    "\n",
    "위에서 각 뉴런에 대한 평균 활성화 정도를 계산하여 구하고, 손실함수에 **희소 손실**(sparsity loss)를 추가하여 뉴런이 크게 활성화 되지 않도록 규제할 수 있다.  예를들어 한 뉴런의 평균 활성화가 `0.3`이고 목표 희소 정도가 `0.1`이라면, 이 뉴런은 **덜** 활성화 되도록 해야한다. 희소 손실을 구하는 간단한 방법으로는 제곱 오차 $(0.3 - 0.1)^{2}$를 추가하는 방법이 있다. 하지만, Sparse-오토인코더에서는 아래의 그래프 처럼 MSE보다 더 경사가 급한 쿨백 라이블러 발산(KL-divergense, Kullback-Leibler divergense)을 사용한다."
   ]
  },
  {
   "cell_type": "code",
   "execution_count": 32,
   "metadata": {},
   "outputs": [
    {
     "data": {
      "image/png": "[encoded data removed]",
      "text/plain": [
       "<Figure size 432x288 with 1 Axes>"
      ]
     },
     "metadata": {},
     "output_type": "display_data"
    }
   ],
   "source": [
    "p = 0.1\n",
    "q = np.linspace(0.001, 0.999, 500)\n",
    "kl_div = p * np.log(p / q) + (1 - p) * np.log((1 - p) / (1 - q))\n",
    "mse = (p - q)**2\n",
    "plt.plot([p, p], [0, 0.3], \"k:\")\n",
    "plt.text(0.05, 0.32, \"목표 희소\", fontsize=14)\n",
    "plt.plot(q, kl_div, \"b-\", label=\"쿨백 라이블러 발산\")\n",
    "plt.plot(q, mse, \"r--\", label=\"MSE\")\n",
    "plt.legend(loc=\"upper left\")\n",
    "plt.xlabel(\"실제 희소\")\n",
    "plt.ylabel(\"비용\", rotation=0)\n",
    "plt.axis([0, 1, 0, 0.95]);"
   ]
  },
  {
   "cell_type": "markdown",
   "metadata": {},
   "source": [
    " "
   ]
  },
  {
   "cell_type": "markdown",
   "metadata": {},
   "source": [
    "### 6.1 쿨백 라이블러 발산\n",
    "\n",
    "쿨백-라이블러 발산(Kullback-Leibler divergence, KLD)은 두 확률분포의 차이를 계산하는 데 사용하는 함수이다. 예를들어 딥러닝 모델을 만들 때, 학습 데이터셋의 분포 $P(x)$와 모델이 추정한 데이터의 분포 $Q(x)$ 간에 차이를 KLD를 활용해 구할 수 있다([ratsgo's blog](https://ratsgo.github.io/statistics/2017/09/22/information/)).\n",
    "\n",
    "\n",
    "\n",
    "$$\n",
    "{ D }_{ KL }\\left( P||Q \\right) ={ E }_{ X\\sim P }\\left[ \\log { \\frac { P\\left( x \\right)  }{ Q(x) }  }  \\right] ={ E }_{ X\\sim P }\\left[ \\log { P(x) } -\\log { Q(x) }  \\right]\n",
    "$$\n",
    "\n",
    "\n",
    "\n",
    "Sparse-오토인코더에서는 코딩층에서 뉴런이 활성화될 목표 확률 $p$와 실제확률 $q$(학습 배치에 대한 평균 활성화) 사이의 발산을 측정하며, 식은 다음과 같다.\n",
    "\n",
    "\n",
    "$$\n",
    "D_{KL}\\left( p||q \\right) = p \\log{\\frac{p}{q}} + \\left( 1- p \\right) \\log{\\frac{1-p}{1-q}}\n",
    "$$\n",
    "\n",
    "\n",
    "위의 식을 이용해 코딩층의 각 뉴런에 대해 희소 손실을 구하고 이 손실을 모두 합한 뒤 희소 가중치 하이퍼파라미터를 곱하여 손실함수의 결과에 더해준다.\n",
    "$$\n",
    "Loss = \\text{MSE} + \\text{sparsity_weight} \\times \\text{sparsity_loss}\n",
    "$$\n",
    "\n"
   ]
  },
  {
   "cell_type": "markdown",
   "metadata": {},
   "source": [
    " "
   ]
  },
  {
   "cell_type": "markdown",
   "metadata": {},
   "source": [
    "### 6.2 텐서플로 구현\n",
    "\n",
    "이번에는 텐서플로를 이용해 Sparse-오토인코더를 구현해보도록 하자. "
   ]
  },
  {
   "cell_type": "code",
   "execution_count": 33,
   "metadata": {},
   "outputs": [],
   "source": [
    "reset_graph()\n",
    "\n",
    "################\n",
    "# layer params #\n",
    "################\n",
    "noise_level = 1.0\n",
    "n_inputs = 28 * 28\n",
    "n_hidden1 = 1000 # sparsity coding units\n",
    "n_outputs = n_inputs\n",
    "\n",
    "################\n",
    "# train params #\n",
    "################\n",
    "sparsity_target = 0.1  # p\n",
    "sparsity_weight = 0.2\n",
    "learning_rate = 0.01\n",
    "n_epochs = 20\n",
    "batch_size = 1000\n",
    "\n",
    "def kl_divergence(p, q):\n",
    "    # 쿨백 라이블러 발산\n",
    "    return p * tf.log(p / q) + (1 - p) * tf.log((1 - p) / (1 - q))\n",
    "\n",
    "inputs = tf.placeholder(tf.float32, shape=[None, n_inputs])\n",
    "\n",
    "hidden1 = tf.layers.dense(inputs, n_hidden1, activation=tf.nn.sigmoid)\n",
    "outputs = tf.layers.dense(hidden1, n_outputs)\n",
    "\n",
    "# loss\n",
    "hidden1_mean = tf.reduce_mean(hidden1, axis=0)  # 배치 평균  == q\n",
    "sparsity_loss = tf.reduce_sum(kl_divergence(sparsity_target, hidden1_mean))\n",
    "reconstruction_loss = tf.losses.mean_squared_error(labels=inputs, predictions=outputs)\n",
    "loss = reconstruction_loss + sparsity_weight * sparsity_loss\n",
    "\n",
    "# optimizer\n",
    "train_op = tf.train.AdamOptimizer(learning_rate).minimize(loss)\n",
    "\n",
    "# saver\n",
    "saver = tf.train.Saver()"
   ]
  },
  {
   "cell_type": "code",
   "execution_count": 37,
   "metadata": {},
   "outputs": [
    {
     "name": "stdout",
     "output_type": "stream",
     "text": [
      "epoch : 0, Train MSE : 0.13765, sparsity_loss : 0.85285, total_loss : 0.30822\n",
      "epoch : 1, Train MSE : 0.05900, sparsity_loss : 0.01139, total_loss : 0.06128\n",
      "epoch : 2, Train MSE : 0.05303, sparsity_loss : 0.01861, total_loss : 0.05676\n",
      "epoch : 3, Train MSE : 0.04821, sparsity_loss : 0.02690, total_loss : 0.05359\n",
      "epoch : 4, Train MSE : 0.04416, sparsity_loss : 0.35537, total_loss : 0.11523\n",
      "epoch : 5, Train MSE : 0.04137, sparsity_loss : 0.00702, total_loss : 0.04278\n",
      "epoch : 6, Train MSE : 0.03740, sparsity_loss : 0.04587, total_loss : 0.04658\n",
      "epoch : 7, Train MSE : 0.03650, sparsity_loss : 0.01669, total_loss : 0.03983\n",
      "epoch : 8, Train MSE : 0.03361, sparsity_loss : 0.03076, total_loss : 0.03976\n",
      "epoch : 9, Train MSE : 0.03046, sparsity_loss : 0.02792, total_loss : 0.03604\n",
      "epoch : 10, Train MSE : 0.02842, sparsity_loss : 0.20959, total_loss : 0.07034\n",
      "epoch : 11, Train MSE : 0.02572, sparsity_loss : 0.12303, total_loss : 0.05033\n",
      "epoch : 12, Train MSE : 0.02338, sparsity_loss : 0.04348, total_loss : 0.03207\n",
      "epoch : 13, Train MSE : 0.02279, sparsity_loss : 0.42058, total_loss : 0.10691\n",
      "epoch : 14, Train MSE : 0.02118, sparsity_loss : 0.04354, total_loss : 0.02989\n",
      "epoch : 15, Train MSE : 0.01989, sparsity_loss : 0.06829, total_loss : 0.03354\n",
      "epoch : 16, Train MSE : 0.02005, sparsity_loss : 0.11430, total_loss : 0.04291\n",
      "epoch : 17, Train MSE : 0.02011, sparsity_loss : 0.15366, total_loss : 0.05084\n",
      "epoch : 18, Train MSE : 0.01751, sparsity_loss : 0.02826, total_loss : 0.02316\n",
      "epoch : 19, Train MSE : 0.01729, sparsity_loss : 0.03621, total_loss : 0.02454\n"
     ]
    }
   ],
   "source": [
    "# Train\n",
    "with tf.Session() as sess:\n",
    "    tf.global_variables_initializer().run()\n",
    "    n_batches = len(train_x) // batch_size\n",
    "    for epoch in range(n_epochs):\n",
    "        for iteration in range(n_batches):\n",
    "            print(\"\\r{}%\".format(100 * iteration // n_batches), end=\"\")\n",
    "            sys.stdout.flush()\n",
    "            batch_x, batch_y = next(shuffle_batch(train_x, train_y, batch_size))\n",
    "            sess.run(train_op, feed_dict={inputs: batch_x})\n",
    "        recon_loss_val, sparsity_loss_val, loss_val = sess.run([reconstruction_loss, \n",
    "                                                                sparsity_loss,\n",
    "                                                                loss], feed_dict={inputs: batch_x})\n",
    "        print('\\repoch : {}, Train MSE : {:.5f},'.format(epoch, recon_loss_val),\n",
    "               'sparsity_loss : {:.5f}, total_loss : {:.5f}'.format(sparsity_loss_val, loss_val))\n",
    "    saver.save(sess, './model/my_model_sparse.ckpt')"
   ]
  },
  {
   "cell_type": "code",
   "execution_count": 38,
   "metadata": {},
   "outputs": [
    {
     "name": "stdout",
     "output_type": "stream",
     "text": [
      "INFO:tensorflow:Restoring parameters from ./model/my_model_sparse.ckpt\n"
     ]
    },
    {
     "data": {
      "image/png": "[encoded data removed]",
      "text/plain": [
       "<Figure size 720x288 with 4 Axes>"
      ]
     },
     "metadata": {},
     "output_type": "display_data"
    }
   ],
   "source": [
    "show_reconstructed_digits(inputs, outputs, \"./model/my_model_sparse.ckpt\")"
   ]
  },
  {
   "cell_type": "markdown",
   "metadata": {},
   "source": [
    " "
   ]
  },
  {
   "cell_type": "markdown",
   "metadata": {},
   "source": [
    "## 7. Variational AutoEncoder (VAE)\n",
    "\n",
    "**VAE**(Variational AutoEncoder)는 2014년 D.Kingma와 M.Welling이 [Auto-Encoding Variational Bayes](https://arxiv.org/pdf/1312.6114v10.pdf) 논문에서 제안한 오토인코더의 한 종류이다. VAE는 위에서 살펴본 오터인코더와는 다음과 같은 다른점이 있다.\n",
    "\n",
    "- VAE는 **확률적 오토인코더**(probabilistic autoencoder)다. 즉, 학습이 끝난 후에도 출력이 부분적으로 우연에 의해 결정된다.\n",
    "- VAE는 **생성 오토인코더**(generatie autoencoder)이며, 학습 데이터셋에서 샘플링된 것과 같은 새로운 샘플을 생성할 수 있다.\n",
    "\n",
    "VAE의 구조는 아래의 그림과 같다.\n",
    "\n",
    "\n",
    "\n",
    "![](./images/vae.PNG)\n",
    "\n",
    "\n",
    "\n",
    "VAE의 코딩층은 다른 오토인코더와는 다른 부분이 있는데 주어진 입력에 대해 바로 코딩을 만드는 것이 아니라, 인코더(encoder)는 **평균 코딩** $\\mu$와 **표준편차 코딩** $\\sigma$ 을 만든다. 실제 코딩은 평균이 $\\mu$이고 표준편차가 $\\sigma$인 가우시안 분포(gaussian distribution)에서 랜덤하게 샘플링되며, 이렇게 샘플링된 코딩을 디코더(decoder)가 원본 입력으로 재구성하게 된다.\n",
    "\n",
    "VAE는 마치 가우시안 분포에서 샘플링된 것처럼 보이는 코딩을 만드는 경향이 있는데, 학습하는 동안 손실함수가 코딩(coding)을 가우시안 샘플들의 집합처럼 보이는 형태를 가진 코딩 공간(coding space) 또는 **잠재 변수 공간**(latent space)로 이동시키기 때문이다. \n",
    "\n",
    "이러한 이유로 VAE는 학습이 끝난 후에 새로운 샘플을 가우시안 분포로 부터 랜덤한 코딩을 샘플링해 디코딩해서 생성할 수 있다."
   ]
  },
  {
   "cell_type": "markdown",
   "metadata": {},
   "source": [
    " "
   ]
  },
  {
   "cell_type": "markdown",
   "metadata": {},
   "source": [
    "### 7.1 VAE의 손실함수\n",
    "\n",
    "VAE의 손실함수는 두 부분으로 구성되어 있다. 첫 번째는 오토인코더가 입력을 재구성하도록 만드는 일반적인 재구성 손실(reconstruction loss)이고, 두 번째는 가우시안 분포에서 샘플된 것 샅은 코딩을 가지도록 오토인코더를 제어하는 **latent loss**이다. 이 손실함수의 식에 대해서는 [ratsgo](https://ratsgo.github.io/generative%20model/2018/01/27/VAE/)님의 블로그를 참고하면 자세히 설명되어 있다. *(나도 언젠가 이해해서 포스팅할 날이 오기를...)*"
   ]
  },
  {
   "cell_type": "markdown",
   "metadata": {},
   "source": [
    " "
   ]
  },
  {
   "cell_type": "markdown",
   "metadata": {},
   "source": [
    "### 7.2 텐서플로 구현"
   ]
  },
  {
   "cell_type": "code",
   "execution_count": 50,
   "metadata": {},
   "outputs": [],
   "source": [
    "from functools import partial\n",
    "\n",
    "reset_graph()\n",
    "\n",
    "################\n",
    "# layer params #\n",
    "################\n",
    "n_inputs = 28 * 28\n",
    "n_hidden1 = 500\n",
    "n_hidden2 = 500\n",
    "n_hidden3 = 20  # 코딩 유닛\n",
    "n_hidden4 = n_hidden2\n",
    "n_hidden5 = n_hidden1\n",
    "n_outputs = n_inputs\n",
    "\n",
    "################\n",
    "# train params #\n",
    "################\n",
    "learning_rate = 0.001\n",
    "n_digits = 60\n",
    "n_epochs = 50\n",
    "batch_size = 150\n",
    "\n",
    "initializer = tf.variance_scaling_initializer()\n",
    "dense_layer = partial(\n",
    "    tf.layers.dense,\n",
    "    activation=tf.nn.elu, \n",
    "    kernel_initializer=initializer)\n",
    "\n",
    "\n",
    "# VAE\n",
    "inputs = tf.placeholder(tf.float32, [None, n_inputs])\n",
    "hidden1 = dense_layer(inputs, n_hidden1)\n",
    "hidden2 = dense_layer(hidden1, n_hidden2)\n",
    "hidden3_mean = dense_layer(hidden2, n_hidden3, activation=None) # mean coding\n",
    "hidden3_sigma = dense_layer(hidden2, n_hidden3, activation=None)  # sigma coding\n",
    "noise = tf.random_normal(tf.shape(hidden3_sigma), dtype=tf.float32)  # gaussian noise\n",
    "hidden3 = hidden3_mean + hidden3_sigma * noise\n",
    "hidden4 = dense_layer(hidden3, n_hidden4)\n",
    "hidden5 = dense_layer(hidden4, n_hidden5)\n",
    "logits = dense_layer(hidden5, n_outputs, activation=None)\n",
    "outputs = tf.sigmoid(logits)\n",
    "\n",
    "# loss\n",
    "eps = 1e-10  # NaN을 반환하는 log(0)을 피하기 위함\n",
    "xentropy = tf.nn.sigmoid_cross_entropy_with_logits(labels=inputs, logits=logits)\n",
    "reconstruction_loss = tf.reduce_mean(xentropy)\n",
    "latent_loss = 0.5 * tf.reduce_sum(\n",
    "    tf.square(hidden3_sigma) + tf.square(hidden3_mean)\n",
    "    - 1 - tf.log(eps + tf.square(hidden3_sigma)))\n",
    "\n",
    "loss = reconstruction_loss + latent_loss\n",
    "\n",
    "# optimizer\n",
    "train_op = tf.train.AdamOptimizer(learning_rate).minimize(loss)\n",
    "\n",
    "# saver\n",
    "saver = tf.train.Saver()"
   ]
  },
  {
   "cell_type": "code",
   "execution_count": 51,
   "metadata": {},
   "outputs": [
    {
     "name": "stdout",
     "output_type": "stream",
     "text": [
      "INFO:tensorflow:Restoring parameters from ./model/my_model_variational.ckpt\n",
      "epoch : 0, Train MSE : 0.26063, latent_loss : 0.60576, total_loss : 0.86639\n",
      "epoch : 1, Train MSE : 0.26151, latent_loss : 0.71757, total_loss : 0.97909\n",
      "epoch : 2, Train MSE : 0.26771, latent_loss : 0.10973, total_loss : 0.37744\n",
      "epoch : 3, Train MSE : 0.26688, latent_loss : 0.94755, total_loss : 1.21443\n",
      "epoch : 4, Train MSE : 0.26177, latent_loss : 1.11834, total_loss : 1.38011\n",
      "epoch : 5, Train MSE : 0.25747, latent_loss : 1.33966, total_loss : 1.59713\n",
      "epoch : 6, Train MSE : 0.26622, latent_loss : 1.34273, total_loss : 1.60895\n",
      "epoch : 7, Train MSE : 0.25730, latent_loss : 0.65787, total_loss : 0.91517\n",
      "epoch : 8, Train MSE : 0.26304, latent_loss : 0.74869, total_loss : 1.01173\n",
      "epoch : 9, Train MSE : 0.26854, latent_loss : 0.42567, total_loss : 0.69421\n",
      "epoch : 10, Train MSE : 0.26288, latent_loss : 0.45869, total_loss : 0.72157\n",
      "epoch : 11, Train MSE : 0.26179, latent_loss : 0.61457, total_loss : 0.87635\n",
      "epoch : 12, Train MSE : 0.26785, latent_loss : 0.43142, total_loss : 0.69928\n",
      "epoch : 13, Train MSE : 0.26827, latent_loss : 0.28753, total_loss : 0.55579\n",
      "epoch : 14, Train MSE : 0.25863, latent_loss : 1.01791, total_loss : 1.27654\n",
      "epoch : 15, Train MSE : 0.26488, latent_loss : 0.24114, total_loss : 0.50602\n",
      "epoch : 16, Train MSE : 0.26127, latent_loss : 1.17865, total_loss : 1.43992\n",
      "epoch : 17, Train MSE : 0.26446, latent_loss : 0.65872, total_loss : 0.92318\n",
      "epoch : 18, Train MSE : 0.26055, latent_loss : 0.91030, total_loss : 1.17086\n",
      "epoch : 19, Train MSE : 0.25442, latent_loss : 0.25665, total_loss : 0.51108\n",
      "epoch : 20, Train MSE : 0.26781, latent_loss : 0.85470, total_loss : 1.12251\n",
      "epoch : 21, Train MSE : 0.27229, latent_loss : 0.44823, total_loss : 0.72052\n",
      "epoch : 22, Train MSE : 0.27089, latent_loss : 0.74906, total_loss : 1.01995\n",
      "epoch : 23, Train MSE : 0.26684, latent_loss : 0.98097, total_loss : 1.24781\n",
      "epoch : 24, Train MSE : 0.27157, latent_loss : 1.00599, total_loss : 1.27755\n",
      "epoch : 25, Train MSE : 0.26000, latent_loss : 0.10444, total_loss : 0.36444\n",
      "epoch : 26, Train MSE : 0.25855, latent_loss : 7.06646, total_loss : 7.32500\n",
      "epoch : 27, Train MSE : 0.26143, latent_loss : 0.66340, total_loss : 0.92483\n",
      "epoch : 28, Train MSE : 0.26945, latent_loss : 0.41205, total_loss : 0.68149\n",
      "epoch : 29, Train MSE : 0.26489, latent_loss : 0.21647, total_loss : 0.48136\n",
      "epoch : 30, Train MSE : 0.26351, latent_loss : 0.27383, total_loss : 0.53734\n",
      "epoch : 31, Train MSE : 0.26298, latent_loss : 0.67506, total_loss : 0.93804\n",
      "epoch : 32, Train MSE : 0.26102, latent_loss : 1.52434, total_loss : 1.78536\n",
      "epoch : 33, Train MSE : 0.25795, latent_loss : 0.44301, total_loss : 0.70096\n",
      "epoch : 34, Train MSE : 0.25621, latent_loss : 1.32298, total_loss : 1.57919\n",
      "epoch : 35, Train MSE : 0.25354, latent_loss : 0.47662, total_loss : 0.73016\n",
      "epoch : 36, Train MSE : 0.25662, latent_loss : 0.43677, total_loss : 0.69339\n",
      "epoch : 37, Train MSE : 0.26192, latent_loss : 1.14718, total_loss : 1.40910\n",
      "epoch : 38, Train MSE : 0.25749, latent_loss : 0.81986, total_loss : 1.07735\n",
      "epoch : 39, Train MSE : 0.26345, latent_loss : 1.24207, total_loss : 1.50552\n",
      "epoch : 40, Train MSE : 0.27022, latent_loss : 0.43667, total_loss : 0.70689\n",
      "epoch : 41, Train MSE : 0.26899, latent_loss : 0.44414, total_loss : 0.71313\n",
      "epoch : 42, Train MSE : 0.26244, latent_loss : 1.00718, total_loss : 1.26963\n",
      "epoch : 43, Train MSE : 0.26031, latent_loss : 1.65527, total_loss : 1.91557\n",
      "epoch : 44, Train MSE : 0.25723, latent_loss : 0.14633, total_loss : 0.40356\n",
      "epoch : 45, Train MSE : 0.26391, latent_loss : 0.67680, total_loss : 0.94071\n",
      "epoch : 46, Train MSE : 0.26753, latent_loss : 0.60105, total_loss : 0.86857\n",
      "epoch : 47, Train MSE : 0.25774, latent_loss : 0.45527, total_loss : 0.71301\n",
      "epoch : 48, Train MSE : 0.25218, latent_loss : 0.16658, total_loss : 0.41876\n",
      "epoch : 49, Train MSE : 0.27073, latent_loss : 2.16263, total_loss : 2.43337\n"
     ]
    }
   ],
   "source": [
    "# train\n",
    "with tf.Session() as sess:\n",
    "    tf.global_variables_initializer().run()\n",
    "    saver.restore(sess, './model/my_model_variational.ckpt')\n",
    "    n_batches = len(train_x) // batch_size\n",
    "    for epoch in range(n_epochs):\n",
    "        for iteration in range(n_batches):\n",
    "            print(\"\\r{}%\".format(100 * iteration // n_batches), end=\"\")\n",
    "            sys.stdout.flush()\n",
    "            batch_x, batch_y = next(shuffle_batch(train_x, train_y, batch_size))\n",
    "            sess.run(train_op, feed_dict={inputs: batch_x})\n",
    "        recon_loss_val, latent_loss_val, loss_val = sess.run([reconstruction_loss, \n",
    "                                                              latent_loss,\n",
    "                                                              loss], feed_dict={inputs: batch_x})\n",
    "        print('\\repoch : {}, Train MSE : {:.5f},'.format(epoch, recon_loss_val),\n",
    "               'latent_loss : {:.5f}, total_loss : {:.5f}'.format(latent_loss_val, loss_val))\n",
    "    saver.save(sess, './model/my_model_variational.ckpt')\n",
    "    codings_rnd = np.random.normal(size=[n_digits, n_hidden3])\n",
    "    outputs_val = outputs.eval(feed_dict={hidden3: codings_rnd})"
   ]
  },
  {
   "cell_type": "code",
   "execution_count": 52,
   "metadata": {},
   "outputs": [
    {
     "data": {
      "image/png": "[encoded data removed]",
      "text/plain": [
       "<Figure size 576x3600 with 60 Axes>"
      ]
     },
     "metadata": {},
     "output_type": "display_data"
    }
   ],
   "source": [
    "plt.figure(figsize=(8,50))\n",
    "for iteration in range(n_digits):\n",
    "    plt.subplot(n_digits, 10, iteration + 1)\n",
    "    plot_image(outputs_val[iteration])"
   ]
  },
  {
   "cell_type": "markdown",
   "metadata": {},
   "source": [
    " "
   ]
  },
  {
   "cell_type": "markdown",
   "metadata": {},
   "source": [
    "## 8. 마무리\n",
    "\n",
    "이번 포스팅에서는 자기지도학습(self-supervised learning)인 오토인코더에 대해 개념과 uncomplete, stacked, denoising, sparse, VAE 오토인코더에 대해 알아보았다."
   ]
  },
  {
   "cell_type": "code",
   "execution_count": null,
   "metadata": {},
   "outputs": [],
   "source": []
  }
 ],
 "metadata": {
  "kernelspec": {
   "display_name": "tensorflow",
   "language": "python",
   "name": "tensorflow"
  },
  "language_info": {
   "codemirror_mode": {
    "name": "ipython",
    "version": 3
   },
   "file_extension": ".py",
   "mimetype": "text/x-python",
   "name": "python",
   "nbconvert_exporter": "python",
   "pygments_lexer": "ipython3",
   "version": "3.6.5"
  }
 },
 "nbformat": 4,
 "nbformat_minor": 2
}
